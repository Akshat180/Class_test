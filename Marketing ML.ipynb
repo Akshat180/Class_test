{
 "cells": [
  {
   "cell_type": "code",
   "execution_count": 1,
   "id": "7c962b91",
   "metadata": {},
   "outputs": [],
   "source": [
    "import pandas as pd\n",
    "import matplotlib.pyplot as plt\n",
    "import seaborn as sns\n",
    "import numpy as np\n",
    "from sklearn.model_selection import train_test_split\n",
    "from sklearn.metrics import accuracy_score\n",
    "from sklearn import datasets\n",
    "from sklearn import svm\n",
    "from sklearn.tree import DecisionTreeClassifier\n",
    "from sklearn.naive_bayes import GaussianNB"
   ]
  },
  {
   "cell_type": "code",
   "execution_count": 2,
   "id": "08745ef5",
   "metadata": {},
   "outputs": [
    {
     "data": {
      "text/html": [
       "<div>\n",
       "<style scoped>\n",
       "    .dataframe tbody tr th:only-of-type {\n",
       "        vertical-align: middle;\n",
       "    }\n",
       "\n",
       "    .dataframe tbody tr th {\n",
       "        vertical-align: top;\n",
       "    }\n",
       "\n",
       "    .dataframe thead th {\n",
       "        text-align: right;\n",
       "    }\n",
       "</style>\n",
       "<table border=\"1\" class=\"dataframe\">\n",
       "  <thead>\n",
       "    <tr style=\"text-align: right;\">\n",
       "      <th></th>\n",
       "      <th>ID</th>\n",
       "      <th>Year_Birth</th>\n",
       "      <th>Education</th>\n",
       "      <th>Marital_Status</th>\n",
       "      <th>Income</th>\n",
       "      <th>Kidhome</th>\n",
       "      <th>Teenhome</th>\n",
       "      <th>Dt_Customer</th>\n",
       "      <th>Recency</th>\n",
       "      <th>MntWines</th>\n",
       "      <th>...</th>\n",
       "      <th>NumStorePurchases</th>\n",
       "      <th>NumWebVisitsMonth</th>\n",
       "      <th>AcceptedCmp3</th>\n",
       "      <th>AcceptedCmp4</th>\n",
       "      <th>AcceptedCmp5</th>\n",
       "      <th>AcceptedCmp1</th>\n",
       "      <th>AcceptedCmp2</th>\n",
       "      <th>Response</th>\n",
       "      <th>Complain</th>\n",
       "      <th>Country</th>\n",
       "    </tr>\n",
       "  </thead>\n",
       "  <tbody>\n",
       "    <tr>\n",
       "      <th>0</th>\n",
       "      <td>1826</td>\n",
       "      <td>1970</td>\n",
       "      <td>Graduation</td>\n",
       "      <td>Divorced</td>\n",
       "      <td>$84,835.00</td>\n",
       "      <td>0</td>\n",
       "      <td>0</td>\n",
       "      <td>6/16/14</td>\n",
       "      <td>0</td>\n",
       "      <td>189</td>\n",
       "      <td>...</td>\n",
       "      <td>6</td>\n",
       "      <td>1</td>\n",
       "      <td>0</td>\n",
       "      <td>0</td>\n",
       "      <td>0</td>\n",
       "      <td>0</td>\n",
       "      <td>0</td>\n",
       "      <td>1</td>\n",
       "      <td>0</td>\n",
       "      <td>SP</td>\n",
       "    </tr>\n",
       "    <tr>\n",
       "      <th>1</th>\n",
       "      <td>1</td>\n",
       "      <td>1961</td>\n",
       "      <td>Graduation</td>\n",
       "      <td>Single</td>\n",
       "      <td>$57,091.00</td>\n",
       "      <td>0</td>\n",
       "      <td>0</td>\n",
       "      <td>6/15/14</td>\n",
       "      <td>0</td>\n",
       "      <td>464</td>\n",
       "      <td>...</td>\n",
       "      <td>7</td>\n",
       "      <td>5</td>\n",
       "      <td>0</td>\n",
       "      <td>0</td>\n",
       "      <td>0</td>\n",
       "      <td>0</td>\n",
       "      <td>1</td>\n",
       "      <td>1</td>\n",
       "      <td>0</td>\n",
       "      <td>CA</td>\n",
       "    </tr>\n",
       "    <tr>\n",
       "      <th>2</th>\n",
       "      <td>10476</td>\n",
       "      <td>1958</td>\n",
       "      <td>Graduation</td>\n",
       "      <td>Married</td>\n",
       "      <td>$67,267.00</td>\n",
       "      <td>0</td>\n",
       "      <td>1</td>\n",
       "      <td>5/13/14</td>\n",
       "      <td>0</td>\n",
       "      <td>134</td>\n",
       "      <td>...</td>\n",
       "      <td>5</td>\n",
       "      <td>2</td>\n",
       "      <td>0</td>\n",
       "      <td>0</td>\n",
       "      <td>0</td>\n",
       "      <td>0</td>\n",
       "      <td>0</td>\n",
       "      <td>0</td>\n",
       "      <td>0</td>\n",
       "      <td>US</td>\n",
       "    </tr>\n",
       "    <tr>\n",
       "      <th>3</th>\n",
       "      <td>1386</td>\n",
       "      <td>1967</td>\n",
       "      <td>Graduation</td>\n",
       "      <td>Together</td>\n",
       "      <td>$32,474.00</td>\n",
       "      <td>1</td>\n",
       "      <td>1</td>\n",
       "      <td>5/11/14</td>\n",
       "      <td>0</td>\n",
       "      <td>10</td>\n",
       "      <td>...</td>\n",
       "      <td>2</td>\n",
       "      <td>7</td>\n",
       "      <td>0</td>\n",
       "      <td>0</td>\n",
       "      <td>0</td>\n",
       "      <td>0</td>\n",
       "      <td>0</td>\n",
       "      <td>0</td>\n",
       "      <td>0</td>\n",
       "      <td>AUS</td>\n",
       "    </tr>\n",
       "    <tr>\n",
       "      <th>4</th>\n",
       "      <td>5371</td>\n",
       "      <td>1989</td>\n",
       "      <td>Graduation</td>\n",
       "      <td>Single</td>\n",
       "      <td>$21,474.00</td>\n",
       "      <td>1</td>\n",
       "      <td>0</td>\n",
       "      <td>4/8/14</td>\n",
       "      <td>0</td>\n",
       "      <td>6</td>\n",
       "      <td>...</td>\n",
       "      <td>2</td>\n",
       "      <td>7</td>\n",
       "      <td>1</td>\n",
       "      <td>0</td>\n",
       "      <td>0</td>\n",
       "      <td>0</td>\n",
       "      <td>0</td>\n",
       "      <td>1</td>\n",
       "      <td>0</td>\n",
       "      <td>SP</td>\n",
       "    </tr>\n",
       "    <tr>\n",
       "      <th>...</th>\n",
       "      <td>...</td>\n",
       "      <td>...</td>\n",
       "      <td>...</td>\n",
       "      <td>...</td>\n",
       "      <td>...</td>\n",
       "      <td>...</td>\n",
       "      <td>...</td>\n",
       "      <td>...</td>\n",
       "      <td>...</td>\n",
       "      <td>...</td>\n",
       "      <td>...</td>\n",
       "      <td>...</td>\n",
       "      <td>...</td>\n",
       "      <td>...</td>\n",
       "      <td>...</td>\n",
       "      <td>...</td>\n",
       "      <td>...</td>\n",
       "      <td>...</td>\n",
       "      <td>...</td>\n",
       "      <td>...</td>\n",
       "      <td>...</td>\n",
       "    </tr>\n",
       "    <tr>\n",
       "      <th>2235</th>\n",
       "      <td>10142</td>\n",
       "      <td>1976</td>\n",
       "      <td>PhD</td>\n",
       "      <td>Divorced</td>\n",
       "      <td>$66,476.00</td>\n",
       "      <td>0</td>\n",
       "      <td>1</td>\n",
       "      <td>3/7/13</td>\n",
       "      <td>99</td>\n",
       "      <td>372</td>\n",
       "      <td>...</td>\n",
       "      <td>11</td>\n",
       "      <td>4</td>\n",
       "      <td>0</td>\n",
       "      <td>0</td>\n",
       "      <td>0</td>\n",
       "      <td>0</td>\n",
       "      <td>0</td>\n",
       "      <td>0</td>\n",
       "      <td>0</td>\n",
       "      <td>US</td>\n",
       "    </tr>\n",
       "    <tr>\n",
       "      <th>2236</th>\n",
       "      <td>5263</td>\n",
       "      <td>1977</td>\n",
       "      <td>2n Cycle</td>\n",
       "      <td>Married</td>\n",
       "      <td>$31,056.00</td>\n",
       "      <td>1</td>\n",
       "      <td>0</td>\n",
       "      <td>1/22/13</td>\n",
       "      <td>99</td>\n",
       "      <td>5</td>\n",
       "      <td>...</td>\n",
       "      <td>3</td>\n",
       "      <td>8</td>\n",
       "      <td>0</td>\n",
       "      <td>0</td>\n",
       "      <td>0</td>\n",
       "      <td>0</td>\n",
       "      <td>0</td>\n",
       "      <td>0</td>\n",
       "      <td>0</td>\n",
       "      <td>SP</td>\n",
       "    </tr>\n",
       "    <tr>\n",
       "      <th>2237</th>\n",
       "      <td>22</td>\n",
       "      <td>1976</td>\n",
       "      <td>Graduation</td>\n",
       "      <td>Divorced</td>\n",
       "      <td>$46,310.00</td>\n",
       "      <td>1</td>\n",
       "      <td>0</td>\n",
       "      <td>12/3/12</td>\n",
       "      <td>99</td>\n",
       "      <td>185</td>\n",
       "      <td>...</td>\n",
       "      <td>5</td>\n",
       "      <td>8</td>\n",
       "      <td>0</td>\n",
       "      <td>0</td>\n",
       "      <td>0</td>\n",
       "      <td>0</td>\n",
       "      <td>0</td>\n",
       "      <td>0</td>\n",
       "      <td>0</td>\n",
       "      <td>SP</td>\n",
       "    </tr>\n",
       "    <tr>\n",
       "      <th>2238</th>\n",
       "      <td>528</td>\n",
       "      <td>1978</td>\n",
       "      <td>Graduation</td>\n",
       "      <td>Married</td>\n",
       "      <td>$65,819.00</td>\n",
       "      <td>0</td>\n",
       "      <td>0</td>\n",
       "      <td>11/29/12</td>\n",
       "      <td>99</td>\n",
       "      <td>267</td>\n",
       "      <td>...</td>\n",
       "      <td>10</td>\n",
       "      <td>3</td>\n",
       "      <td>0</td>\n",
       "      <td>0</td>\n",
       "      <td>0</td>\n",
       "      <td>0</td>\n",
       "      <td>0</td>\n",
       "      <td>0</td>\n",
       "      <td>0</td>\n",
       "      <td>IND</td>\n",
       "    </tr>\n",
       "    <tr>\n",
       "      <th>2239</th>\n",
       "      <td>4070</td>\n",
       "      <td>1969</td>\n",
       "      <td>PhD</td>\n",
       "      <td>Married</td>\n",
       "      <td>$94,871.00</td>\n",
       "      <td>0</td>\n",
       "      <td>2</td>\n",
       "      <td>9/1/12</td>\n",
       "      <td>99</td>\n",
       "      <td>169</td>\n",
       "      <td>...</td>\n",
       "      <td>4</td>\n",
       "      <td>7</td>\n",
       "      <td>0</td>\n",
       "      <td>1</td>\n",
       "      <td>1</td>\n",
       "      <td>0</td>\n",
       "      <td>0</td>\n",
       "      <td>1</td>\n",
       "      <td>0</td>\n",
       "      <td>CA</td>\n",
       "    </tr>\n",
       "  </tbody>\n",
       "</table>\n",
       "<p>2240 rows × 28 columns</p>\n",
       "</div>"
      ],
      "text/plain": [
       "         ID  Year_Birth   Education Marital_Status      Income   Kidhome   \n",
       "0      1826        1970  Graduation       Divorced  $84,835.00         0  \\\n",
       "1         1        1961  Graduation         Single  $57,091.00         0   \n",
       "2     10476        1958  Graduation        Married  $67,267.00         0   \n",
       "3      1386        1967  Graduation       Together  $32,474.00         1   \n",
       "4      5371        1989  Graduation         Single  $21,474.00         1   \n",
       "...     ...         ...         ...            ...          ...      ...   \n",
       "2235  10142        1976         PhD       Divorced  $66,476.00         0   \n",
       "2236   5263        1977    2n Cycle        Married  $31,056.00         1   \n",
       "2237     22        1976  Graduation       Divorced  $46,310.00         1   \n",
       "2238    528        1978  Graduation        Married  $65,819.00         0   \n",
       "2239   4070        1969         PhD        Married  $94,871.00         0   \n",
       "\n",
       "      Teenhome Dt_Customer  Recency  MntWines  ...  NumStorePurchases   \n",
       "0            0     6/16/14        0       189  ...                  6  \\\n",
       "1            0     6/15/14        0       464  ...                  7   \n",
       "2            1     5/13/14        0       134  ...                  5   \n",
       "3            1     5/11/14        0        10  ...                  2   \n",
       "4            0      4/8/14        0         6  ...                  2   \n",
       "...        ...         ...      ...       ...  ...                ...   \n",
       "2235         1      3/7/13       99       372  ...                 11   \n",
       "2236         0     1/22/13       99         5  ...                  3   \n",
       "2237         0     12/3/12       99       185  ...                  5   \n",
       "2238         0    11/29/12       99       267  ...                 10   \n",
       "2239         2      9/1/12       99       169  ...                  4   \n",
       "\n",
       "      NumWebVisitsMonth  AcceptedCmp3  AcceptedCmp4  AcceptedCmp5   \n",
       "0                     1             0             0             0  \\\n",
       "1                     5             0             0             0   \n",
       "2                     2             0             0             0   \n",
       "3                     7             0             0             0   \n",
       "4                     7             1             0             0   \n",
       "...                 ...           ...           ...           ...   \n",
       "2235                  4             0             0             0   \n",
       "2236                  8             0             0             0   \n",
       "2237                  8             0             0             0   \n",
       "2238                  3             0             0             0   \n",
       "2239                  7             0             1             1   \n",
       "\n",
       "      AcceptedCmp1  AcceptedCmp2  Response  Complain  Country  \n",
       "0                0             0         1         0       SP  \n",
       "1                0             1         1         0       CA  \n",
       "2                0             0         0         0       US  \n",
       "3                0             0         0         0      AUS  \n",
       "4                0             0         1         0       SP  \n",
       "...            ...           ...       ...       ...      ...  \n",
       "2235             0             0         0         0       US  \n",
       "2236             0             0         0         0       SP  \n",
       "2237             0             0         0         0       SP  \n",
       "2238             0             0         0         0      IND  \n",
       "2239             0             0         1         0       CA  \n",
       "\n",
       "[2240 rows x 28 columns]"
      ]
     },
     "execution_count": 2,
     "metadata": {},
     "output_type": "execute_result"
    }
   ],
   "source": [
    "df=pd.read_csv(r'C:\\Users\\welcomm\\Documents\\EDA for analysis\\marketing_data.csv')\n",
    "df"
   ]
  },
  {
   "cell_type": "code",
   "execution_count": 3,
   "id": "d2dbd806",
   "metadata": {},
   "outputs": [
    {
     "data": {
      "text/plain": [
       "Index(['ID', 'Year_Birth', 'Education', 'Marital_Status', ' Income ',\n",
       "       'Kidhome', 'Teenhome', 'Dt_Customer', 'Recency', 'MntWines',\n",
       "       'MntFruits', 'MntMeatProducts', 'MntFishProducts', 'MntSweetProducts',\n",
       "       'MntGoldProds', 'NumDealsPurchases', 'NumWebPurchases',\n",
       "       'NumCatalogPurchases', 'NumStorePurchases', 'NumWebVisitsMonth',\n",
       "       'AcceptedCmp3', 'AcceptedCmp4', 'AcceptedCmp5', 'AcceptedCmp1',\n",
       "       'AcceptedCmp2', 'Response', 'Complain', 'Country'],\n",
       "      dtype='object')"
      ]
     },
     "execution_count": 3,
     "metadata": {},
     "output_type": "execute_result"
    }
   ],
   "source": [
    "df.columns"
   ]
  },
  {
   "cell_type": "code",
   "execution_count": 4,
   "id": "cd112916",
   "metadata": {},
   "outputs": [
    {
     "data": {
      "text/plain": [
       "0"
      ]
     },
     "execution_count": 4,
     "metadata": {},
     "output_type": "execute_result"
    }
   ],
   "source": [
    "df.duplicated().sum()"
   ]
  },
  {
   "cell_type": "code",
   "execution_count": 5,
   "id": "f4493ac5",
   "metadata": {},
   "outputs": [
    {
     "data": {
      "text/plain": [
       "0       84835.0\n",
       "1       57091.0\n",
       "2       67267.0\n",
       "3       32474.0\n",
       "4       21474.0\n",
       "         ...   \n",
       "2235    66476.0\n",
       "2236    31056.0\n",
       "2237    46310.0\n",
       "2238    65819.0\n",
       "2239    94871.0\n",
       "Name:  Income , Length: 2240, dtype: float64"
      ]
     },
     "execution_count": 5,
     "metadata": {},
     "output_type": "execute_result"
    }
   ],
   "source": [
    "df[' Income ']=df[' Income '].str.replace('$',\"\")\n",
    "df[' Income ']=df[' Income '].str.replace(',',\"\").astype(float)\n",
    "df[' Income ']"
   ]
  },
  {
   "cell_type": "code",
   "execution_count": 6,
   "id": "7d68938b",
   "metadata": {},
   "outputs": [],
   "source": [
    "df.rename(columns={' Income ': 'Income'},inplace=True)"
   ]
  },
  {
   "cell_type": "code",
   "execution_count": 7,
   "id": "e8cf281e",
   "metadata": {},
   "outputs": [
    {
     "data": {
      "text/plain": [
       "ID                      0\n",
       "Year_Birth              0\n",
       "Education               0\n",
       "Marital_Status          0\n",
       "Income                 24\n",
       "Kidhome                 0\n",
       "Teenhome                0\n",
       "Dt_Customer             0\n",
       "Recency                 0\n",
       "MntWines                0\n",
       "MntFruits               0\n",
       "MntMeatProducts         0\n",
       "MntFishProducts         0\n",
       "MntSweetProducts        0\n",
       "MntGoldProds            0\n",
       "NumDealsPurchases       0\n",
       "NumWebPurchases         0\n",
       "NumCatalogPurchases     0\n",
       "NumStorePurchases       0\n",
       "NumWebVisitsMonth       0\n",
       "AcceptedCmp3            0\n",
       "AcceptedCmp4            0\n",
       "AcceptedCmp5            0\n",
       "AcceptedCmp1            0\n",
       "AcceptedCmp2            0\n",
       "Response                0\n",
       "Complain                0\n",
       "Country                 0\n",
       "dtype: int64"
      ]
     },
     "execution_count": 7,
     "metadata": {},
     "output_type": "execute_result"
    }
   ],
   "source": [
    "df.isnull().sum()"
   ]
  },
  {
   "cell_type": "code",
   "execution_count": 8,
   "id": "a5127fe9",
   "metadata": {},
   "outputs": [
    {
     "data": {
      "text/plain": [
       "Marital_Status\n",
       "Married     864\n",
       "Together    580\n",
       "Single      480\n",
       "Divorced    232\n",
       "Widow        77\n",
       "Alone         3\n",
       "YOLO          2\n",
       "Absurd        2\n",
       "Name: count, dtype: int64"
      ]
     },
     "execution_count": 8,
     "metadata": {},
     "output_type": "execute_result"
    }
   ],
   "source": [
    "df['Marital_Status'].value_counts()"
   ]
  },
  {
   "cell_type": "code",
   "execution_count": 9,
   "id": "f586f946",
   "metadata": {},
   "outputs": [],
   "source": [
    "df['Marital_Status']=df['Marital_Status'].replace(['YOLO','Alone', 'Absurd'], 'Others')"
   ]
  },
  {
   "cell_type": "code",
   "execution_count": 10,
   "id": "475da0fa",
   "metadata": {},
   "outputs": [
    {
     "data": {
      "text/plain": [
       "array(['Divorced', 'Single', 'Married', 'Together', 'Widow', 'Others'],\n",
       "      dtype=object)"
      ]
     },
     "execution_count": 10,
     "metadata": {},
     "output_type": "execute_result"
    }
   ],
   "source": [
    "df['Marital_Status'].unique()"
   ]
  },
  {
   "cell_type": "code",
   "execution_count": 11,
   "id": "36827f69",
   "metadata": {},
   "outputs": [
    {
     "data": {
      "text/plain": [
       "7"
      ]
     },
     "execution_count": 11,
     "metadata": {},
     "output_type": "execute_result"
    }
   ],
   "source": [
    "df[df['Marital_Status']=='Married']['Income'].isna().sum()"
   ]
  },
  {
   "cell_type": "code",
   "execution_count": 12,
   "id": "7c1b01b1",
   "metadata": {
    "scrolled": true
   },
   "outputs": [
    {
     "name": "stdout",
     "output_type": "stream",
     "text": [
      "Divorced is mean 52834.22844827586\n",
      "Single is mean 50995.35031847134\n",
      "Married is mean 51724.97899649942\n",
      "Together is mean 53245.53403141361\n",
      "Widow is mean 56481.55263157895\n",
      "Others is mean 53280.28571428572\n"
     ]
    },
    {
     "data": {
      "text/html": [
       "<div>\n",
       "<style scoped>\n",
       "    .dataframe tbody tr th:only-of-type {\n",
       "        vertical-align: middle;\n",
       "    }\n",
       "\n",
       "    .dataframe tbody tr th {\n",
       "        vertical-align: top;\n",
       "    }\n",
       "\n",
       "    .dataframe thead th {\n",
       "        text-align: right;\n",
       "    }\n",
       "</style>\n",
       "<table border=\"1\" class=\"dataframe\">\n",
       "  <thead>\n",
       "    <tr style=\"text-align: right;\">\n",
       "      <th></th>\n",
       "      <th>ID</th>\n",
       "      <th>Year_Birth</th>\n",
       "      <th>Education</th>\n",
       "      <th>Marital_Status</th>\n",
       "      <th>Income</th>\n",
       "      <th>Kidhome</th>\n",
       "      <th>Teenhome</th>\n",
       "      <th>Dt_Customer</th>\n",
       "      <th>Recency</th>\n",
       "      <th>MntWines</th>\n",
       "      <th>...</th>\n",
       "      <th>NumStorePurchases</th>\n",
       "      <th>NumWebVisitsMonth</th>\n",
       "      <th>AcceptedCmp3</th>\n",
       "      <th>AcceptedCmp4</th>\n",
       "      <th>AcceptedCmp5</th>\n",
       "      <th>AcceptedCmp1</th>\n",
       "      <th>AcceptedCmp2</th>\n",
       "      <th>Response</th>\n",
       "      <th>Complain</th>\n",
       "      <th>Country</th>\n",
       "    </tr>\n",
       "  </thead>\n",
       "  <tbody>\n",
       "    <tr>\n",
       "      <th>0</th>\n",
       "      <td>1826</td>\n",
       "      <td>1970</td>\n",
       "      <td>Graduation</td>\n",
       "      <td>Divorced</td>\n",
       "      <td>84835.0</td>\n",
       "      <td>0</td>\n",
       "      <td>0</td>\n",
       "      <td>6/16/14</td>\n",
       "      <td>0</td>\n",
       "      <td>189</td>\n",
       "      <td>...</td>\n",
       "      <td>6</td>\n",
       "      <td>1</td>\n",
       "      <td>0</td>\n",
       "      <td>0</td>\n",
       "      <td>0</td>\n",
       "      <td>0</td>\n",
       "      <td>0</td>\n",
       "      <td>1</td>\n",
       "      <td>0</td>\n",
       "      <td>SP</td>\n",
       "    </tr>\n",
       "    <tr>\n",
       "      <th>1</th>\n",
       "      <td>1</td>\n",
       "      <td>1961</td>\n",
       "      <td>Graduation</td>\n",
       "      <td>Single</td>\n",
       "      <td>57091.0</td>\n",
       "      <td>0</td>\n",
       "      <td>0</td>\n",
       "      <td>6/15/14</td>\n",
       "      <td>0</td>\n",
       "      <td>464</td>\n",
       "      <td>...</td>\n",
       "      <td>7</td>\n",
       "      <td>5</td>\n",
       "      <td>0</td>\n",
       "      <td>0</td>\n",
       "      <td>0</td>\n",
       "      <td>0</td>\n",
       "      <td>1</td>\n",
       "      <td>1</td>\n",
       "      <td>0</td>\n",
       "      <td>CA</td>\n",
       "    </tr>\n",
       "    <tr>\n",
       "      <th>2</th>\n",
       "      <td>10476</td>\n",
       "      <td>1958</td>\n",
       "      <td>Graduation</td>\n",
       "      <td>Married</td>\n",
       "      <td>67267.0</td>\n",
       "      <td>0</td>\n",
       "      <td>1</td>\n",
       "      <td>5/13/14</td>\n",
       "      <td>0</td>\n",
       "      <td>134</td>\n",
       "      <td>...</td>\n",
       "      <td>5</td>\n",
       "      <td>2</td>\n",
       "      <td>0</td>\n",
       "      <td>0</td>\n",
       "      <td>0</td>\n",
       "      <td>0</td>\n",
       "      <td>0</td>\n",
       "      <td>0</td>\n",
       "      <td>0</td>\n",
       "      <td>US</td>\n",
       "    </tr>\n",
       "    <tr>\n",
       "      <th>3</th>\n",
       "      <td>1386</td>\n",
       "      <td>1967</td>\n",
       "      <td>Graduation</td>\n",
       "      <td>Together</td>\n",
       "      <td>32474.0</td>\n",
       "      <td>1</td>\n",
       "      <td>1</td>\n",
       "      <td>5/11/14</td>\n",
       "      <td>0</td>\n",
       "      <td>10</td>\n",
       "      <td>...</td>\n",
       "      <td>2</td>\n",
       "      <td>7</td>\n",
       "      <td>0</td>\n",
       "      <td>0</td>\n",
       "      <td>0</td>\n",
       "      <td>0</td>\n",
       "      <td>0</td>\n",
       "      <td>0</td>\n",
       "      <td>0</td>\n",
       "      <td>AUS</td>\n",
       "    </tr>\n",
       "    <tr>\n",
       "      <th>4</th>\n",
       "      <td>5371</td>\n",
       "      <td>1989</td>\n",
       "      <td>Graduation</td>\n",
       "      <td>Single</td>\n",
       "      <td>21474.0</td>\n",
       "      <td>1</td>\n",
       "      <td>0</td>\n",
       "      <td>4/8/14</td>\n",
       "      <td>0</td>\n",
       "      <td>6</td>\n",
       "      <td>...</td>\n",
       "      <td>2</td>\n",
       "      <td>7</td>\n",
       "      <td>1</td>\n",
       "      <td>0</td>\n",
       "      <td>0</td>\n",
       "      <td>0</td>\n",
       "      <td>0</td>\n",
       "      <td>1</td>\n",
       "      <td>0</td>\n",
       "      <td>SP</td>\n",
       "    </tr>\n",
       "  </tbody>\n",
       "</table>\n",
       "<p>5 rows × 28 columns</p>\n",
       "</div>"
      ],
      "text/plain": [
       "      ID  Year_Birth   Education Marital_Status   Income  Kidhome  Teenhome   \n",
       "0   1826        1970  Graduation       Divorced  84835.0        0         0  \\\n",
       "1      1        1961  Graduation         Single  57091.0        0         0   \n",
       "2  10476        1958  Graduation        Married  67267.0        0         1   \n",
       "3   1386        1967  Graduation       Together  32474.0        1         1   \n",
       "4   5371        1989  Graduation         Single  21474.0        1         0   \n",
       "\n",
       "  Dt_Customer  Recency  MntWines  ...  NumStorePurchases  NumWebVisitsMonth   \n",
       "0     6/16/14        0       189  ...                  6                  1  \\\n",
       "1     6/15/14        0       464  ...                  7                  5   \n",
       "2     5/13/14        0       134  ...                  5                  2   \n",
       "3     5/11/14        0        10  ...                  2                  7   \n",
       "4      4/8/14        0         6  ...                  2                  7   \n",
       "\n",
       "   AcceptedCmp3  AcceptedCmp4  AcceptedCmp5  AcceptedCmp1  AcceptedCmp2   \n",
       "0             0             0             0             0             0  \\\n",
       "1             0             0             0             0             1   \n",
       "2             0             0             0             0             0   \n",
       "3             0             0             0             0             0   \n",
       "4             1             0             0             0             0   \n",
       "\n",
       "   Response  Complain  Country  \n",
       "0         1         0       SP  \n",
       "1         1         0       CA  \n",
       "2         0         0       US  \n",
       "3         0         0      AUS  \n",
       "4         1         0       SP  \n",
       "\n",
       "[5 rows x 28 columns]"
      ]
     },
     "execution_count": 12,
     "metadata": {},
     "output_type": "execute_result"
    }
   ],
   "source": [
    "l=[]\n",
    "for i in df['Marital_Status'].unique():\n",
    "    x=df[df['Marital_Status']==i]\n",
    "    y=x.fillna(x.Income.mean())\n",
    "    l.append(y)\n",
    "    print(i,'is mean',x.Income.mean())\n",
    "    \n",
    "df2=pd.concat(l)\n",
    "df2.sort_index(axis=0,inplace=True)\n",
    "df2.head()"
   ]
  },
  {
   "cell_type": "code",
   "execution_count": 13,
   "id": "d279c00c",
   "metadata": {},
   "outputs": [
    {
     "data": {
      "text/plain": [
       "0"
      ]
     },
     "execution_count": 13,
     "metadata": {},
     "output_type": "execute_result"
    }
   ],
   "source": [
    "df2.Income.isnull().sum()"
   ]
  },
  {
   "cell_type": "code",
   "execution_count": 14,
   "id": "a133ae6e",
   "metadata": {},
   "outputs": [],
   "source": [
    "def age(x):\n",
    "    import datetime\n",
    "    today=datetime.date.today()\n",
    "    year=today.strftime('%Y')\n",
    "    y=int(year)-x\n",
    "    return y\n",
    "\n",
    "df2['Age']=df2['Year_Birth'].apply(age)"
   ]
  },
  {
   "cell_type": "code",
   "execution_count": 15,
   "id": "e16dda21",
   "metadata": {},
   "outputs": [
    {
     "data": {
      "text/html": [
       "<div>\n",
       "<style scoped>\n",
       "    .dataframe tbody tr th:only-of-type {\n",
       "        vertical-align: middle;\n",
       "    }\n",
       "\n",
       "    .dataframe tbody tr th {\n",
       "        vertical-align: top;\n",
       "    }\n",
       "\n",
       "    .dataframe thead th {\n",
       "        text-align: right;\n",
       "    }\n",
       "</style>\n",
       "<table border=\"1\" class=\"dataframe\">\n",
       "  <thead>\n",
       "    <tr style=\"text-align: right;\">\n",
       "      <th></th>\n",
       "      <th>ID</th>\n",
       "      <th>Year_Birth</th>\n",
       "      <th>Education</th>\n",
       "      <th>Marital_Status</th>\n",
       "      <th>Income</th>\n",
       "      <th>Kidhome</th>\n",
       "      <th>Teenhome</th>\n",
       "      <th>Dt_Customer</th>\n",
       "      <th>Recency</th>\n",
       "      <th>MntWines</th>\n",
       "      <th>...</th>\n",
       "      <th>NumWebVisitsMonth</th>\n",
       "      <th>AcceptedCmp3</th>\n",
       "      <th>AcceptedCmp4</th>\n",
       "      <th>AcceptedCmp5</th>\n",
       "      <th>AcceptedCmp1</th>\n",
       "      <th>AcceptedCmp2</th>\n",
       "      <th>Response</th>\n",
       "      <th>Complain</th>\n",
       "      <th>Country</th>\n",
       "      <th>Age</th>\n",
       "    </tr>\n",
       "  </thead>\n",
       "  <tbody>\n",
       "    <tr>\n",
       "      <th>575</th>\n",
       "      <td>4310</td>\n",
       "      <td>1944</td>\n",
       "      <td>Graduation</td>\n",
       "      <td>Married</td>\n",
       "      <td>80589.0</td>\n",
       "      <td>0</td>\n",
       "      <td>0</td>\n",
       "      <td>1/22/14</td>\n",
       "      <td>25</td>\n",
       "      <td>507</td>\n",
       "      <td>...</td>\n",
       "      <td>1</td>\n",
       "      <td>0</td>\n",
       "      <td>0</td>\n",
       "      <td>0</td>\n",
       "      <td>1</td>\n",
       "      <td>0</td>\n",
       "      <td>1</td>\n",
       "      <td>0</td>\n",
       "      <td>AUS</td>\n",
       "      <td>79</td>\n",
       "    </tr>\n",
       "    <tr>\n",
       "      <th>1477</th>\n",
       "      <td>9805</td>\n",
       "      <td>1953</td>\n",
       "      <td>Master</td>\n",
       "      <td>Together</td>\n",
       "      <td>56129.0</td>\n",
       "      <td>0</td>\n",
       "      <td>1</td>\n",
       "      <td>6/20/13</td>\n",
       "      <td>65</td>\n",
       "      <td>320</td>\n",
       "      <td>...</td>\n",
       "      <td>4</td>\n",
       "      <td>0</td>\n",
       "      <td>0</td>\n",
       "      <td>0</td>\n",
       "      <td>0</td>\n",
       "      <td>0</td>\n",
       "      <td>0</td>\n",
       "      <td>0</td>\n",
       "      <td>CA</td>\n",
       "      <td>70</td>\n",
       "    </tr>\n",
       "    <tr>\n",
       "      <th>1516</th>\n",
       "      <td>4597</td>\n",
       "      <td>1970</td>\n",
       "      <td>PhD</td>\n",
       "      <td>Together</td>\n",
       "      <td>82072.0</td>\n",
       "      <td>0</td>\n",
       "      <td>0</td>\n",
       "      <td>7/2/13</td>\n",
       "      <td>67</td>\n",
       "      <td>889</td>\n",
       "      <td>...</td>\n",
       "      <td>1</td>\n",
       "      <td>0</td>\n",
       "      <td>0</td>\n",
       "      <td>0</td>\n",
       "      <td>0</td>\n",
       "      <td>0</td>\n",
       "      <td>0</td>\n",
       "      <td>0</td>\n",
       "      <td>SA</td>\n",
       "      <td>53</td>\n",
       "    </tr>\n",
       "    <tr>\n",
       "      <th>280</th>\n",
       "      <td>979</td>\n",
       "      <td>1975</td>\n",
       "      <td>Graduation</td>\n",
       "      <td>Single</td>\n",
       "      <td>33249.0</td>\n",
       "      <td>1</td>\n",
       "      <td>0</td>\n",
       "      <td>2/20/13</td>\n",
       "      <td>11</td>\n",
       "      <td>6</td>\n",
       "      <td>...</td>\n",
       "      <td>6</td>\n",
       "      <td>0</td>\n",
       "      <td>0</td>\n",
       "      <td>0</td>\n",
       "      <td>0</td>\n",
       "      <td>0</td>\n",
       "      <td>0</td>\n",
       "      <td>0</td>\n",
       "      <td>SP</td>\n",
       "      <td>48</td>\n",
       "    </tr>\n",
       "    <tr>\n",
       "      <th>2188</th>\n",
       "      <td>1663</td>\n",
       "      <td>1978</td>\n",
       "      <td>PhD</td>\n",
       "      <td>Together</td>\n",
       "      <td>34043.0</td>\n",
       "      <td>1</td>\n",
       "      <td>0</td>\n",
       "      <td>10/25/13</td>\n",
       "      <td>97</td>\n",
       "      <td>20</td>\n",
       "      <td>...</td>\n",
       "      <td>9</td>\n",
       "      <td>0</td>\n",
       "      <td>0</td>\n",
       "      <td>0</td>\n",
       "      <td>0</td>\n",
       "      <td>0</td>\n",
       "      <td>0</td>\n",
       "      <td>0</td>\n",
       "      <td>SP</td>\n",
       "      <td>45</td>\n",
       "    </tr>\n",
       "  </tbody>\n",
       "</table>\n",
       "<p>5 rows × 29 columns</p>\n",
       "</div>"
      ],
      "text/plain": [
       "        ID  Year_Birth   Education Marital_Status   Income  Kidhome  Teenhome   \n",
       "575   4310        1944  Graduation        Married  80589.0        0         0  \\\n",
       "1477  9805        1953      Master       Together  56129.0        0         1   \n",
       "1516  4597        1970         PhD       Together  82072.0        0         0   \n",
       "280    979        1975  Graduation         Single  33249.0        1         0   \n",
       "2188  1663        1978         PhD       Together  34043.0        1         0   \n",
       "\n",
       "     Dt_Customer  Recency  MntWines  ...  NumWebVisitsMonth  AcceptedCmp3   \n",
       "575      1/22/14       25       507  ...                  1             0  \\\n",
       "1477     6/20/13       65       320  ...                  4             0   \n",
       "1516      7/2/13       67       889  ...                  1             0   \n",
       "280      2/20/13       11         6  ...                  6             0   \n",
       "2188    10/25/13       97        20  ...                  9             0   \n",
       "\n",
       "      AcceptedCmp4  AcceptedCmp5  AcceptedCmp1  AcceptedCmp2  Response   \n",
       "575              0             0             1             0         1  \\\n",
       "1477             0             0             0             0         0   \n",
       "1516             0             0             0             0         0   \n",
       "280              0             0             0             0         0   \n",
       "2188             0             0             0             0         0   \n",
       "\n",
       "      Complain  Country  Age  \n",
       "575          0      AUS   79  \n",
       "1477         0       CA   70  \n",
       "1516         0       SA   53  \n",
       "280          0       SP   48  \n",
       "2188         0       SP   45  \n",
       "\n",
       "[5 rows x 29 columns]"
      ]
     },
     "execution_count": 15,
     "metadata": {},
     "output_type": "execute_result"
    }
   ],
   "source": [
    "df2.sample(5)"
   ]
  },
  {
   "cell_type": "code",
   "execution_count": 16,
   "id": "5c8f13f1",
   "metadata": {},
   "outputs": [
    {
     "data": {
      "image/png": "[encoded data removed]",
      "text/plain": [
       "<Figure size 640x480 with 1 Axes>"
      ]
     },
     "metadata": {},
     "output_type": "display_data"
    }
   ],
   "source": [
    "sns.boxplot(x=df2['Age'])\n",
    "plt.title('Age')\n",
    "plt.show()"
   ]
  },
  {
   "cell_type": "code",
   "execution_count": 17,
   "id": "8c7f6403",
   "metadata": {},
   "outputs": [
    {
     "data": {
      "text/html": [
       "<div>\n",
       "<style scoped>\n",
       "    .dataframe tbody tr th:only-of-type {\n",
       "        vertical-align: middle;\n",
       "    }\n",
       "\n",
       "    .dataframe tbody tr th {\n",
       "        vertical-align: top;\n",
       "    }\n",
       "\n",
       "    .dataframe thead th {\n",
       "        text-align: right;\n",
       "    }\n",
       "</style>\n",
       "<table border=\"1\" class=\"dataframe\">\n",
       "  <thead>\n",
       "    <tr style=\"text-align: right;\">\n",
       "      <th></th>\n",
       "      <th>ID</th>\n",
       "      <th>Year_Birth</th>\n",
       "      <th>Education</th>\n",
       "      <th>Marital_Status</th>\n",
       "      <th>Income</th>\n",
       "      <th>Kidhome</th>\n",
       "      <th>Teenhome</th>\n",
       "      <th>Dt_Customer</th>\n",
       "      <th>Recency</th>\n",
       "      <th>MntWines</th>\n",
       "      <th>...</th>\n",
       "      <th>NumWebVisitsMonth</th>\n",
       "      <th>AcceptedCmp3</th>\n",
       "      <th>AcceptedCmp4</th>\n",
       "      <th>AcceptedCmp5</th>\n",
       "      <th>AcceptedCmp1</th>\n",
       "      <th>AcceptedCmp2</th>\n",
       "      <th>Response</th>\n",
       "      <th>Complain</th>\n",
       "      <th>Country</th>\n",
       "      <th>Age</th>\n",
       "    </tr>\n",
       "  </thead>\n",
       "  <tbody>\n",
       "    <tr>\n",
       "      <th>513</th>\n",
       "      <td>11004</td>\n",
       "      <td>1893</td>\n",
       "      <td>2n Cycle</td>\n",
       "      <td>Single</td>\n",
       "      <td>60182.0</td>\n",
       "      <td>0</td>\n",
       "      <td>1</td>\n",
       "      <td>5/17/14</td>\n",
       "      <td>23</td>\n",
       "      <td>8</td>\n",
       "      <td>...</td>\n",
       "      <td>4</td>\n",
       "      <td>0</td>\n",
       "      <td>0</td>\n",
       "      <td>0</td>\n",
       "      <td>0</td>\n",
       "      <td>0</td>\n",
       "      <td>0</td>\n",
       "      <td>0</td>\n",
       "      <td>SA</td>\n",
       "      <td>130</td>\n",
       "    </tr>\n",
       "    <tr>\n",
       "      <th>827</th>\n",
       "      <td>1150</td>\n",
       "      <td>1899</td>\n",
       "      <td>PhD</td>\n",
       "      <td>Together</td>\n",
       "      <td>83532.0</td>\n",
       "      <td>0</td>\n",
       "      <td>0</td>\n",
       "      <td>9/26/13</td>\n",
       "      <td>36</td>\n",
       "      <td>755</td>\n",
       "      <td>...</td>\n",
       "      <td>1</td>\n",
       "      <td>0</td>\n",
       "      <td>0</td>\n",
       "      <td>1</td>\n",
       "      <td>0</td>\n",
       "      <td>0</td>\n",
       "      <td>0</td>\n",
       "      <td>0</td>\n",
       "      <td>SP</td>\n",
       "      <td>124</td>\n",
       "    </tr>\n",
       "    <tr>\n",
       "      <th>2233</th>\n",
       "      <td>7829</td>\n",
       "      <td>1900</td>\n",
       "      <td>2n Cycle</td>\n",
       "      <td>Divorced</td>\n",
       "      <td>36640.0</td>\n",
       "      <td>1</td>\n",
       "      <td>0</td>\n",
       "      <td>9/26/13</td>\n",
       "      <td>99</td>\n",
       "      <td>15</td>\n",
       "      <td>...</td>\n",
       "      <td>5</td>\n",
       "      <td>0</td>\n",
       "      <td>0</td>\n",
       "      <td>0</td>\n",
       "      <td>0</td>\n",
       "      <td>0</td>\n",
       "      <td>0</td>\n",
       "      <td>1</td>\n",
       "      <td>IND</td>\n",
       "      <td>123</td>\n",
       "    </tr>\n",
       "  </tbody>\n",
       "</table>\n",
       "<p>3 rows × 29 columns</p>\n",
       "</div>"
      ],
      "text/plain": [
       "         ID  Year_Birth Education Marital_Status   Income  Kidhome  Teenhome   \n",
       "513   11004        1893  2n Cycle         Single  60182.0        0         1  \\\n",
       "827    1150        1899       PhD       Together  83532.0        0         0   \n",
       "2233   7829        1900  2n Cycle       Divorced  36640.0        1         0   \n",
       "\n",
       "     Dt_Customer  Recency  MntWines  ...  NumWebVisitsMonth  AcceptedCmp3   \n",
       "513      5/17/14       23         8  ...                  4             0  \\\n",
       "827      9/26/13       36       755  ...                  1             0   \n",
       "2233     9/26/13       99        15  ...                  5             0   \n",
       "\n",
       "      AcceptedCmp4  AcceptedCmp5  AcceptedCmp1  AcceptedCmp2  Response   \n",
       "513              0             0             0             0         0  \\\n",
       "827              0             1             0             0         0   \n",
       "2233             0             0             0             0         0   \n",
       "\n",
       "      Complain  Country  Age  \n",
       "513          0       SA  130  \n",
       "827          0       SP  124  \n",
       "2233         1      IND  123  \n",
       "\n",
       "[3 rows x 29 columns]"
      ]
     },
     "execution_count": 17,
     "metadata": {},
     "output_type": "execute_result"
    }
   ],
   "source": [
    "x=df2[df2.Age>120]\n",
    "x"
   ]
  },
  {
   "cell_type": "code",
   "execution_count": 18,
   "id": "450908e5",
   "metadata": {},
   "outputs": [],
   "source": [
    "df2.drop(index=x.index,axis=0,inplace=True)"
   ]
  },
  {
   "cell_type": "code",
   "execution_count": 19,
   "id": "af88c567",
   "metadata": {},
   "outputs": [
    {
     "data": {
      "image/png": "[encoded data removed]",
      "text/plain": [
       "<Figure size 640x480 with 1 Axes>"
      ]
     },
     "metadata": {},
     "output_type": "display_data"
    }
   ],
   "source": [
    "sns.boxplot(x=df2['Age'])\n",
    "plt.title('Age')\n",
    "plt.show()"
   ]
  },
  {
   "cell_type": "code",
   "execution_count": 20,
   "id": "ea359e1c",
   "metadata": {},
   "outputs": [
    {
     "data": {
      "text/html": [
       "<div>\n",
       "<style scoped>\n",
       "    .dataframe tbody tr th:only-of-type {\n",
       "        vertical-align: middle;\n",
       "    }\n",
       "\n",
       "    .dataframe tbody tr th {\n",
       "        vertical-align: top;\n",
       "    }\n",
       "\n",
       "    .dataframe thead th {\n",
       "        text-align: right;\n",
       "    }\n",
       "</style>\n",
       "<table border=\"1\" class=\"dataframe\">\n",
       "  <thead>\n",
       "    <tr style=\"text-align: right;\">\n",
       "      <th></th>\n",
       "      <th>ID</th>\n",
       "      <th>Year_Birth</th>\n",
       "      <th>Education</th>\n",
       "      <th>Marital_Status</th>\n",
       "      <th>Income</th>\n",
       "      <th>Kidhome</th>\n",
       "      <th>Teenhome</th>\n",
       "      <th>Dt_Customer</th>\n",
       "      <th>Recency</th>\n",
       "      <th>MntWines</th>\n",
       "      <th>...</th>\n",
       "      <th>NumWebVisitsMonth</th>\n",
       "      <th>AcceptedCmp3</th>\n",
       "      <th>AcceptedCmp4</th>\n",
       "      <th>AcceptedCmp5</th>\n",
       "      <th>AcceptedCmp1</th>\n",
       "      <th>AcceptedCmp2</th>\n",
       "      <th>Response</th>\n",
       "      <th>Complain</th>\n",
       "      <th>Country</th>\n",
       "      <th>Age</th>\n",
       "    </tr>\n",
       "  </thead>\n",
       "  <tbody>\n",
       "    <tr>\n",
       "      <th>0</th>\n",
       "      <td>1826</td>\n",
       "      <td>1970</td>\n",
       "      <td>Graduation</td>\n",
       "      <td>Divorced</td>\n",
       "      <td>84835.0</td>\n",
       "      <td>0</td>\n",
       "      <td>0</td>\n",
       "      <td>6/16/14</td>\n",
       "      <td>0</td>\n",
       "      <td>189</td>\n",
       "      <td>...</td>\n",
       "      <td>1</td>\n",
       "      <td>0</td>\n",
       "      <td>0</td>\n",
       "      <td>0</td>\n",
       "      <td>0</td>\n",
       "      <td>0</td>\n",
       "      <td>1</td>\n",
       "      <td>0</td>\n",
       "      <td>SP</td>\n",
       "      <td>53</td>\n",
       "    </tr>\n",
       "    <tr>\n",
       "      <th>1</th>\n",
       "      <td>1</td>\n",
       "      <td>1961</td>\n",
       "      <td>Graduation</td>\n",
       "      <td>Single</td>\n",
       "      <td>57091.0</td>\n",
       "      <td>0</td>\n",
       "      <td>0</td>\n",
       "      <td>6/15/14</td>\n",
       "      <td>0</td>\n",
       "      <td>464</td>\n",
       "      <td>...</td>\n",
       "      <td>5</td>\n",
       "      <td>0</td>\n",
       "      <td>0</td>\n",
       "      <td>0</td>\n",
       "      <td>0</td>\n",
       "      <td>1</td>\n",
       "      <td>1</td>\n",
       "      <td>0</td>\n",
       "      <td>CA</td>\n",
       "      <td>62</td>\n",
       "    </tr>\n",
       "    <tr>\n",
       "      <th>2</th>\n",
       "      <td>10476</td>\n",
       "      <td>1958</td>\n",
       "      <td>Graduation</td>\n",
       "      <td>Married</td>\n",
       "      <td>67267.0</td>\n",
       "      <td>0</td>\n",
       "      <td>1</td>\n",
       "      <td>5/13/14</td>\n",
       "      <td>0</td>\n",
       "      <td>134</td>\n",
       "      <td>...</td>\n",
       "      <td>2</td>\n",
       "      <td>0</td>\n",
       "      <td>0</td>\n",
       "      <td>0</td>\n",
       "      <td>0</td>\n",
       "      <td>0</td>\n",
       "      <td>0</td>\n",
       "      <td>0</td>\n",
       "      <td>US</td>\n",
       "      <td>65</td>\n",
       "    </tr>\n",
       "    <tr>\n",
       "      <th>3</th>\n",
       "      <td>1386</td>\n",
       "      <td>1967</td>\n",
       "      <td>Graduation</td>\n",
       "      <td>Together</td>\n",
       "      <td>32474.0</td>\n",
       "      <td>1</td>\n",
       "      <td>1</td>\n",
       "      <td>5/11/14</td>\n",
       "      <td>0</td>\n",
       "      <td>10</td>\n",
       "      <td>...</td>\n",
       "      <td>7</td>\n",
       "      <td>0</td>\n",
       "      <td>0</td>\n",
       "      <td>0</td>\n",
       "      <td>0</td>\n",
       "      <td>0</td>\n",
       "      <td>0</td>\n",
       "      <td>0</td>\n",
       "      <td>AUS</td>\n",
       "      <td>56</td>\n",
       "    </tr>\n",
       "    <tr>\n",
       "      <th>4</th>\n",
       "      <td>5371</td>\n",
       "      <td>1989</td>\n",
       "      <td>Graduation</td>\n",
       "      <td>Single</td>\n",
       "      <td>21474.0</td>\n",
       "      <td>1</td>\n",
       "      <td>0</td>\n",
       "      <td>4/8/14</td>\n",
       "      <td>0</td>\n",
       "      <td>6</td>\n",
       "      <td>...</td>\n",
       "      <td>7</td>\n",
       "      <td>1</td>\n",
       "      <td>0</td>\n",
       "      <td>0</td>\n",
       "      <td>0</td>\n",
       "      <td>0</td>\n",
       "      <td>1</td>\n",
       "      <td>0</td>\n",
       "      <td>SP</td>\n",
       "      <td>34</td>\n",
       "    </tr>\n",
       "    <tr>\n",
       "      <th>...</th>\n",
       "      <td>...</td>\n",
       "      <td>...</td>\n",
       "      <td>...</td>\n",
       "      <td>...</td>\n",
       "      <td>...</td>\n",
       "      <td>...</td>\n",
       "      <td>...</td>\n",
       "      <td>...</td>\n",
       "      <td>...</td>\n",
       "      <td>...</td>\n",
       "      <td>...</td>\n",
       "      <td>...</td>\n",
       "      <td>...</td>\n",
       "      <td>...</td>\n",
       "      <td>...</td>\n",
       "      <td>...</td>\n",
       "      <td>...</td>\n",
       "      <td>...</td>\n",
       "      <td>...</td>\n",
       "      <td>...</td>\n",
       "      <td>...</td>\n",
       "    </tr>\n",
       "    <tr>\n",
       "      <th>2235</th>\n",
       "      <td>10142</td>\n",
       "      <td>1976</td>\n",
       "      <td>PhD</td>\n",
       "      <td>Divorced</td>\n",
       "      <td>66476.0</td>\n",
       "      <td>0</td>\n",
       "      <td>1</td>\n",
       "      <td>3/7/13</td>\n",
       "      <td>99</td>\n",
       "      <td>372</td>\n",
       "      <td>...</td>\n",
       "      <td>4</td>\n",
       "      <td>0</td>\n",
       "      <td>0</td>\n",
       "      <td>0</td>\n",
       "      <td>0</td>\n",
       "      <td>0</td>\n",
       "      <td>0</td>\n",
       "      <td>0</td>\n",
       "      <td>US</td>\n",
       "      <td>47</td>\n",
       "    </tr>\n",
       "    <tr>\n",
       "      <th>2236</th>\n",
       "      <td>5263</td>\n",
       "      <td>1977</td>\n",
       "      <td>2n Cycle</td>\n",
       "      <td>Married</td>\n",
       "      <td>31056.0</td>\n",
       "      <td>1</td>\n",
       "      <td>0</td>\n",
       "      <td>1/22/13</td>\n",
       "      <td>99</td>\n",
       "      <td>5</td>\n",
       "      <td>...</td>\n",
       "      <td>8</td>\n",
       "      <td>0</td>\n",
       "      <td>0</td>\n",
       "      <td>0</td>\n",
       "      <td>0</td>\n",
       "      <td>0</td>\n",
       "      <td>0</td>\n",
       "      <td>0</td>\n",
       "      <td>SP</td>\n",
       "      <td>46</td>\n",
       "    </tr>\n",
       "    <tr>\n",
       "      <th>2237</th>\n",
       "      <td>22</td>\n",
       "      <td>1976</td>\n",
       "      <td>Graduation</td>\n",
       "      <td>Divorced</td>\n",
       "      <td>46310.0</td>\n",
       "      <td>1</td>\n",
       "      <td>0</td>\n",
       "      <td>12/3/12</td>\n",
       "      <td>99</td>\n",
       "      <td>185</td>\n",
       "      <td>...</td>\n",
       "      <td>8</td>\n",
       "      <td>0</td>\n",
       "      <td>0</td>\n",
       "      <td>0</td>\n",
       "      <td>0</td>\n",
       "      <td>0</td>\n",
       "      <td>0</td>\n",
       "      <td>0</td>\n",
       "      <td>SP</td>\n",
       "      <td>47</td>\n",
       "    </tr>\n",
       "    <tr>\n",
       "      <th>2238</th>\n",
       "      <td>528</td>\n",
       "      <td>1978</td>\n",
       "      <td>Graduation</td>\n",
       "      <td>Married</td>\n",
       "      <td>65819.0</td>\n",
       "      <td>0</td>\n",
       "      <td>0</td>\n",
       "      <td>11/29/12</td>\n",
       "      <td>99</td>\n",
       "      <td>267</td>\n",
       "      <td>...</td>\n",
       "      <td>3</td>\n",
       "      <td>0</td>\n",
       "      <td>0</td>\n",
       "      <td>0</td>\n",
       "      <td>0</td>\n",
       "      <td>0</td>\n",
       "      <td>0</td>\n",
       "      <td>0</td>\n",
       "      <td>IND</td>\n",
       "      <td>45</td>\n",
       "    </tr>\n",
       "    <tr>\n",
       "      <th>2239</th>\n",
       "      <td>4070</td>\n",
       "      <td>1969</td>\n",
       "      <td>PhD</td>\n",
       "      <td>Married</td>\n",
       "      <td>94871.0</td>\n",
       "      <td>0</td>\n",
       "      <td>2</td>\n",
       "      <td>9/1/12</td>\n",
       "      <td>99</td>\n",
       "      <td>169</td>\n",
       "      <td>...</td>\n",
       "      <td>7</td>\n",
       "      <td>0</td>\n",
       "      <td>1</td>\n",
       "      <td>1</td>\n",
       "      <td>0</td>\n",
       "      <td>0</td>\n",
       "      <td>1</td>\n",
       "      <td>0</td>\n",
       "      <td>CA</td>\n",
       "      <td>54</td>\n",
       "    </tr>\n",
       "  </tbody>\n",
       "</table>\n",
       "<p>2237 rows × 29 columns</p>\n",
       "</div>"
      ],
      "text/plain": [
       "         ID  Year_Birth   Education Marital_Status   Income  Kidhome   \n",
       "0      1826        1970  Graduation       Divorced  84835.0        0  \\\n",
       "1         1        1961  Graduation         Single  57091.0        0   \n",
       "2     10476        1958  Graduation        Married  67267.0        0   \n",
       "3      1386        1967  Graduation       Together  32474.0        1   \n",
       "4      5371        1989  Graduation         Single  21474.0        1   \n",
       "...     ...         ...         ...            ...      ...      ...   \n",
       "2235  10142        1976         PhD       Divorced  66476.0        0   \n",
       "2236   5263        1977    2n Cycle        Married  31056.0        1   \n",
       "2237     22        1976  Graduation       Divorced  46310.0        1   \n",
       "2238    528        1978  Graduation        Married  65819.0        0   \n",
       "2239   4070        1969         PhD        Married  94871.0        0   \n",
       "\n",
       "      Teenhome Dt_Customer  Recency  MntWines  ...  NumWebVisitsMonth   \n",
       "0            0     6/16/14        0       189  ...                  1  \\\n",
       "1            0     6/15/14        0       464  ...                  5   \n",
       "2            1     5/13/14        0       134  ...                  2   \n",
       "3            1     5/11/14        0        10  ...                  7   \n",
       "4            0      4/8/14        0         6  ...                  7   \n",
       "...        ...         ...      ...       ...  ...                ...   \n",
       "2235         1      3/7/13       99       372  ...                  4   \n",
       "2236         0     1/22/13       99         5  ...                  8   \n",
       "2237         0     12/3/12       99       185  ...                  8   \n",
       "2238         0    11/29/12       99       267  ...                  3   \n",
       "2239         2      9/1/12       99       169  ...                  7   \n",
       "\n",
       "      AcceptedCmp3  AcceptedCmp4  AcceptedCmp5  AcceptedCmp1  AcceptedCmp2   \n",
       "0                0             0             0             0             0  \\\n",
       "1                0             0             0             0             1   \n",
       "2                0             0             0             0             0   \n",
       "3                0             0             0             0             0   \n",
       "4                1             0             0             0             0   \n",
       "...            ...           ...           ...           ...           ...   \n",
       "2235             0             0             0             0             0   \n",
       "2236             0             0             0             0             0   \n",
       "2237             0             0             0             0             0   \n",
       "2238             0             0             0             0             0   \n",
       "2239             0             1             1             0             0   \n",
       "\n",
       "      Response  Complain  Country  Age  \n",
       "0            1         0       SP   53  \n",
       "1            1         0       CA   62  \n",
       "2            0         0       US   65  \n",
       "3            0         0      AUS   56  \n",
       "4            1         0       SP   34  \n",
       "...        ...       ...      ...  ...  \n",
       "2235         0         0       US   47  \n",
       "2236         0         0       SP   46  \n",
       "2237         0         0       SP   47  \n",
       "2238         0         0      IND   45  \n",
       "2239         1         0       CA   54  \n",
       "\n",
       "[2237 rows x 29 columns]"
      ]
     },
     "execution_count": 20,
     "metadata": {},
     "output_type": "execute_result"
    }
   ],
   "source": [
    "df2"
   ]
  },
  {
   "cell_type": "code",
   "execution_count": 21,
   "id": "82d6a2b1",
   "metadata": {},
   "outputs": [
    {
     "data": {
      "text/plain": [
       "Index(['ID', 'Year_Birth', 'Education', 'Marital_Status', 'Income', 'Kidhome',\n",
       "       'Teenhome', 'Dt_Customer', 'Recency', 'MntWines', 'MntFruits',\n",
       "       'MntMeatProducts', 'MntFishProducts', 'MntSweetProducts',\n",
       "       'MntGoldProds', 'NumDealsPurchases', 'NumWebPurchases',\n",
       "       'NumCatalogPurchases', 'NumStorePurchases', 'NumWebVisitsMonth',\n",
       "       'AcceptedCmp3', 'AcceptedCmp4', 'AcceptedCmp5', 'AcceptedCmp1',\n",
       "       'AcceptedCmp2', 'Response', 'Complain', 'Country', 'Age'],\n",
       "      dtype='object')"
      ]
     },
     "execution_count": 21,
     "metadata": {},
     "output_type": "execute_result"
    }
   ],
   "source": [
    "df2.columns"
   ]
  },
  {
   "cell_type": "code",
   "execution_count": 22,
   "id": "f41e0083",
   "metadata": {},
   "outputs": [],
   "source": [
    "from sklearn import preprocessing\n",
    "  \n",
    "# label_encoder object knows \n",
    "# how to understand word labels.\n",
    "label_encoder = preprocessing.LabelEncoder()\n",
    "  \n",
    "df2['Education']= label_encoder.fit_transform(df2['Education'])\n",
    "df2['Marital_Status']= label_encoder.fit_transform(df2['Marital_Status'])\n",
    "df2['Country']= label_encoder.fit_transform(df2['Country'])"
   ]
  },
  {
   "cell_type": "code",
   "execution_count": 23,
   "id": "a06ce359",
   "metadata": {},
   "outputs": [
    {
     "data": {
      "text/plain": [
       "ID                       int64\n",
       "Year_Birth               int64\n",
       "Education                int32\n",
       "Marital_Status           int32\n",
       "Income                 float64\n",
       "Kidhome                  int64\n",
       "Teenhome                 int64\n",
       "Dt_Customer             object\n",
       "Recency                  int64\n",
       "MntWines                 int64\n",
       "MntFruits                int64\n",
       "MntMeatProducts          int64\n",
       "MntFishProducts          int64\n",
       "MntSweetProducts         int64\n",
       "MntGoldProds             int64\n",
       "NumDealsPurchases        int64\n",
       "NumWebPurchases          int64\n",
       "NumCatalogPurchases      int64\n",
       "NumStorePurchases        int64\n",
       "NumWebVisitsMonth        int64\n",
       "AcceptedCmp3             int64\n",
       "AcceptedCmp4             int64\n",
       "AcceptedCmp5             int64\n",
       "AcceptedCmp1             int64\n",
       "AcceptedCmp2             int64\n",
       "Response                 int64\n",
       "Complain                 int64\n",
       "Country                  int32\n",
       "Age                      int64\n",
       "dtype: object"
      ]
     },
     "execution_count": 23,
     "metadata": {},
     "output_type": "execute_result"
    }
   ],
   "source": [
    "df2.dtypes"
   ]
  },
  {
   "cell_type": "code",
   "execution_count": 24,
   "id": "869553db",
   "metadata": {},
   "outputs": [],
   "source": [
    "df2.drop(columns=['ID','Dt_Customer'],inplace=True)"
   ]
  },
  {
   "cell_type": "code",
   "execution_count": 25,
   "id": "2706aeeb",
   "metadata": {},
   "outputs": [
    {
     "data": {
      "text/html": [
       "<div>\n",
       "<style scoped>\n",
       "    .dataframe tbody tr th:only-of-type {\n",
       "        vertical-align: middle;\n",
       "    }\n",
       "\n",
       "    .dataframe tbody tr th {\n",
       "        vertical-align: top;\n",
       "    }\n",
       "\n",
       "    .dataframe thead th {\n",
       "        text-align: right;\n",
       "    }\n",
       "</style>\n",
       "<table border=\"1\" class=\"dataframe\">\n",
       "  <thead>\n",
       "    <tr style=\"text-align: right;\">\n",
       "      <th></th>\n",
       "      <th>Year_Birth</th>\n",
       "      <th>Education</th>\n",
       "      <th>Marital_Status</th>\n",
       "      <th>Income</th>\n",
       "      <th>Kidhome</th>\n",
       "      <th>Teenhome</th>\n",
       "      <th>Recency</th>\n",
       "      <th>MntWines</th>\n",
       "      <th>MntFruits</th>\n",
       "      <th>MntMeatProducts</th>\n",
       "      <th>...</th>\n",
       "      <th>NumWebVisitsMonth</th>\n",
       "      <th>AcceptedCmp3</th>\n",
       "      <th>AcceptedCmp4</th>\n",
       "      <th>AcceptedCmp5</th>\n",
       "      <th>AcceptedCmp1</th>\n",
       "      <th>AcceptedCmp2</th>\n",
       "      <th>Response</th>\n",
       "      <th>Complain</th>\n",
       "      <th>Country</th>\n",
       "      <th>Age</th>\n",
       "    </tr>\n",
       "  </thead>\n",
       "  <tbody>\n",
       "    <tr>\n",
       "      <th>Year_Birth</th>\n",
       "      <td>1.000000</td>\n",
       "      <td>-0.184055</td>\n",
       "      <td>-0.044765</td>\n",
       "      <td>-0.162554</td>\n",
       "      <td>0.234133</td>\n",
       "      <td>-0.363350</td>\n",
       "      <td>-0.019670</td>\n",
       "      <td>-0.163035</td>\n",
       "      <td>-0.013751</td>\n",
       "      <td>-0.030927</td>\n",
       "      <td>...</td>\n",
       "      <td>0.117570</td>\n",
       "      <td>0.061013</td>\n",
       "      <td>-0.064341</td>\n",
       "      <td>0.015322</td>\n",
       "      <td>-0.008227</td>\n",
       "      <td>-0.007657</td>\n",
       "      <td>0.018424</td>\n",
       "      <td>-0.004479</td>\n",
       "      <td>0.019666</td>\n",
       "      <td>-1.000000</td>\n",
       "    </tr>\n",
       "    <tr>\n",
       "      <th>Education</th>\n",
       "      <td>-0.184055</td>\n",
       "      <td>1.000000</td>\n",
       "      <td>0.000477</td>\n",
       "      <td>0.119332</td>\n",
       "      <td>-0.044977</td>\n",
       "      <td>0.119420</td>\n",
       "      <td>-0.010695</td>\n",
       "      <td>0.195699</td>\n",
       "      <td>-0.083797</td>\n",
       "      <td>0.031264</td>\n",
       "      <td>...</td>\n",
       "      <td>-0.039917</td>\n",
       "      <td>0.005496</td>\n",
       "      <td>0.053041</td>\n",
       "      <td>0.030703</td>\n",
       "      <td>-0.011205</td>\n",
       "      <td>0.021275</td>\n",
       "      <td>0.090525</td>\n",
       "      <td>-0.041899</td>\n",
       "      <td>0.023338</td>\n",
       "      <td>0.184055</td>\n",
       "    </tr>\n",
       "    <tr>\n",
       "      <th>Marital_Status</th>\n",
       "      <td>-0.044765</td>\n",
       "      <td>0.000477</td>\n",
       "      <td>1.000000</td>\n",
       "      <td>0.019061</td>\n",
       "      <td>-0.014146</td>\n",
       "      <td>-0.019227</td>\n",
       "      <td>0.020907</td>\n",
       "      <td>0.003405</td>\n",
       "      <td>0.003381</td>\n",
       "      <td>0.034010</td>\n",
       "      <td>...</td>\n",
       "      <td>-0.035724</td>\n",
       "      <td>-0.020973</td>\n",
       "      <td>0.010697</td>\n",
       "      <td>0.011088</td>\n",
       "      <td>-0.014281</td>\n",
       "      <td>0.019813</td>\n",
       "      <td>0.006679</td>\n",
       "      <td>0.003614</td>\n",
       "      <td>0.016731</td>\n",
       "      <td>0.044765</td>\n",
       "    </tr>\n",
       "    <tr>\n",
       "      <th>Income</th>\n",
       "      <td>-0.162554</td>\n",
       "      <td>0.119332</td>\n",
       "      <td>0.019061</td>\n",
       "      <td>1.000000</td>\n",
       "      <td>-0.424995</td>\n",
       "      <td>0.019047</td>\n",
       "      <td>-0.003081</td>\n",
       "      <td>0.576726</td>\n",
       "      <td>0.428383</td>\n",
       "      <td>0.577820</td>\n",
       "      <td>...</td>\n",
       "      <td>-0.549711</td>\n",
       "      <td>-0.016039</td>\n",
       "      <td>0.182967</td>\n",
       "      <td>0.334241</td>\n",
       "      <td>0.275055</td>\n",
       "      <td>0.087635</td>\n",
       "      <td>0.133247</td>\n",
       "      <td>-0.024895</td>\n",
       "      <td>-0.003617</td>\n",
       "      <td>0.162554</td>\n",
       "    </tr>\n",
       "    <tr>\n",
       "      <th>Kidhome</th>\n",
       "      <td>0.234133</td>\n",
       "      <td>-0.044977</td>\n",
       "      <td>-0.014146</td>\n",
       "      <td>-0.424995</td>\n",
       "      <td>1.000000</td>\n",
       "      <td>-0.035753</td>\n",
       "      <td>0.007544</td>\n",
       "      <td>-0.496367</td>\n",
       "      <td>-0.372488</td>\n",
       "      <td>-0.437059</td>\n",
       "      <td>...</td>\n",
       "      <td>0.447641</td>\n",
       "      <td>0.014606</td>\n",
       "      <td>-0.161775</td>\n",
       "      <td>-0.204994</td>\n",
       "      <td>-0.172512</td>\n",
       "      <td>-0.081794</td>\n",
       "      <td>-0.080176</td>\n",
       "      <td>0.036283</td>\n",
       "      <td>-0.023867</td>\n",
       "      <td>-0.234133</td>\n",
       "    </tr>\n",
       "    <tr>\n",
       "      <th>Teenhome</th>\n",
       "      <td>-0.363350</td>\n",
       "      <td>0.119420</td>\n",
       "      <td>-0.019227</td>\n",
       "      <td>0.019047</td>\n",
       "      <td>-0.035753</td>\n",
       "      <td>1.000000</td>\n",
       "      <td>0.017115</td>\n",
       "      <td>0.005409</td>\n",
       "      <td>-0.175951</td>\n",
       "      <td>-0.260820</td>\n",
       "      <td>...</td>\n",
       "      <td>0.134491</td>\n",
       "      <td>-0.042823</td>\n",
       "      <td>0.038790</td>\n",
       "      <td>-0.190227</td>\n",
       "      <td>-0.140288</td>\n",
       "      <td>-0.015664</td>\n",
       "      <td>-0.154730</td>\n",
       "      <td>0.007591</td>\n",
       "      <td>-0.013663</td>\n",
       "      <td>0.363350</td>\n",
       "    </tr>\n",
       "    <tr>\n",
       "      <th>Recency</th>\n",
       "      <td>-0.019670</td>\n",
       "      <td>-0.010695</td>\n",
       "      <td>0.020907</td>\n",
       "      <td>-0.003081</td>\n",
       "      <td>0.007544</td>\n",
       "      <td>0.017115</td>\n",
       "      <td>1.000000</td>\n",
       "      <td>0.016668</td>\n",
       "      <td>-0.003592</td>\n",
       "      <td>0.023705</td>\n",
       "      <td>...</td>\n",
       "      <td>-0.021959</td>\n",
       "      <td>-0.032976</td>\n",
       "      <td>0.018890</td>\n",
       "      <td>0.000956</td>\n",
       "      <td>-0.019258</td>\n",
       "      <td>-0.001764</td>\n",
       "      <td>-0.198568</td>\n",
       "      <td>0.005398</td>\n",
       "      <td>0.035020</td>\n",
       "      <td>0.019670</td>\n",
       "    </tr>\n",
       "    <tr>\n",
       "      <th>MntWines</th>\n",
       "      <td>-0.163035</td>\n",
       "      <td>0.195699</td>\n",
       "      <td>0.003405</td>\n",
       "      <td>0.576726</td>\n",
       "      <td>-0.496367</td>\n",
       "      <td>0.005409</td>\n",
       "      <td>0.016668</td>\n",
       "      <td>1.000000</td>\n",
       "      <td>0.388518</td>\n",
       "      <td>0.561993</td>\n",
       "      <td>...</td>\n",
       "      <td>-0.320337</td>\n",
       "      <td>0.062201</td>\n",
       "      <td>0.373532</td>\n",
       "      <td>0.471969</td>\n",
       "      <td>0.354365</td>\n",
       "      <td>0.206040</td>\n",
       "      <td>0.247392</td>\n",
       "      <td>-0.035930</td>\n",
       "      <td>0.015018</td>\n",
       "      <td>0.163035</td>\n",
       "    </tr>\n",
       "    <tr>\n",
       "      <th>MntFruits</th>\n",
       "      <td>-0.013751</td>\n",
       "      <td>-0.083797</td>\n",
       "      <td>0.003381</td>\n",
       "      <td>0.428383</td>\n",
       "      <td>-0.372488</td>\n",
       "      <td>-0.175951</td>\n",
       "      <td>-0.003592</td>\n",
       "      <td>0.388518</td>\n",
       "      <td>1.000000</td>\n",
       "      <td>0.542057</td>\n",
       "      <td>...</td>\n",
       "      <td>-0.417427</td>\n",
       "      <td>0.014983</td>\n",
       "      <td>0.010402</td>\n",
       "      <td>0.212027</td>\n",
       "      <td>0.195380</td>\n",
       "      <td>-0.009701</td>\n",
       "      <td>0.125904</td>\n",
       "      <td>-0.002800</td>\n",
       "      <td>-0.004119</td>\n",
       "      <td>0.013751</td>\n",
       "    </tr>\n",
       "    <tr>\n",
       "      <th>MntMeatProducts</th>\n",
       "      <td>-0.030927</td>\n",
       "      <td>0.031264</td>\n",
       "      <td>0.034010</td>\n",
       "      <td>0.577820</td>\n",
       "      <td>-0.437059</td>\n",
       "      <td>-0.260820</td>\n",
       "      <td>0.023705</td>\n",
       "      <td>0.561993</td>\n",
       "      <td>0.542057</td>\n",
       "      <td>1.000000</td>\n",
       "      <td>...</td>\n",
       "      <td>-0.539203</td>\n",
       "      <td>0.018331</td>\n",
       "      <td>0.103053</td>\n",
       "      <td>0.372212</td>\n",
       "      <td>0.310096</td>\n",
       "      <td>0.043090</td>\n",
       "      <td>0.236640</td>\n",
       "      <td>-0.020720</td>\n",
       "      <td>0.007167</td>\n",
       "      <td>0.030927</td>\n",
       "    </tr>\n",
       "    <tr>\n",
       "      <th>MntFishProducts</th>\n",
       "      <td>-0.042519</td>\n",
       "      <td>-0.114398</td>\n",
       "      <td>0.043587</td>\n",
       "      <td>0.437425</td>\n",
       "      <td>-0.387536</td>\n",
       "      <td>-0.203900</td>\n",
       "      <td>0.001532</td>\n",
       "      <td>0.399073</td>\n",
       "      <td>0.594438</td>\n",
       "      <td>0.567880</td>\n",
       "      <td>...</td>\n",
       "      <td>-0.445760</td>\n",
       "      <td>0.000370</td>\n",
       "      <td>0.016864</td>\n",
       "      <td>0.198163</td>\n",
       "      <td>0.260908</td>\n",
       "      <td>0.002583</td>\n",
       "      <td>0.111415</td>\n",
       "      <td>-0.018818</td>\n",
       "      <td>0.004633</td>\n",
       "      <td>0.042519</td>\n",
       "    </tr>\n",
       "    <tr>\n",
       "      <th>MntSweetProducts</th>\n",
       "      <td>-0.019571</td>\n",
       "      <td>-0.107245</td>\n",
       "      <td>0.014956</td>\n",
       "      <td>0.436055</td>\n",
       "      <td>-0.370656</td>\n",
       "      <td>-0.162218</td>\n",
       "      <td>0.023045</td>\n",
       "      <td>0.385992</td>\n",
       "      <td>0.567054</td>\n",
       "      <td>0.523418</td>\n",
       "      <td>...</td>\n",
       "      <td>-0.423249</td>\n",
       "      <td>0.001491</td>\n",
       "      <td>0.028612</td>\n",
       "      <td>0.258848</td>\n",
       "      <td>0.241875</td>\n",
       "      <td>0.009972</td>\n",
       "      <td>0.117366</td>\n",
       "      <td>-0.020404</td>\n",
       "      <td>-0.000311</td>\n",
       "      <td>0.019571</td>\n",
       "    </tr>\n",
       "    <tr>\n",
       "      <th>MntGoldProds</th>\n",
       "      <td>-0.057599</td>\n",
       "      <td>-0.099328</td>\n",
       "      <td>0.007187</td>\n",
       "      <td>0.321114</td>\n",
       "      <td>-0.349633</td>\n",
       "      <td>-0.020186</td>\n",
       "      <td>0.017412</td>\n",
       "      <td>0.386376</td>\n",
       "      <td>0.390042</td>\n",
       "      <td>0.348845</td>\n",
       "      <td>...</td>\n",
       "      <td>-0.249093</td>\n",
       "      <td>0.123734</td>\n",
       "      <td>0.022623</td>\n",
       "      <td>0.176382</td>\n",
       "      <td>0.167145</td>\n",
       "      <td>0.050252</td>\n",
       "      <td>0.140693</td>\n",
       "      <td>-0.029874</td>\n",
       "      <td>-0.037205</td>\n",
       "      <td>0.057599</td>\n",
       "    </tr>\n",
       "    <tr>\n",
       "      <th>NumDealsPurchases</th>\n",
       "      <td>-0.067999</td>\n",
       "      <td>0.029289</td>\n",
       "      <td>-0.030524</td>\n",
       "      <td>-0.082155</td>\n",
       "      <td>0.221799</td>\n",
       "      <td>0.387792</td>\n",
       "      <td>-0.000987</td>\n",
       "      <td>0.010829</td>\n",
       "      <td>-0.131886</td>\n",
       "      <td>-0.122465</td>\n",
       "      <td>...</td>\n",
       "      <td>0.347261</td>\n",
       "      <td>-0.023375</td>\n",
       "      <td>0.015339</td>\n",
       "      <td>-0.182910</td>\n",
       "      <td>-0.123530</td>\n",
       "      <td>-0.037814</td>\n",
       "      <td>0.001854</td>\n",
       "      <td>0.003599</td>\n",
       "      <td>-0.002031</td>\n",
       "      <td>0.067999</td>\n",
       "    </tr>\n",
       "    <tr>\n",
       "      <th>NumWebPurchases</th>\n",
       "      <td>-0.153973</td>\n",
       "      <td>0.080389</td>\n",
       "      <td>-0.009679</td>\n",
       "      <td>0.380708</td>\n",
       "      <td>-0.362063</td>\n",
       "      <td>0.155776</td>\n",
       "      <td>-0.010616</td>\n",
       "      <td>0.542177</td>\n",
       "      <td>0.297024</td>\n",
       "      <td>0.293579</td>\n",
       "      <td>...</td>\n",
       "      <td>-0.056250</td>\n",
       "      <td>0.041958</td>\n",
       "      <td>0.155734</td>\n",
       "      <td>0.138958</td>\n",
       "      <td>0.154991</td>\n",
       "      <td>0.034103</td>\n",
       "      <td>0.148453</td>\n",
       "      <td>-0.013233</td>\n",
       "      <td>-0.013083</td>\n",
       "      <td>0.153973</td>\n",
       "    </tr>\n",
       "    <tr>\n",
       "      <th>NumCatalogPurchases</th>\n",
       "      <td>-0.125439</td>\n",
       "      <td>0.068856</td>\n",
       "      <td>0.016028</td>\n",
       "      <td>0.586827</td>\n",
       "      <td>-0.502438</td>\n",
       "      <td>-0.110285</td>\n",
       "      <td>0.025449</td>\n",
       "      <td>0.634784</td>\n",
       "      <td>0.487307</td>\n",
       "      <td>0.723519</td>\n",
       "      <td>...</td>\n",
       "      <td>-0.520400</td>\n",
       "      <td>0.104750</td>\n",
       "      <td>0.139288</td>\n",
       "      <td>0.321419</td>\n",
       "      <td>0.308240</td>\n",
       "      <td>0.099891</td>\n",
       "      <td>0.220894</td>\n",
       "      <td>-0.018279</td>\n",
       "      <td>-0.001998</td>\n",
       "      <td>0.125439</td>\n",
       "    </tr>\n",
       "    <tr>\n",
       "      <th>NumStorePurchases</th>\n",
       "      <td>-0.139465</td>\n",
       "      <td>0.068833</td>\n",
       "      <td>-0.005310</td>\n",
       "      <td>0.527413</td>\n",
       "      <td>-0.500387</td>\n",
       "      <td>0.050517</td>\n",
       "      <td>0.001117</td>\n",
       "      <td>0.642433</td>\n",
       "      <td>0.463168</td>\n",
       "      <td>0.480110</td>\n",
       "      <td>...</td>\n",
       "      <td>-0.429886</td>\n",
       "      <td>-0.067988</td>\n",
       "      <td>0.179144</td>\n",
       "      <td>0.216147</td>\n",
       "      <td>0.183043</td>\n",
       "      <td>0.085098</td>\n",
       "      <td>0.038855</td>\n",
       "      <td>-0.011524</td>\n",
       "      <td>0.018802</td>\n",
       "      <td>0.139465</td>\n",
       "    </tr>\n",
       "    <tr>\n",
       "      <th>NumWebVisitsMonth</th>\n",
       "      <td>0.117570</td>\n",
       "      <td>-0.039917</td>\n",
       "      <td>-0.035724</td>\n",
       "      <td>-0.549711</td>\n",
       "      <td>0.447641</td>\n",
       "      <td>0.134491</td>\n",
       "      <td>-0.021959</td>\n",
       "      <td>-0.320337</td>\n",
       "      <td>-0.417427</td>\n",
       "      <td>-0.539203</td>\n",
       "      <td>...</td>\n",
       "      <td>1.000000</td>\n",
       "      <td>0.060955</td>\n",
       "      <td>-0.032464</td>\n",
       "      <td>-0.276371</td>\n",
       "      <td>-0.192948</td>\n",
       "      <td>-0.007330</td>\n",
       "      <td>-0.004449</td>\n",
       "      <td>0.020784</td>\n",
       "      <td>0.017627</td>\n",
       "      <td>-0.117570</td>\n",
       "    </tr>\n",
       "    <tr>\n",
       "      <th>AcceptedCmp3</th>\n",
       "      <td>0.061013</td>\n",
       "      <td>0.005496</td>\n",
       "      <td>-0.020973</td>\n",
       "      <td>-0.016039</td>\n",
       "      <td>0.014606</td>\n",
       "      <td>-0.042823</td>\n",
       "      <td>-0.032976</td>\n",
       "      <td>0.062201</td>\n",
       "      <td>0.014983</td>\n",
       "      <td>0.018331</td>\n",
       "      <td>...</td>\n",
       "      <td>0.060955</td>\n",
       "      <td>1.000000</td>\n",
       "      <td>-0.079627</td>\n",
       "      <td>0.080930</td>\n",
       "      <td>0.094661</td>\n",
       "      <td>0.071981</td>\n",
       "      <td>0.254144</td>\n",
       "      <td>0.009916</td>\n",
       "      <td>0.010693</td>\n",
       "      <td>-0.061013</td>\n",
       "    </tr>\n",
       "    <tr>\n",
       "      <th>AcceptedCmp4</th>\n",
       "      <td>-0.064341</td>\n",
       "      <td>0.053041</td>\n",
       "      <td>0.010697</td>\n",
       "      <td>0.182967</td>\n",
       "      <td>-0.161775</td>\n",
       "      <td>0.038790</td>\n",
       "      <td>0.018890</td>\n",
       "      <td>0.373532</td>\n",
       "      <td>0.010402</td>\n",
       "      <td>0.103053</td>\n",
       "      <td>...</td>\n",
       "      <td>-0.032464</td>\n",
       "      <td>-0.079627</td>\n",
       "      <td>1.000000</td>\n",
       "      <td>0.307812</td>\n",
       "      <td>0.251225</td>\n",
       "      <td>0.292184</td>\n",
       "      <td>0.176890</td>\n",
       "      <td>-0.026978</td>\n",
       "      <td>0.008391</td>\n",
       "      <td>0.064341</td>\n",
       "    </tr>\n",
       "    <tr>\n",
       "      <th>AcceptedCmp5</th>\n",
       "      <td>0.015322</td>\n",
       "      <td>0.030703</td>\n",
       "      <td>0.011088</td>\n",
       "      <td>0.334241</td>\n",
       "      <td>-0.204994</td>\n",
       "      <td>-0.190227</td>\n",
       "      <td>0.000956</td>\n",
       "      <td>0.471969</td>\n",
       "      <td>0.212027</td>\n",
       "      <td>0.372212</td>\n",
       "      <td>...</td>\n",
       "      <td>-0.276371</td>\n",
       "      <td>0.080930</td>\n",
       "      <td>0.307812</td>\n",
       "      <td>1.000000</td>\n",
       "      <td>0.404616</td>\n",
       "      <td>0.222333</td>\n",
       "      <td>0.328182</td>\n",
       "      <td>-0.008216</td>\n",
       "      <td>0.000888</td>\n",
       "      <td>-0.015322</td>\n",
       "    </tr>\n",
       "    <tr>\n",
       "      <th>AcceptedCmp1</th>\n",
       "      <td>-0.008227</td>\n",
       "      <td>-0.011205</td>\n",
       "      <td>-0.014281</td>\n",
       "      <td>0.275055</td>\n",
       "      <td>-0.172512</td>\n",
       "      <td>-0.140288</td>\n",
       "      <td>-0.019258</td>\n",
       "      <td>0.354365</td>\n",
       "      <td>0.195380</td>\n",
       "      <td>0.310096</td>\n",
       "      <td>...</td>\n",
       "      <td>-0.192948</td>\n",
       "      <td>0.094661</td>\n",
       "      <td>0.251225</td>\n",
       "      <td>0.404616</td>\n",
       "      <td>1.000000</td>\n",
       "      <td>0.175283</td>\n",
       "      <td>0.293882</td>\n",
       "      <td>-0.024913</td>\n",
       "      <td>0.023465</td>\n",
       "      <td>0.008227</td>\n",
       "    </tr>\n",
       "    <tr>\n",
       "      <th>AcceptedCmp2</th>\n",
       "      <td>-0.007657</td>\n",
       "      <td>0.021275</td>\n",
       "      <td>0.019813</td>\n",
       "      <td>0.087635</td>\n",
       "      <td>-0.081794</td>\n",
       "      <td>-0.015664</td>\n",
       "      <td>-0.001764</td>\n",
       "      <td>0.206040</td>\n",
       "      <td>-0.009701</td>\n",
       "      <td>0.043090</td>\n",
       "      <td>...</td>\n",
       "      <td>-0.007330</td>\n",
       "      <td>0.071981</td>\n",
       "      <td>0.292184</td>\n",
       "      <td>0.222333</td>\n",
       "      <td>0.175283</td>\n",
       "      <td>1.000000</td>\n",
       "      <td>0.169249</td>\n",
       "      <td>-0.011074</td>\n",
       "      <td>-0.002966</td>\n",
       "      <td>0.007657</td>\n",
       "    </tr>\n",
       "    <tr>\n",
       "      <th>Response</th>\n",
       "      <td>0.018424</td>\n",
       "      <td>0.090525</td>\n",
       "      <td>0.006679</td>\n",
       "      <td>0.133247</td>\n",
       "      <td>-0.080176</td>\n",
       "      <td>-0.154730</td>\n",
       "      <td>-0.198568</td>\n",
       "      <td>0.247392</td>\n",
       "      <td>0.125904</td>\n",
       "      <td>0.236640</td>\n",
       "      <td>...</td>\n",
       "      <td>-0.004449</td>\n",
       "      <td>0.254144</td>\n",
       "      <td>0.176890</td>\n",
       "      <td>0.328182</td>\n",
       "      <td>0.293882</td>\n",
       "      <td>0.169249</td>\n",
       "      <td>1.000000</td>\n",
       "      <td>0.000185</td>\n",
       "      <td>0.021498</td>\n",
       "      <td>-0.018424</td>\n",
       "    </tr>\n",
       "    <tr>\n",
       "      <th>Complain</th>\n",
       "      <td>-0.004479</td>\n",
       "      <td>-0.041899</td>\n",
       "      <td>0.003614</td>\n",
       "      <td>-0.024895</td>\n",
       "      <td>0.036283</td>\n",
       "      <td>0.007591</td>\n",
       "      <td>0.005398</td>\n",
       "      <td>-0.035930</td>\n",
       "      <td>-0.002800</td>\n",
       "      <td>-0.020720</td>\n",
       "      <td>...</td>\n",
       "      <td>0.020784</td>\n",
       "      <td>0.009916</td>\n",
       "      <td>-0.026978</td>\n",
       "      <td>-0.008216</td>\n",
       "      <td>-0.024913</td>\n",
       "      <td>-0.011074</td>\n",
       "      <td>0.000185</td>\n",
       "      <td>1.000000</td>\n",
       "      <td>0.029963</td>\n",
       "      <td>0.004479</td>\n",
       "    </tr>\n",
       "    <tr>\n",
       "      <th>Country</th>\n",
       "      <td>0.019666</td>\n",
       "      <td>0.023338</td>\n",
       "      <td>0.016731</td>\n",
       "      <td>-0.003617</td>\n",
       "      <td>-0.023867</td>\n",
       "      <td>-0.013663</td>\n",
       "      <td>0.035020</td>\n",
       "      <td>0.015018</td>\n",
       "      <td>-0.004119</td>\n",
       "      <td>0.007167</td>\n",
       "      <td>...</td>\n",
       "      <td>0.017627</td>\n",
       "      <td>0.010693</td>\n",
       "      <td>0.008391</td>\n",
       "      <td>0.000888</td>\n",
       "      <td>0.023465</td>\n",
       "      <td>-0.002966</td>\n",
       "      <td>0.021498</td>\n",
       "      <td>0.029963</td>\n",
       "      <td>1.000000</td>\n",
       "      <td>-0.019666</td>\n",
       "    </tr>\n",
       "    <tr>\n",
       "      <th>Age</th>\n",
       "      <td>-1.000000</td>\n",
       "      <td>0.184055</td>\n",
       "      <td>0.044765</td>\n",
       "      <td>0.162554</td>\n",
       "      <td>-0.234133</td>\n",
       "      <td>0.363350</td>\n",
       "      <td>0.019670</td>\n",
       "      <td>0.163035</td>\n",
       "      <td>0.013751</td>\n",
       "      <td>0.030927</td>\n",
       "      <td>...</td>\n",
       "      <td>-0.117570</td>\n",
       "      <td>-0.061013</td>\n",
       "      <td>0.064341</td>\n",
       "      <td>-0.015322</td>\n",
       "      <td>0.008227</td>\n",
       "      <td>0.007657</td>\n",
       "      <td>-0.018424</td>\n",
       "      <td>0.004479</td>\n",
       "      <td>-0.019666</td>\n",
       "      <td>1.000000</td>\n",
       "    </tr>\n",
       "  </tbody>\n",
       "</table>\n",
       "<p>27 rows × 27 columns</p>\n",
       "</div>"
      ],
      "text/plain": [
       "                     Year_Birth  Education  Marital_Status    Income   \n",
       "Year_Birth             1.000000  -0.184055       -0.044765 -0.162554  \\\n",
       "Education             -0.184055   1.000000        0.000477  0.119332   \n",
       "Marital_Status        -0.044765   0.000477        1.000000  0.019061   \n",
       "Income                -0.162554   0.119332        0.019061  1.000000   \n",
       "Kidhome                0.234133  -0.044977       -0.014146 -0.424995   \n",
       "Teenhome              -0.363350   0.119420       -0.019227  0.019047   \n",
       "Recency               -0.019670  -0.010695        0.020907 -0.003081   \n",
       "MntWines              -0.163035   0.195699        0.003405  0.576726   \n",
       "MntFruits             -0.013751  -0.083797        0.003381  0.428383   \n",
       "MntMeatProducts       -0.030927   0.031264        0.034010  0.577820   \n",
       "MntFishProducts       -0.042519  -0.114398        0.043587  0.437425   \n",
       "MntSweetProducts      -0.019571  -0.107245        0.014956  0.436055   \n",
       "MntGoldProds          -0.057599  -0.099328        0.007187  0.321114   \n",
       "NumDealsPurchases     -0.067999   0.029289       -0.030524 -0.082155   \n",
       "NumWebPurchases       -0.153973   0.080389       -0.009679  0.380708   \n",
       "NumCatalogPurchases   -0.125439   0.068856        0.016028  0.586827   \n",
       "NumStorePurchases     -0.139465   0.068833       -0.005310  0.527413   \n",
       "NumWebVisitsMonth      0.117570  -0.039917       -0.035724 -0.549711   \n",
       "AcceptedCmp3           0.061013   0.005496       -0.020973 -0.016039   \n",
       "AcceptedCmp4          -0.064341   0.053041        0.010697  0.182967   \n",
       "AcceptedCmp5           0.015322   0.030703        0.011088  0.334241   \n",
       "AcceptedCmp1          -0.008227  -0.011205       -0.014281  0.275055   \n",
       "AcceptedCmp2          -0.007657   0.021275        0.019813  0.087635   \n",
       "Response               0.018424   0.090525        0.006679  0.133247   \n",
       "Complain              -0.004479  -0.041899        0.003614 -0.024895   \n",
       "Country                0.019666   0.023338        0.016731 -0.003617   \n",
       "Age                   -1.000000   0.184055        0.044765  0.162554   \n",
       "\n",
       "                      Kidhome  Teenhome   Recency  MntWines  MntFruits   \n",
       "Year_Birth           0.234133 -0.363350 -0.019670 -0.163035  -0.013751  \\\n",
       "Education           -0.044977  0.119420 -0.010695  0.195699  -0.083797   \n",
       "Marital_Status      -0.014146 -0.019227  0.020907  0.003405   0.003381   \n",
       "Income              -0.424995  0.019047 -0.003081  0.576726   0.428383   \n",
       "Kidhome              1.000000 -0.035753  0.007544 -0.496367  -0.372488   \n",
       "Teenhome            -0.035753  1.000000  0.017115  0.005409  -0.175951   \n",
       "Recency              0.007544  0.017115  1.000000  0.016668  -0.003592   \n",
       "MntWines            -0.496367  0.005409  0.016668  1.000000   0.388518   \n",
       "MntFruits           -0.372488 -0.175951 -0.003592  0.388518   1.000000   \n",
       "MntMeatProducts     -0.437059 -0.260820  0.023705  0.561993   0.542057   \n",
       "MntFishProducts     -0.387536 -0.203900  0.001532  0.399073   0.594438   \n",
       "MntSweetProducts    -0.370656 -0.162218  0.023045  0.385992   0.567054   \n",
       "MntGoldProds        -0.349633 -0.020186  0.017412  0.386376   0.390042   \n",
       "NumDealsPurchases    0.221799  0.387792 -0.000987  0.010829  -0.131886   \n",
       "NumWebPurchases     -0.362063  0.155776 -0.010616  0.542177   0.297024   \n",
       "NumCatalogPurchases -0.502438 -0.110285  0.025449  0.634784   0.487307   \n",
       "NumStorePurchases   -0.500387  0.050517  0.001117  0.642433   0.463168   \n",
       "NumWebVisitsMonth    0.447641  0.134491 -0.021959 -0.320337  -0.417427   \n",
       "AcceptedCmp3         0.014606 -0.042823 -0.032976  0.062201   0.014983   \n",
       "AcceptedCmp4        -0.161775  0.038790  0.018890  0.373532   0.010402   \n",
       "AcceptedCmp5        -0.204994 -0.190227  0.000956  0.471969   0.212027   \n",
       "AcceptedCmp1        -0.172512 -0.140288 -0.019258  0.354365   0.195380   \n",
       "AcceptedCmp2        -0.081794 -0.015664 -0.001764  0.206040  -0.009701   \n",
       "Response            -0.080176 -0.154730 -0.198568  0.247392   0.125904   \n",
       "Complain             0.036283  0.007591  0.005398 -0.035930  -0.002800   \n",
       "Country             -0.023867 -0.013663  0.035020  0.015018  -0.004119   \n",
       "Age                 -0.234133  0.363350  0.019670  0.163035   0.013751   \n",
       "\n",
       "                     MntMeatProducts  ...  NumWebVisitsMonth  AcceptedCmp3   \n",
       "Year_Birth                 -0.030927  ...           0.117570      0.061013  \\\n",
       "Education                   0.031264  ...          -0.039917      0.005496   \n",
       "Marital_Status              0.034010  ...          -0.035724     -0.020973   \n",
       "Income                      0.577820  ...          -0.549711     -0.016039   \n",
       "Kidhome                    -0.437059  ...           0.447641      0.014606   \n",
       "Teenhome                   -0.260820  ...           0.134491     -0.042823   \n",
       "Recency                     0.023705  ...          -0.021959     -0.032976   \n",
       "MntWines                    0.561993  ...          -0.320337      0.062201   \n",
       "MntFruits                   0.542057  ...          -0.417427      0.014983   \n",
       "MntMeatProducts             1.000000  ...          -0.539203      0.018331   \n",
       "MntFishProducts             0.567880  ...          -0.445760      0.000370   \n",
       "MntSweetProducts            0.523418  ...          -0.423249      0.001491   \n",
       "MntGoldProds                0.348845  ...          -0.249093      0.123734   \n",
       "NumDealsPurchases          -0.122465  ...           0.347261     -0.023375   \n",
       "NumWebPurchases             0.293579  ...          -0.056250      0.041958   \n",
       "NumCatalogPurchases         0.723519  ...          -0.520400      0.104750   \n",
       "NumStorePurchases           0.480110  ...          -0.429886     -0.067988   \n",
       "NumWebVisitsMonth          -0.539203  ...           1.000000      0.060955   \n",
       "AcceptedCmp3                0.018331  ...           0.060955      1.000000   \n",
       "AcceptedCmp4                0.103053  ...          -0.032464     -0.079627   \n",
       "AcceptedCmp5                0.372212  ...          -0.276371      0.080930   \n",
       "AcceptedCmp1                0.310096  ...          -0.192948      0.094661   \n",
       "AcceptedCmp2                0.043090  ...          -0.007330      0.071981   \n",
       "Response                    0.236640  ...          -0.004449      0.254144   \n",
       "Complain                   -0.020720  ...           0.020784      0.009916   \n",
       "Country                     0.007167  ...           0.017627      0.010693   \n",
       "Age                         0.030927  ...          -0.117570     -0.061013   \n",
       "\n",
       "                     AcceptedCmp4  AcceptedCmp5  AcceptedCmp1  AcceptedCmp2   \n",
       "Year_Birth              -0.064341      0.015322     -0.008227     -0.007657  \\\n",
       "Education                0.053041      0.030703     -0.011205      0.021275   \n",
       "Marital_Status           0.010697      0.011088     -0.014281      0.019813   \n",
       "Income                   0.182967      0.334241      0.275055      0.087635   \n",
       "Kidhome                 -0.161775     -0.204994     -0.172512     -0.081794   \n",
       "Teenhome                 0.038790     -0.190227     -0.140288     -0.015664   \n",
       "Recency                  0.018890      0.000956     -0.019258     -0.001764   \n",
       "MntWines                 0.373532      0.471969      0.354365      0.206040   \n",
       "MntFruits                0.010402      0.212027      0.195380     -0.009701   \n",
       "MntMeatProducts          0.103053      0.372212      0.310096      0.043090   \n",
       "MntFishProducts          0.016864      0.198163      0.260908      0.002583   \n",
       "MntSweetProducts         0.028612      0.258848      0.241875      0.009972   \n",
       "MntGoldProds             0.022623      0.176382      0.167145      0.050252   \n",
       "NumDealsPurchases        0.015339     -0.182910     -0.123530     -0.037814   \n",
       "NumWebPurchases          0.155734      0.138958      0.154991      0.034103   \n",
       "NumCatalogPurchases      0.139288      0.321419      0.308240      0.099891   \n",
       "NumStorePurchases        0.179144      0.216147      0.183043      0.085098   \n",
       "NumWebVisitsMonth       -0.032464     -0.276371     -0.192948     -0.007330   \n",
       "AcceptedCmp3            -0.079627      0.080930      0.094661      0.071981   \n",
       "AcceptedCmp4             1.000000      0.307812      0.251225      0.292184   \n",
       "AcceptedCmp5             0.307812      1.000000      0.404616      0.222333   \n",
       "AcceptedCmp1             0.251225      0.404616      1.000000      0.175283   \n",
       "AcceptedCmp2             0.292184      0.222333      0.175283      1.000000   \n",
       "Response                 0.176890      0.328182      0.293882      0.169249   \n",
       "Complain                -0.026978     -0.008216     -0.024913     -0.011074   \n",
       "Country                  0.008391      0.000888      0.023465     -0.002966   \n",
       "Age                      0.064341     -0.015322      0.008227      0.007657   \n",
       "\n",
       "                     Response  Complain   Country       Age  \n",
       "Year_Birth           0.018424 -0.004479  0.019666 -1.000000  \n",
       "Education            0.090525 -0.041899  0.023338  0.184055  \n",
       "Marital_Status       0.006679  0.003614  0.016731  0.044765  \n",
       "Income               0.133247 -0.024895 -0.003617  0.162554  \n",
       "Kidhome             -0.080176  0.036283 -0.023867 -0.234133  \n",
       "Teenhome            -0.154730  0.007591 -0.013663  0.363350  \n",
       "Recency             -0.198568  0.005398  0.035020  0.019670  \n",
       "MntWines             0.247392 -0.035930  0.015018  0.163035  \n",
       "MntFruits            0.125904 -0.002800 -0.004119  0.013751  \n",
       "MntMeatProducts      0.236640 -0.020720  0.007167  0.030927  \n",
       "MntFishProducts      0.111415 -0.018818  0.004633  0.042519  \n",
       "MntSweetProducts     0.117366 -0.020404 -0.000311  0.019571  \n",
       "MntGoldProds         0.140693 -0.029874 -0.037205  0.057599  \n",
       "NumDealsPurchases    0.001854  0.003599 -0.002031  0.067999  \n",
       "NumWebPurchases      0.148453 -0.013233 -0.013083  0.153973  \n",
       "NumCatalogPurchases  0.220894 -0.018279 -0.001998  0.125439  \n",
       "NumStorePurchases    0.038855 -0.011524  0.018802  0.139465  \n",
       "NumWebVisitsMonth   -0.004449  0.020784  0.017627 -0.117570  \n",
       "AcceptedCmp3         0.254144  0.009916  0.010693 -0.061013  \n",
       "AcceptedCmp4         0.176890 -0.026978  0.008391  0.064341  \n",
       "AcceptedCmp5         0.328182 -0.008216  0.000888 -0.015322  \n",
       "AcceptedCmp1         0.293882 -0.024913  0.023465  0.008227  \n",
       "AcceptedCmp2         0.169249 -0.011074 -0.002966  0.007657  \n",
       "Response             1.000000  0.000185  0.021498 -0.018424  \n",
       "Complain             0.000185  1.000000  0.029963  0.004479  \n",
       "Country              0.021498  0.029963  1.000000 -0.019666  \n",
       "Age                 -0.018424  0.004479 -0.019666  1.000000  \n",
       "\n",
       "[27 rows x 27 columns]"
      ]
     },
     "execution_count": 25,
     "metadata": {},
     "output_type": "execute_result"
    }
   ],
   "source": [
    "df2.corr()"
   ]
  },
  {
   "cell_type": "code",
   "execution_count": 26,
   "id": "73241281",
   "metadata": {},
   "outputs": [
    {
     "data": {
      "text/plain": [
       "Index(['Year_Birth', 'Education', 'Marital_Status', 'Income', 'Kidhome',\n",
       "       'Teenhome', 'Recency', 'MntWines', 'MntFruits', 'MntMeatProducts',\n",
       "       'MntFishProducts', 'MntSweetProducts', 'MntGoldProds',\n",
       "       'NumDealsPurchases', 'NumWebPurchases', 'NumCatalogPurchases',\n",
       "       'NumStorePurchases', 'NumWebVisitsMonth', 'AcceptedCmp3',\n",
       "       'AcceptedCmp4', 'AcceptedCmp5', 'AcceptedCmp1', 'AcceptedCmp2',\n",
       "       'Response', 'Complain', 'Country', 'Age'],\n",
       "      dtype='object')"
      ]
     },
     "execution_count": 26,
     "metadata": {},
     "output_type": "execute_result"
    }
   ],
   "source": [
    "df2.keys()"
   ]
  },
  {
   "cell_type": "markdown",
   "id": "fa2f42c9",
   "metadata": {},
   "source": [
    "1st campaign"
   ]
  },
  {
   "cell_type": "code",
   "execution_count": 27,
   "id": "9fd3f3d6",
   "metadata": {},
   "outputs": [],
   "source": [
    "x1=df2[['Income','MntWines', 'MntFruits',\n",
    "       'MntMeatProducts', 'MntFishProducts', 'MntSweetProducts',\n",
    "       'MntGoldProds','NumCatalogPurchases','NumWebPurchases','NumStorePurchases', 'Complain','Country']]"
   ]
  },
  {
   "cell_type": "code",
   "execution_count": 28,
   "id": "e34b7b64",
   "metadata": {},
   "outputs": [],
   "source": [
    "y1=df2['AcceptedCmp1']"
   ]
  },
  {
   "cell_type": "code",
   "execution_count": 29,
   "id": "da5d1609",
   "metadata": {},
   "outputs": [],
   "source": [
    "x_train,x_test,y_train,y_test=train_test_split(x1,y1,test_size=0.3,random_state=1)"
   ]
  },
  {
   "cell_type": "code",
   "execution_count": 30,
   "id": "a22a763d",
   "metadata": {},
   "outputs": [
    {
     "data": {
      "text/plain": [
       "0.9077380952380952"
      ]
     },
     "execution_count": 30,
     "metadata": {},
     "output_type": "execute_result"
    }
   ],
   "source": [
    "dtc=DecisionTreeClassifier()\n",
    "dtc.fit(x_train, y_train)\n",
    "dtc_prediction = dtc.predict(x_test)\n",
    "accuracy_score(dtc_prediction, y_test)"
   ]
  },
  {
   "cell_type": "code",
   "execution_count": 31,
   "id": "7a5260b9",
   "metadata": {},
   "outputs": [
    {
     "data": {
      "text/plain": [
       "0.9270833333333334"
      ]
     },
     "execution_count": 31,
     "metadata": {},
     "output_type": "execute_result"
    }
   ],
   "source": [
    "svm_class = svm.SVC(kernel = 'rbf')\n",
    "svm_class.fit(x_train, y_train)\n",
    "svm_class_predict = svm_class.predict(x_test)\n",
    "accuracy_score(svm_class_predict, y_test)"
   ]
  },
  {
   "cell_type": "code",
   "execution_count": 32,
   "id": "537a87ba",
   "metadata": {},
   "outputs": [
    {
     "data": {
      "text/plain": [
       "0.8020833333333334"
      ]
     },
     "execution_count": 32,
     "metadata": {},
     "output_type": "execute_result"
    }
   ],
   "source": [
    "gnb = GaussianNB()\n",
    "gnb.fit(x_train, y_train)\n",
    "gnb_predict = gnb.predict(x_test)\n",
    "accuracy_score(gnb_predict, y_test)"
   ]
  },
  {
   "cell_type": "markdown",
   "id": "a6db0fd1",
   "metadata": {},
   "source": [
    "The SVM model achieved the highest accuracy among the three models with an accuracy of 0.92. The Decision Tree model followed with an accuracy of 0.91, and the Gaussian Naive Bayes model had an accuracy of 0.80."
   ]
  },
  {
   "cell_type": "markdown",
   "id": "3af65285",
   "metadata": {},
   "source": [
    "2nd campaign"
   ]
  },
  {
   "cell_type": "code",
   "execution_count": 33,
   "id": "b1bca30b",
   "metadata": {},
   "outputs": [],
   "source": [
    "x2=df2[['Income','Education','MntWines', 'MntWines',\n",
    "       'MntMeatProducts', 'MntGoldProds','NumCatalogPurchases','NumWebPurchases','NumStorePurchases','AcceptedCmp1']]"
   ]
  },
  {
   "cell_type": "code",
   "execution_count": 34,
   "id": "0d410c13",
   "metadata": {},
   "outputs": [],
   "source": [
    "y2=df2['AcceptedCmp2']"
   ]
  },
  {
   "cell_type": "code",
   "execution_count": 35,
   "id": "04894481",
   "metadata": {},
   "outputs": [],
   "source": [
    "x_train,x_test,y_train,y_test=train_test_split(x2,y2,test_size=0.3,random_state=1)"
   ]
  },
  {
   "cell_type": "code",
   "execution_count": 36,
   "id": "6227569d",
   "metadata": {},
   "outputs": [
    {
     "data": {
      "text/plain": [
       "0.9821428571428571"
      ]
     },
     "execution_count": 36,
     "metadata": {},
     "output_type": "execute_result"
    }
   ],
   "source": [
    "dtc=DecisionTreeClassifier()\n",
    "dtc.fit(x_train, y_train)\n",
    "dtc_prediction = dtc.predict(x_test)\n",
    "accuracy_score(dtc_prediction, y_test)"
   ]
  },
  {
   "cell_type": "code",
   "execution_count": 37,
   "id": "429c536b",
   "metadata": {},
   "outputs": [
    {
     "data": {
      "text/plain": [
       "0.9895833333333334"
      ]
     },
     "execution_count": 37,
     "metadata": {},
     "output_type": "execute_result"
    }
   ],
   "source": [
    "svm_class = svm.SVC(kernel = 'rbf')\n",
    "svm_class.fit(x_train, y_train)\n",
    "svm_class_predict = svm_class.predict(x_test)\n",
    "accuracy_score(svm_class_predict, y_test)"
   ]
  },
  {
   "cell_type": "code",
   "execution_count": 38,
   "id": "631d2a05",
   "metadata": {},
   "outputs": [
    {
     "data": {
      "text/plain": [
       "0.9032738095238095"
      ]
     },
     "execution_count": 38,
     "metadata": {},
     "output_type": "execute_result"
    }
   ],
   "source": [
    "gnb = GaussianNB()\n",
    "gnb.fit(x_train, y_train)\n",
    "gnb_predict = gnb.predict(x_test)\n",
    "accuracy_score(gnb_predict, y_test)"
   ]
  },
  {
   "cell_type": "markdown",
   "id": "9ac9f708",
   "metadata": {},
   "source": [
    "The SVM model achieved the highest accuracy among the three models with an accuracy of 0.99. The Decision Tree model followed with an accuracy of 0.98, and the Gaussian Naive Bayes model had an accuracy of 0.90."
   ]
  },
  {
   "cell_type": "markdown",
   "id": "67a433f4",
   "metadata": {},
   "source": [
    "3rd campaign"
   ]
  },
  {
   "cell_type": "code",
   "execution_count": 39,
   "id": "f8720630",
   "metadata": {},
   "outputs": [],
   "source": [
    "x3=df2[['Year_Birth','MntWines', 'MntFruits','MntMeatProducts', \n",
    "       'MntGoldProds','NumCatalogPurchases','NumWebPurchases','NumWebVisitsMonth',\n",
    "        'AcceptedCmp1','AcceptedCmp2','Complain', 'Country','Response']]"
   ]
  },
  {
   "cell_type": "code",
   "execution_count": 40,
   "id": "7739e52a",
   "metadata": {},
   "outputs": [],
   "source": [
    "y3=df2['AcceptedCmp3']"
   ]
  },
  {
   "cell_type": "code",
   "execution_count": 41,
   "id": "7177cf0c",
   "metadata": {},
   "outputs": [],
   "source": [
    "x_train,x_test,y_train,y_test=train_test_split(x3,y3,test_size=0.3,random_state=1)"
   ]
  },
  {
   "cell_type": "code",
   "execution_count": 42,
   "id": "854cd1a4",
   "metadata": {},
   "outputs": [
    {
     "data": {
      "text/plain": [
       "0.8779761904761905"
      ]
     },
     "execution_count": 42,
     "metadata": {},
     "output_type": "execute_result"
    }
   ],
   "source": [
    "dtc=DecisionTreeClassifier()\n",
    "dtc.fit(x_train, y_train)\n",
    "dtc_prediction = dtc.predict(x_test)\n",
    "accuracy_score(dtc_prediction, y_test)"
   ]
  },
  {
   "cell_type": "code",
   "execution_count": 43,
   "id": "260c68ec",
   "metadata": {},
   "outputs": [
    {
     "data": {
      "text/plain": [
       "0.9315476190476191"
      ]
     },
     "execution_count": 43,
     "metadata": {},
     "output_type": "execute_result"
    }
   ],
   "source": [
    "svm_class = svm.SVC(kernel = 'rbf')\n",
    "svm_class.fit(x_train, y_train)\n",
    "svm_class_predict = svm_class.predict(x_test)\n",
    "accuracy_score(svm_class_predict, y_test)"
   ]
  },
  {
   "cell_type": "code",
   "execution_count": 44,
   "id": "2a215977",
   "metadata": {},
   "outputs": [
    {
     "data": {
      "text/plain": [
       "0.7752976190476191"
      ]
     },
     "execution_count": 44,
     "metadata": {},
     "output_type": "execute_result"
    }
   ],
   "source": [
    "gnb = GaussianNB()\n",
    "gnb.fit(x_train, y_train)\n",
    "gnb_predict = gnb.predict(x_test)\n",
    "accuracy_score(gnb_predict, y_test)"
   ]
  },
  {
   "cell_type": "markdown",
   "id": "9f0554c1",
   "metadata": {},
   "source": [
    "The SVM model achieved the highest accuracy among the three models with an accuracy of 0.93. The Decision Tree model followed with an accuracy of 0.87, and the Gaussian Naive Bayes model had an accuracy of 0.77."
   ]
  },
  {
   "cell_type": "markdown",
   "id": "d6c0b48a",
   "metadata": {},
   "source": [
    "4th campaign"
   ]
  },
  {
   "cell_type": "code",
   "execution_count": 45,
   "id": "6552a7e4",
   "metadata": {},
   "outputs": [],
   "source": [
    "x4=df2[['Education', 'Marital_Status', 'Income','Recency', 'Teenhome','MntWines', 'MntFruits',\n",
    "       'MntMeatProducts', 'MntFishProducts', 'MntSweetProducts',\n",
    "       'MntGoldProds', 'NumDealsPurchases', 'NumWebPurchases',\n",
    "       'NumCatalogPurchases', 'NumStorePurchases',\n",
    "       'AcceptedCmp1','AcceptedCmp2','Country']]"
   ]
  },
  {
   "cell_type": "code",
   "execution_count": 46,
   "id": "6ae9dcf0",
   "metadata": {},
   "outputs": [],
   "source": [
    "y4=df2['AcceptedCmp4']"
   ]
  },
  {
   "cell_type": "code",
   "execution_count": 47,
   "id": "e9c6e44f",
   "metadata": {},
   "outputs": [],
   "source": [
    "x_train,x_test,y_train,y_test=train_test_split(x4,y4,test_size=0.3,random_state=1)"
   ]
  },
  {
   "cell_type": "code",
   "execution_count": 48,
   "id": "c35d98ca",
   "metadata": {},
   "outputs": [
    {
     "data": {
      "text/plain": [
       "0.9122023809523809"
      ]
     },
     "execution_count": 48,
     "metadata": {},
     "output_type": "execute_result"
    }
   ],
   "source": [
    "dtc=DecisionTreeClassifier()\n",
    "dtc.fit(x_train, y_train)\n",
    "dtc_prediction = dtc.predict(x_test)\n",
    "accuracy_score(dtc_prediction, y_test)"
   ]
  },
  {
   "cell_type": "code",
   "execution_count": 49,
   "id": "727d4e74",
   "metadata": {},
   "outputs": [
    {
     "data": {
      "text/plain": [
       "0.9345238095238095"
      ]
     },
     "execution_count": 49,
     "metadata": {},
     "output_type": "execute_result"
    }
   ],
   "source": [
    "svm_class = svm.SVC(kernel = 'rbf')\n",
    "svm_class.fit(x_train, y_train)\n",
    "svm_class_predict = svm_class.predict(x_test)\n",
    "accuracy_score(svm_class_predict, y_test)"
   ]
  },
  {
   "cell_type": "code",
   "execution_count": 50,
   "id": "e4573181",
   "metadata": {},
   "outputs": [
    {
     "data": {
      "text/plain": [
       "0.8065476190476191"
      ]
     },
     "execution_count": 50,
     "metadata": {},
     "output_type": "execute_result"
    }
   ],
   "source": [
    "gnb = GaussianNB()\n",
    "gnb.fit(x_train, y_train)\n",
    "gnb_predict = gnb.predict(x_test)\n",
    "accuracy_score(gnb_predict, y_test)"
   ]
  },
  {
   "cell_type": "markdown",
   "id": "f4fd384d",
   "metadata": {},
   "source": [
    "The SVM model achieved the highest accuracy among the three models with an accuracy of 0.93. The Decision Tree model followed with an accuracy of 0.92, and the Gaussian Naive Bayes model had an accuracy of 0.80."
   ]
  },
  {
   "cell_type": "markdown",
   "id": "410791f7",
   "metadata": {},
   "source": [
    "5th campaign"
   ]
  },
  {
   "cell_type": "code",
   "execution_count": 51,
   "id": "2dde723d",
   "metadata": {},
   "outputs": [],
   "source": [
    "x5=df2[['Year_Birth','Education', 'Marital_Status', 'Income','MntWines', 'MntFruits',\n",
    "       'MntMeatProducts', 'MntFishProducts', 'MntSweetProducts',\n",
    "       'MntGoldProds', 'NumWebPurchases',\n",
    "       'NumCatalogPurchases','NumStorePurchases',\n",
    "       'AcceptedCmp1','AcceptedCmp2','AcceptedCmp3','AcceptedCmp4','Country']]"
   ]
  },
  {
   "cell_type": "code",
   "execution_count": 52,
   "id": "8445fc75",
   "metadata": {},
   "outputs": [],
   "source": [
    "y5=df2['AcceptedCmp5']"
   ]
  },
  {
   "cell_type": "code",
   "execution_count": 53,
   "id": "328b1acd",
   "metadata": {},
   "outputs": [],
   "source": [
    "x_train,x_test,y_train,y_test=train_test_split(x5,y5,test_size=0.3,random_state=1)"
   ]
  },
  {
   "cell_type": "code",
   "execution_count": 54,
   "id": "3079d0df",
   "metadata": {},
   "outputs": [
    {
     "data": {
      "text/plain": [
       "0.9330357142857143"
      ]
     },
     "execution_count": 54,
     "metadata": {},
     "output_type": "execute_result"
    }
   ],
   "source": [
    "dtc=DecisionTreeClassifier()\n",
    "dtc.fit(x_train, y_train)\n",
    "dtc_prediction = dtc.predict(x_test)\n",
    "accuracy_score(dtc_prediction, y_test)"
   ]
  },
  {
   "cell_type": "code",
   "execution_count": 55,
   "id": "b3162e81",
   "metadata": {},
   "outputs": [
    {
     "data": {
      "text/plain": [
       "0.9211309523809523"
      ]
     },
     "execution_count": 55,
     "metadata": {},
     "output_type": "execute_result"
    }
   ],
   "source": [
    "svm_class = svm.SVC(kernel = 'rbf')\n",
    "svm_class.fit(x_train, y_train)\n",
    "svm_class_predict = svm_class.predict(x_test)\n",
    "accuracy_score(svm_class_predict, y_test)"
   ]
  },
  {
   "cell_type": "code",
   "execution_count": 56,
   "id": "b02659f0",
   "metadata": {},
   "outputs": [
    {
     "data": {
      "text/plain": [
       "0.8377976190476191"
      ]
     },
     "execution_count": 56,
     "metadata": {},
     "output_type": "execute_result"
    }
   ],
   "source": [
    "gnb = GaussianNB()\n",
    "gnb.fit(x_train, y_train)\n",
    "gnb_predict = gnb.predict(x_test)\n",
    "accuracy_score(gnb_predict, y_test)"
   ]
  },
  {
   "cell_type": "markdown",
   "id": "98f8617b",
   "metadata": {},
   "source": [
    "The Decision Tree model achieved the highest accuracy among the three models with an accuracy of 0.93. The SVM model followed with an accuracy of 0.92, and the Gaussian Naive Bayes model had an accuracy of 0.83."
   ]
  },
  {
   "cell_type": "markdown",
   "id": "e7a9b226",
   "metadata": {},
   "source": [
    "last campaign"
   ]
  },
  {
   "cell_type": "code",
   "execution_count": 57,
   "id": "0e7361f1",
   "metadata": {},
   "outputs": [
    {
     "data": {
      "text/plain": [
       "Year_Birth             0.018424\n",
       "Education              0.090525\n",
       "Marital_Status         0.006679\n",
       "Income                 0.133247\n",
       "Kidhome               -0.080176\n",
       "Teenhome              -0.154730\n",
       "Recency               -0.198568\n",
       "MntWines               0.247392\n",
       "MntFruits              0.125904\n",
       "MntMeatProducts        0.236640\n",
       "MntFishProducts        0.111415\n",
       "MntSweetProducts       0.117366\n",
       "MntGoldProds           0.140693\n",
       "NumDealsPurchases      0.001854\n",
       "NumWebPurchases        0.148453\n",
       "NumCatalogPurchases    0.220894\n",
       "NumStorePurchases      0.038855\n",
       "NumWebVisitsMonth     -0.004449\n",
       "AcceptedCmp3           0.254144\n",
       "AcceptedCmp4           0.176890\n",
       "AcceptedCmp5           0.328182\n",
       "AcceptedCmp1           0.293882\n",
       "AcceptedCmp2           0.169249\n",
       "Response               1.000000\n",
       "Complain               0.000185\n",
       "Country                0.021498\n",
       "Age                   -0.018424\n",
       "Name: Response, dtype: float64"
      ]
     },
     "execution_count": 57,
     "metadata": {},
     "output_type": "execute_result"
    }
   ],
   "source": [
    "df2.corr().Response"
   ]
  },
  {
   "cell_type": "code",
   "execution_count": 58,
   "id": "e92e960e",
   "metadata": {},
   "outputs": [],
   "source": [
    "x6=df2[['Income','Year_Birth','Marital_Status','MntWines', 'MntFruits',\n",
    "       'MntMeatProducts', 'MntFishProducts', 'MntSweetProducts',\n",
    "       'MntGoldProds', 'NumDealsPurchases', 'NumWebPurchases',\n",
    "       'NumCatalogPurchases', 'NumStorePurchases',\n",
    "       'AcceptedCmp1', 'AcceptedCmp2', 'AcceptedCmp3','AcceptedCmp4',\n",
    "       'AcceptedCmp5']]"
   ]
  },
  {
   "cell_type": "code",
   "execution_count": 59,
   "id": "d24f12e5",
   "metadata": {},
   "outputs": [],
   "source": [
    "y6=df2['Response']"
   ]
  },
  {
   "cell_type": "code",
   "execution_count": 60,
   "id": "9225f1b3",
   "metadata": {},
   "outputs": [],
   "source": [
    "x_train,x_test,y_train,y_test=train_test_split(x6,y6,test_size=0.3,random_state=1)"
   ]
  },
  {
   "cell_type": "code",
   "execution_count": 61,
   "id": "76ed6588",
   "metadata": {},
   "outputs": [
    {
     "data": {
      "text/plain": [
       "(1565, 18)"
      ]
     },
     "execution_count": 61,
     "metadata": {},
     "output_type": "execute_result"
    }
   ],
   "source": [
    "x_train.shape"
   ]
  },
  {
   "cell_type": "code",
   "execution_count": 62,
   "id": "8c13bfa8",
   "metadata": {},
   "outputs": [
    {
     "data": {
      "text/plain": [
       "(672, 18)"
      ]
     },
     "execution_count": 62,
     "metadata": {},
     "output_type": "execute_result"
    }
   ],
   "source": [
    "x_test.shape"
   ]
  },
  {
   "cell_type": "code",
   "execution_count": 63,
   "id": "4f70585c",
   "metadata": {},
   "outputs": [
    {
     "data": {
      "text/plain": [
       "(1565,)"
      ]
     },
     "execution_count": 63,
     "metadata": {},
     "output_type": "execute_result"
    }
   ],
   "source": [
    "y_train.shape"
   ]
  },
  {
   "cell_type": "code",
   "execution_count": 64,
   "id": "c3eaf201",
   "metadata": {},
   "outputs": [
    {
     "data": {
      "text/plain": [
       "(672,)"
      ]
     },
     "execution_count": 64,
     "metadata": {},
     "output_type": "execute_result"
    }
   ],
   "source": [
    "y_test.shape"
   ]
  },
  {
   "cell_type": "markdown",
   "id": "e4af465f",
   "metadata": {},
   "source": [
    "#### Decision Tree Classifier"
   ]
  },
  {
   "cell_type": "code",
   "execution_count": 65,
   "id": "2f132f99",
   "metadata": {},
   "outputs": [
    {
     "data": {
      "text/html": [
       "<style>#sk-container-id-1 {color: black;}#sk-container-id-1 pre{padding: 0;}#sk-container-id-1 div.sk-toggleable {background-color: white;}#sk-container-id-1 label.sk-toggleable__label {cursor: pointer;display: block;width: 100%;margin-bottom: 0;padding: 0.3em;box-sizing: border-box;text-align: center;}#sk-container-id-1 label.sk-toggleable__label-arrow:before {content: \"▸\";float: left;margin-right: 0.25em;color: #696969;}#sk-container-id-1 label.sk-toggleable__label-arrow:hover:before {color: black;}#sk-container-id-1 div.sk-estimator:hover label.sk-toggleable__label-arrow:before {color: black;}#sk-container-id-1 div.sk-toggleable__content {max-height: 0;max-width: 0;overflow: hidden;text-align: left;background-color: #f0f8ff;}#sk-container-id-1 div.sk-toggleable__content pre {margin: 0.2em;color: black;border-radius: 0.25em;background-color: #f0f8ff;}#sk-container-id-1 input.sk-toggleable__control:checked~div.sk-toggleable__content {max-height: 200px;max-width: 100%;overflow: auto;}#sk-container-id-1 input.sk-toggleable__control:checked~label.sk-toggleable__label-arrow:before {content: \"▾\";}#sk-container-id-1 div.sk-estimator input.sk-toggleable__control:checked~label.sk-toggleable__label {background-color: #d4ebff;}#sk-container-id-1 div.sk-label input.sk-toggleable__control:checked~label.sk-toggleable__label {background-color: #d4ebff;}#sk-container-id-1 input.sk-hidden--visually {border: 0;clip: rect(1px 1px 1px 1px);clip: rect(1px, 1px, 1px, 1px);height: 1px;margin: -1px;overflow: hidden;padding: 0;position: absolute;width: 1px;}#sk-container-id-1 div.sk-estimator {font-family: monospace;background-color: #f0f8ff;border: 1px dotted black;border-radius: 0.25em;box-sizing: border-box;margin-bottom: 0.5em;}#sk-container-id-1 div.sk-estimator:hover {background-color: #d4ebff;}#sk-container-id-1 div.sk-parallel-item::after {content: \"\";width: 100%;border-bottom: 1px solid gray;flex-grow: 1;}#sk-container-id-1 div.sk-label:hover label.sk-toggleable__label {background-color: #d4ebff;}#sk-container-id-1 div.sk-serial::before {content: \"\";position: absolute;border-left: 1px solid gray;box-sizing: border-box;top: 0;bottom: 0;left: 50%;z-index: 0;}#sk-container-id-1 div.sk-serial {display: flex;flex-direction: column;align-items: center;background-color: white;padding-right: 0.2em;padding-left: 0.2em;position: relative;}#sk-container-id-1 div.sk-item {position: relative;z-index: 1;}#sk-container-id-1 div.sk-parallel {display: flex;align-items: stretch;justify-content: center;background-color: white;position: relative;}#sk-container-id-1 div.sk-item::before, #sk-container-id-1 div.sk-parallel-item::before {content: \"\";position: absolute;border-left: 1px solid gray;box-sizing: border-box;top: 0;bottom: 0;left: 50%;z-index: -1;}#sk-container-id-1 div.sk-parallel-item {display: flex;flex-direction: column;z-index: 1;position: relative;background-color: white;}#sk-container-id-1 div.sk-parallel-item:first-child::after {align-self: flex-end;width: 50%;}#sk-container-id-1 div.sk-parallel-item:last-child::after {align-self: flex-start;width: 50%;}#sk-container-id-1 div.sk-parallel-item:only-child::after {width: 0;}#sk-container-id-1 div.sk-dashed-wrapped {border: 1px dashed gray;margin: 0 0.4em 0.5em 0.4em;box-sizing: border-box;padding-bottom: 0.4em;background-color: white;}#sk-container-id-1 div.sk-label label {font-family: monospace;font-weight: bold;display: inline-block;line-height: 1.2em;}#sk-container-id-1 div.sk-label-container {text-align: center;}#sk-container-id-1 div.sk-container {/* jupyter's `normalize.less` sets `[hidden] { display: none; }` but bootstrap.min.css set `[hidden] { display: none !important; }` so we also need the `!important` here to be able to override the default hidden behavior on the sphinx rendered scikit-learn.org. See: https://github.com/scikit-learn/scikit-learn/issues/21755 */display: inline-block !important;position: relative;}#sk-container-id-1 div.sk-text-repr-fallback {display: none;}</style><div id=\"sk-container-id-1\" class=\"sk-top-container\"><div class=\"sk-text-repr-fallback\"><pre>DecisionTreeClassifier()</pre><b>In a Jupyter environment, please rerun this cell to show the HTML representation or trust the notebook. <br />On GitHub, the HTML representation is unable to render, please try loading this page with nbviewer.org.</b></div><div class=\"sk-container\" hidden><div class=\"sk-item\"><div class=\"sk-estimator sk-toggleable\"><input class=\"sk-toggleable__control sk-hidden--visually\" id=\"sk-estimator-id-1\" type=\"checkbox\" checked><label for=\"sk-estimator-id-1\" class=\"sk-toggleable__label sk-toggleable__label-arrow\">DecisionTreeClassifier</label><div class=\"sk-toggleable__content\"><pre>DecisionTreeClassifier()</pre></div></div></div></div></div>"
      ],
      "text/plain": [
       "DecisionTreeClassifier()"
      ]
     },
     "execution_count": 65,
     "metadata": {},
     "output_type": "execute_result"
    }
   ],
   "source": [
    "dtc=DecisionTreeClassifier()\n",
    "dtc"
   ]
  },
  {
   "cell_type": "code",
   "execution_count": 66,
   "id": "8d7b00f1",
   "metadata": {},
   "outputs": [
    {
     "data": {
      "text/html": [
       "<style>#sk-container-id-2 {color: black;}#sk-container-id-2 pre{padding: 0;}#sk-container-id-2 div.sk-toggleable {background-color: white;}#sk-container-id-2 label.sk-toggleable__label {cursor: pointer;display: block;width: 100%;margin-bottom: 0;padding: 0.3em;box-sizing: border-box;text-align: center;}#sk-container-id-2 label.sk-toggleable__label-arrow:before {content: \"▸\";float: left;margin-right: 0.25em;color: #696969;}#sk-container-id-2 label.sk-toggleable__label-arrow:hover:before {color: black;}#sk-container-id-2 div.sk-estimator:hover label.sk-toggleable__label-arrow:before {color: black;}#sk-container-id-2 div.sk-toggleable__content {max-height: 0;max-width: 0;overflow: hidden;text-align: left;background-color: #f0f8ff;}#sk-container-id-2 div.sk-toggleable__content pre {margin: 0.2em;color: black;border-radius: 0.25em;background-color: #f0f8ff;}#sk-container-id-2 input.sk-toggleable__control:checked~div.sk-toggleable__content {max-height: 200px;max-width: 100%;overflow: auto;}#sk-container-id-2 input.sk-toggleable__control:checked~label.sk-toggleable__label-arrow:before {content: \"▾\";}#sk-container-id-2 div.sk-estimator input.sk-toggleable__control:checked~label.sk-toggleable__label {background-color: #d4ebff;}#sk-container-id-2 div.sk-label input.sk-toggleable__control:checked~label.sk-toggleable__label {background-color: #d4ebff;}#sk-container-id-2 input.sk-hidden--visually {border: 0;clip: rect(1px 1px 1px 1px);clip: rect(1px, 1px, 1px, 1px);height: 1px;margin: -1px;overflow: hidden;padding: 0;position: absolute;width: 1px;}#sk-container-id-2 div.sk-estimator {font-family: monospace;background-color: #f0f8ff;border: 1px dotted black;border-radius: 0.25em;box-sizing: border-box;margin-bottom: 0.5em;}#sk-container-id-2 div.sk-estimator:hover {background-color: #d4ebff;}#sk-container-id-2 div.sk-parallel-item::after {content: \"\";width: 100%;border-bottom: 1px solid gray;flex-grow: 1;}#sk-container-id-2 div.sk-label:hover label.sk-toggleable__label {background-color: #d4ebff;}#sk-container-id-2 div.sk-serial::before {content: \"\";position: absolute;border-left: 1px solid gray;box-sizing: border-box;top: 0;bottom: 0;left: 50%;z-index: 0;}#sk-container-id-2 div.sk-serial {display: flex;flex-direction: column;align-items: center;background-color: white;padding-right: 0.2em;padding-left: 0.2em;position: relative;}#sk-container-id-2 div.sk-item {position: relative;z-index: 1;}#sk-container-id-2 div.sk-parallel {display: flex;align-items: stretch;justify-content: center;background-color: white;position: relative;}#sk-container-id-2 div.sk-item::before, #sk-container-id-2 div.sk-parallel-item::before {content: \"\";position: absolute;border-left: 1px solid gray;box-sizing: border-box;top: 0;bottom: 0;left: 50%;z-index: -1;}#sk-container-id-2 div.sk-parallel-item {display: flex;flex-direction: column;z-index: 1;position: relative;background-color: white;}#sk-container-id-2 div.sk-parallel-item:first-child::after {align-self: flex-end;width: 50%;}#sk-container-id-2 div.sk-parallel-item:last-child::after {align-self: flex-start;width: 50%;}#sk-container-id-2 div.sk-parallel-item:only-child::after {width: 0;}#sk-container-id-2 div.sk-dashed-wrapped {border: 1px dashed gray;margin: 0 0.4em 0.5em 0.4em;box-sizing: border-box;padding-bottom: 0.4em;background-color: white;}#sk-container-id-2 div.sk-label label {font-family: monospace;font-weight: bold;display: inline-block;line-height: 1.2em;}#sk-container-id-2 div.sk-label-container {text-align: center;}#sk-container-id-2 div.sk-container {/* jupyter's `normalize.less` sets `[hidden] { display: none; }` but bootstrap.min.css set `[hidden] { display: none !important; }` so we also need the `!important` here to be able to override the default hidden behavior on the sphinx rendered scikit-learn.org. See: https://github.com/scikit-learn/scikit-learn/issues/21755 */display: inline-block !important;position: relative;}#sk-container-id-2 div.sk-text-repr-fallback {display: none;}</style><div id=\"sk-container-id-2\" class=\"sk-top-container\"><div class=\"sk-text-repr-fallback\"><pre>DecisionTreeClassifier()</pre><b>In a Jupyter environment, please rerun this cell to show the HTML representation or trust the notebook. <br />On GitHub, the HTML representation is unable to render, please try loading this page with nbviewer.org.</b></div><div class=\"sk-container\" hidden><div class=\"sk-item\"><div class=\"sk-estimator sk-toggleable\"><input class=\"sk-toggleable__control sk-hidden--visually\" id=\"sk-estimator-id-2\" type=\"checkbox\" checked><label for=\"sk-estimator-id-2\" class=\"sk-toggleable__label sk-toggleable__label-arrow\">DecisionTreeClassifier</label><div class=\"sk-toggleable__content\"><pre>DecisionTreeClassifier()</pre></div></div></div></div></div>"
      ],
      "text/plain": [
       "DecisionTreeClassifier()"
      ]
     },
     "execution_count": 66,
     "metadata": {},
     "output_type": "execute_result"
    }
   ],
   "source": [
    "dtc.fit(x_train, y_train)"
   ]
  },
  {
   "cell_type": "code",
   "execution_count": 67,
   "id": "3031a536",
   "metadata": {},
   "outputs": [],
   "source": [
    "dtc_prediction = dtc.predict(x_test)"
   ]
  },
  {
   "cell_type": "code",
   "execution_count": 68,
   "id": "5226c759",
   "metadata": {},
   "outputs": [
    {
     "data": {
      "text/plain": [
       "0.8303571428571429"
      ]
     },
     "execution_count": 68,
     "metadata": {},
     "output_type": "execute_result"
    }
   ],
   "source": [
    "accuracy_score(dtc_prediction, y_test)"
   ]
  },
  {
   "cell_type": "markdown",
   "id": "5511fe22",
   "metadata": {},
   "source": [
    "#### Support Vector Machine"
   ]
  },
  {
   "cell_type": "code",
   "execution_count": 69,
   "id": "acf20f4f",
   "metadata": {},
   "outputs": [
    {
     "data": {
      "text/html": [
       "<style>#sk-container-id-3 {color: black;}#sk-container-id-3 pre{padding: 0;}#sk-container-id-3 div.sk-toggleable {background-color: white;}#sk-container-id-3 label.sk-toggleable__label {cursor: pointer;display: block;width: 100%;margin-bottom: 0;padding: 0.3em;box-sizing: border-box;text-align: center;}#sk-container-id-3 label.sk-toggleable__label-arrow:before {content: \"▸\";float: left;margin-right: 0.25em;color: #696969;}#sk-container-id-3 label.sk-toggleable__label-arrow:hover:before {color: black;}#sk-container-id-3 div.sk-estimator:hover label.sk-toggleable__label-arrow:before {color: black;}#sk-container-id-3 div.sk-toggleable__content {max-height: 0;max-width: 0;overflow: hidden;text-align: left;background-color: #f0f8ff;}#sk-container-id-3 div.sk-toggleable__content pre {margin: 0.2em;color: black;border-radius: 0.25em;background-color: #f0f8ff;}#sk-container-id-3 input.sk-toggleable__control:checked~div.sk-toggleable__content {max-height: 200px;max-width: 100%;overflow: auto;}#sk-container-id-3 input.sk-toggleable__control:checked~label.sk-toggleable__label-arrow:before {content: \"▾\";}#sk-container-id-3 div.sk-estimator input.sk-toggleable__control:checked~label.sk-toggleable__label {background-color: #d4ebff;}#sk-container-id-3 div.sk-label input.sk-toggleable__control:checked~label.sk-toggleable__label {background-color: #d4ebff;}#sk-container-id-3 input.sk-hidden--visually {border: 0;clip: rect(1px 1px 1px 1px);clip: rect(1px, 1px, 1px, 1px);height: 1px;margin: -1px;overflow: hidden;padding: 0;position: absolute;width: 1px;}#sk-container-id-3 div.sk-estimator {font-family: monospace;background-color: #f0f8ff;border: 1px dotted black;border-radius: 0.25em;box-sizing: border-box;margin-bottom: 0.5em;}#sk-container-id-3 div.sk-estimator:hover {background-color: #d4ebff;}#sk-container-id-3 div.sk-parallel-item::after {content: \"\";width: 100%;border-bottom: 1px solid gray;flex-grow: 1;}#sk-container-id-3 div.sk-label:hover label.sk-toggleable__label {background-color: #d4ebff;}#sk-container-id-3 div.sk-serial::before {content: \"\";position: absolute;border-left: 1px solid gray;box-sizing: border-box;top: 0;bottom: 0;left: 50%;z-index: 0;}#sk-container-id-3 div.sk-serial {display: flex;flex-direction: column;align-items: center;background-color: white;padding-right: 0.2em;padding-left: 0.2em;position: relative;}#sk-container-id-3 div.sk-item {position: relative;z-index: 1;}#sk-container-id-3 div.sk-parallel {display: flex;align-items: stretch;justify-content: center;background-color: white;position: relative;}#sk-container-id-3 div.sk-item::before, #sk-container-id-3 div.sk-parallel-item::before {content: \"\";position: absolute;border-left: 1px solid gray;box-sizing: border-box;top: 0;bottom: 0;left: 50%;z-index: -1;}#sk-container-id-3 div.sk-parallel-item {display: flex;flex-direction: column;z-index: 1;position: relative;background-color: white;}#sk-container-id-3 div.sk-parallel-item:first-child::after {align-self: flex-end;width: 50%;}#sk-container-id-3 div.sk-parallel-item:last-child::after {align-self: flex-start;width: 50%;}#sk-container-id-3 div.sk-parallel-item:only-child::after {width: 0;}#sk-container-id-3 div.sk-dashed-wrapped {border: 1px dashed gray;margin: 0 0.4em 0.5em 0.4em;box-sizing: border-box;padding-bottom: 0.4em;background-color: white;}#sk-container-id-3 div.sk-label label {font-family: monospace;font-weight: bold;display: inline-block;line-height: 1.2em;}#sk-container-id-3 div.sk-label-container {text-align: center;}#sk-container-id-3 div.sk-container {/* jupyter's `normalize.less` sets `[hidden] { display: none; }` but bootstrap.min.css set `[hidden] { display: none !important; }` so we also need the `!important` here to be able to override the default hidden behavior on the sphinx rendered scikit-learn.org. See: https://github.com/scikit-learn/scikit-learn/issues/21755 */display: inline-block !important;position: relative;}#sk-container-id-3 div.sk-text-repr-fallback {display: none;}</style><div id=\"sk-container-id-3\" class=\"sk-top-container\"><div class=\"sk-text-repr-fallback\"><pre>SVC()</pre><b>In a Jupyter environment, please rerun this cell to show the HTML representation or trust the notebook. <br />On GitHub, the HTML representation is unable to render, please try loading this page with nbviewer.org.</b></div><div class=\"sk-container\" hidden><div class=\"sk-item\"><div class=\"sk-estimator sk-toggleable\"><input class=\"sk-toggleable__control sk-hidden--visually\" id=\"sk-estimator-id-3\" type=\"checkbox\" checked><label for=\"sk-estimator-id-3\" class=\"sk-toggleable__label sk-toggleable__label-arrow\">SVC</label><div class=\"sk-toggleable__content\"><pre>SVC()</pre></div></div></div></div></div>"
      ],
      "text/plain": [
       "SVC()"
      ]
     },
     "execution_count": 69,
     "metadata": {},
     "output_type": "execute_result"
    }
   ],
   "source": [
    "svm_class = svm.SVC(kernel = 'rbf')\n",
    "svm_class"
   ]
  },
  {
   "cell_type": "code",
   "execution_count": 70,
   "id": "e6c47334",
   "metadata": {},
   "outputs": [
    {
     "data": {
      "text/html": [
       "<style>#sk-container-id-4 {color: black;}#sk-container-id-4 pre{padding: 0;}#sk-container-id-4 div.sk-toggleable {background-color: white;}#sk-container-id-4 label.sk-toggleable__label {cursor: pointer;display: block;width: 100%;margin-bottom: 0;padding: 0.3em;box-sizing: border-box;text-align: center;}#sk-container-id-4 label.sk-toggleable__label-arrow:before {content: \"▸\";float: left;margin-right: 0.25em;color: #696969;}#sk-container-id-4 label.sk-toggleable__label-arrow:hover:before {color: black;}#sk-container-id-4 div.sk-estimator:hover label.sk-toggleable__label-arrow:before {color: black;}#sk-container-id-4 div.sk-toggleable__content {max-height: 0;max-width: 0;overflow: hidden;text-align: left;background-color: #f0f8ff;}#sk-container-id-4 div.sk-toggleable__content pre {margin: 0.2em;color: black;border-radius: 0.25em;background-color: #f0f8ff;}#sk-container-id-4 input.sk-toggleable__control:checked~div.sk-toggleable__content {max-height: 200px;max-width: 100%;overflow: auto;}#sk-container-id-4 input.sk-toggleable__control:checked~label.sk-toggleable__label-arrow:before {content: \"▾\";}#sk-container-id-4 div.sk-estimator input.sk-toggleable__control:checked~label.sk-toggleable__label {background-color: #d4ebff;}#sk-container-id-4 div.sk-label input.sk-toggleable__control:checked~label.sk-toggleable__label {background-color: #d4ebff;}#sk-container-id-4 input.sk-hidden--visually {border: 0;clip: rect(1px 1px 1px 1px);clip: rect(1px, 1px, 1px, 1px);height: 1px;margin: -1px;overflow: hidden;padding: 0;position: absolute;width: 1px;}#sk-container-id-4 div.sk-estimator {font-family: monospace;background-color: #f0f8ff;border: 1px dotted black;border-radius: 0.25em;box-sizing: border-box;margin-bottom: 0.5em;}#sk-container-id-4 div.sk-estimator:hover {background-color: #d4ebff;}#sk-container-id-4 div.sk-parallel-item::after {content: \"\";width: 100%;border-bottom: 1px solid gray;flex-grow: 1;}#sk-container-id-4 div.sk-label:hover label.sk-toggleable__label {background-color: #d4ebff;}#sk-container-id-4 div.sk-serial::before {content: \"\";position: absolute;border-left: 1px solid gray;box-sizing: border-box;top: 0;bottom: 0;left: 50%;z-index: 0;}#sk-container-id-4 div.sk-serial {display: flex;flex-direction: column;align-items: center;background-color: white;padding-right: 0.2em;padding-left: 0.2em;position: relative;}#sk-container-id-4 div.sk-item {position: relative;z-index: 1;}#sk-container-id-4 div.sk-parallel {display: flex;align-items: stretch;justify-content: center;background-color: white;position: relative;}#sk-container-id-4 div.sk-item::before, #sk-container-id-4 div.sk-parallel-item::before {content: \"\";position: absolute;border-left: 1px solid gray;box-sizing: border-box;top: 0;bottom: 0;left: 50%;z-index: -1;}#sk-container-id-4 div.sk-parallel-item {display: flex;flex-direction: column;z-index: 1;position: relative;background-color: white;}#sk-container-id-4 div.sk-parallel-item:first-child::after {align-self: flex-end;width: 50%;}#sk-container-id-4 div.sk-parallel-item:last-child::after {align-self: flex-start;width: 50%;}#sk-container-id-4 div.sk-parallel-item:only-child::after {width: 0;}#sk-container-id-4 div.sk-dashed-wrapped {border: 1px dashed gray;margin: 0 0.4em 0.5em 0.4em;box-sizing: border-box;padding-bottom: 0.4em;background-color: white;}#sk-container-id-4 div.sk-label label {font-family: monospace;font-weight: bold;display: inline-block;line-height: 1.2em;}#sk-container-id-4 div.sk-label-container {text-align: center;}#sk-container-id-4 div.sk-container {/* jupyter's `normalize.less` sets `[hidden] { display: none; }` but bootstrap.min.css set `[hidden] { display: none !important; }` so we also need the `!important` here to be able to override the default hidden behavior on the sphinx rendered scikit-learn.org. See: https://github.com/scikit-learn/scikit-learn/issues/21755 */display: inline-block !important;position: relative;}#sk-container-id-4 div.sk-text-repr-fallback {display: none;}</style><div id=\"sk-container-id-4\" class=\"sk-top-container\"><div class=\"sk-text-repr-fallback\"><pre>SVC()</pre><b>In a Jupyter environment, please rerun this cell to show the HTML representation or trust the notebook. <br />On GitHub, the HTML representation is unable to render, please try loading this page with nbviewer.org.</b></div><div class=\"sk-container\" hidden><div class=\"sk-item\"><div class=\"sk-estimator sk-toggleable\"><input class=\"sk-toggleable__control sk-hidden--visually\" id=\"sk-estimator-id-4\" type=\"checkbox\" checked><label for=\"sk-estimator-id-4\" class=\"sk-toggleable__label sk-toggleable__label-arrow\">SVC</label><div class=\"sk-toggleable__content\"><pre>SVC()</pre></div></div></div></div></div>"
      ],
      "text/plain": [
       "SVC()"
      ]
     },
     "execution_count": 70,
     "metadata": {},
     "output_type": "execute_result"
    }
   ],
   "source": [
    "svm_class.fit(x_train,y_train)"
   ]
  },
  {
   "cell_type": "code",
   "execution_count": 71,
   "id": "8eadacb9",
   "metadata": {},
   "outputs": [],
   "source": [
    "svm_class_predict = svm_class.predict(x_test)"
   ]
  },
  {
   "cell_type": "code",
   "execution_count": 72,
   "id": "168efc8f",
   "metadata": {},
   "outputs": [
    {
     "data": {
      "text/plain": [
       "0.8318452380952381"
      ]
     },
     "execution_count": 72,
     "metadata": {},
     "output_type": "execute_result"
    }
   ],
   "source": [
    "accuracy_score(svm_class_predict, y_test)"
   ]
  },
  {
   "cell_type": "markdown",
   "id": "02e8eaff",
   "metadata": {},
   "source": [
    "#### Gaussian Naive Bayes classifier"
   ]
  },
  {
   "cell_type": "code",
   "execution_count": 73,
   "id": "7079fbaa",
   "metadata": {},
   "outputs": [
    {
     "data": {
      "text/html": [
       "<style>#sk-container-id-5 {color: black;}#sk-container-id-5 pre{padding: 0;}#sk-container-id-5 div.sk-toggleable {background-color: white;}#sk-container-id-5 label.sk-toggleable__label {cursor: pointer;display: block;width: 100%;margin-bottom: 0;padding: 0.3em;box-sizing: border-box;text-align: center;}#sk-container-id-5 label.sk-toggleable__label-arrow:before {content: \"▸\";float: left;margin-right: 0.25em;color: #696969;}#sk-container-id-5 label.sk-toggleable__label-arrow:hover:before {color: black;}#sk-container-id-5 div.sk-estimator:hover label.sk-toggleable__label-arrow:before {color: black;}#sk-container-id-5 div.sk-toggleable__content {max-height: 0;max-width: 0;overflow: hidden;text-align: left;background-color: #f0f8ff;}#sk-container-id-5 div.sk-toggleable__content pre {margin: 0.2em;color: black;border-radius: 0.25em;background-color: #f0f8ff;}#sk-container-id-5 input.sk-toggleable__control:checked~div.sk-toggleable__content {max-height: 200px;max-width: 100%;overflow: auto;}#sk-container-id-5 input.sk-toggleable__control:checked~label.sk-toggleable__label-arrow:before {content: \"▾\";}#sk-container-id-5 div.sk-estimator input.sk-toggleable__control:checked~label.sk-toggleable__label {background-color: #d4ebff;}#sk-container-id-5 div.sk-label input.sk-toggleable__control:checked~label.sk-toggleable__label {background-color: #d4ebff;}#sk-container-id-5 input.sk-hidden--visually {border: 0;clip: rect(1px 1px 1px 1px);clip: rect(1px, 1px, 1px, 1px);height: 1px;margin: -1px;overflow: hidden;padding: 0;position: absolute;width: 1px;}#sk-container-id-5 div.sk-estimator {font-family: monospace;background-color: #f0f8ff;border: 1px dotted black;border-radius: 0.25em;box-sizing: border-box;margin-bottom: 0.5em;}#sk-container-id-5 div.sk-estimator:hover {background-color: #d4ebff;}#sk-container-id-5 div.sk-parallel-item::after {content: \"\";width: 100%;border-bottom: 1px solid gray;flex-grow: 1;}#sk-container-id-5 div.sk-label:hover label.sk-toggleable__label {background-color: #d4ebff;}#sk-container-id-5 div.sk-serial::before {content: \"\";position: absolute;border-left: 1px solid gray;box-sizing: border-box;top: 0;bottom: 0;left: 50%;z-index: 0;}#sk-container-id-5 div.sk-serial {display: flex;flex-direction: column;align-items: center;background-color: white;padding-right: 0.2em;padding-left: 0.2em;position: relative;}#sk-container-id-5 div.sk-item {position: relative;z-index: 1;}#sk-container-id-5 div.sk-parallel {display: flex;align-items: stretch;justify-content: center;background-color: white;position: relative;}#sk-container-id-5 div.sk-item::before, #sk-container-id-5 div.sk-parallel-item::before {content: \"\";position: absolute;border-left: 1px solid gray;box-sizing: border-box;top: 0;bottom: 0;left: 50%;z-index: -1;}#sk-container-id-5 div.sk-parallel-item {display: flex;flex-direction: column;z-index: 1;position: relative;background-color: white;}#sk-container-id-5 div.sk-parallel-item:first-child::after {align-self: flex-end;width: 50%;}#sk-container-id-5 div.sk-parallel-item:last-child::after {align-self: flex-start;width: 50%;}#sk-container-id-5 div.sk-parallel-item:only-child::after {width: 0;}#sk-container-id-5 div.sk-dashed-wrapped {border: 1px dashed gray;margin: 0 0.4em 0.5em 0.4em;box-sizing: border-box;padding-bottom: 0.4em;background-color: white;}#sk-container-id-5 div.sk-label label {font-family: monospace;font-weight: bold;display: inline-block;line-height: 1.2em;}#sk-container-id-5 div.sk-label-container {text-align: center;}#sk-container-id-5 div.sk-container {/* jupyter's `normalize.less` sets `[hidden] { display: none; }` but bootstrap.min.css set `[hidden] { display: none !important; }` so we also need the `!important` here to be able to override the default hidden behavior on the sphinx rendered scikit-learn.org. See: https://github.com/scikit-learn/scikit-learn/issues/21755 */display: inline-block !important;position: relative;}#sk-container-id-5 div.sk-text-repr-fallback {display: none;}</style><div id=\"sk-container-id-5\" class=\"sk-top-container\"><div class=\"sk-text-repr-fallback\"><pre>GaussianNB()</pre><b>In a Jupyter environment, please rerun this cell to show the HTML representation or trust the notebook. <br />On GitHub, the HTML representation is unable to render, please try loading this page with nbviewer.org.</b></div><div class=\"sk-container\" hidden><div class=\"sk-item\"><div class=\"sk-estimator sk-toggleable\"><input class=\"sk-toggleable__control sk-hidden--visually\" id=\"sk-estimator-id-5\" type=\"checkbox\" checked><label for=\"sk-estimator-id-5\" class=\"sk-toggleable__label sk-toggleable__label-arrow\">GaussianNB</label><div class=\"sk-toggleable__content\"><pre>GaussianNB()</pre></div></div></div></div></div>"
      ],
      "text/plain": [
       "GaussianNB()"
      ]
     },
     "execution_count": 73,
     "metadata": {},
     "output_type": "execute_result"
    }
   ],
   "source": [
    "gnb = GaussianNB()\n",
    "gnb"
   ]
  },
  {
   "cell_type": "code",
   "execution_count": 74,
   "id": "7e27081c",
   "metadata": {},
   "outputs": [
    {
     "data": {
      "text/html": [
       "<style>#sk-container-id-6 {color: black;}#sk-container-id-6 pre{padding: 0;}#sk-container-id-6 div.sk-toggleable {background-color: white;}#sk-container-id-6 label.sk-toggleable__label {cursor: pointer;display: block;width: 100%;margin-bottom: 0;padding: 0.3em;box-sizing: border-box;text-align: center;}#sk-container-id-6 label.sk-toggleable__label-arrow:before {content: \"▸\";float: left;margin-right: 0.25em;color: #696969;}#sk-container-id-6 label.sk-toggleable__label-arrow:hover:before {color: black;}#sk-container-id-6 div.sk-estimator:hover label.sk-toggleable__label-arrow:before {color: black;}#sk-container-id-6 div.sk-toggleable__content {max-height: 0;max-width: 0;overflow: hidden;text-align: left;background-color: #f0f8ff;}#sk-container-id-6 div.sk-toggleable__content pre {margin: 0.2em;color: black;border-radius: 0.25em;background-color: #f0f8ff;}#sk-container-id-6 input.sk-toggleable__control:checked~div.sk-toggleable__content {max-height: 200px;max-width: 100%;overflow: auto;}#sk-container-id-6 input.sk-toggleable__control:checked~label.sk-toggleable__label-arrow:before {content: \"▾\";}#sk-container-id-6 div.sk-estimator input.sk-toggleable__control:checked~label.sk-toggleable__label {background-color: #d4ebff;}#sk-container-id-6 div.sk-label input.sk-toggleable__control:checked~label.sk-toggleable__label {background-color: #d4ebff;}#sk-container-id-6 input.sk-hidden--visually {border: 0;clip: rect(1px 1px 1px 1px);clip: rect(1px, 1px, 1px, 1px);height: 1px;margin: -1px;overflow: hidden;padding: 0;position: absolute;width: 1px;}#sk-container-id-6 div.sk-estimator {font-family: monospace;background-color: #f0f8ff;border: 1px dotted black;border-radius: 0.25em;box-sizing: border-box;margin-bottom: 0.5em;}#sk-container-id-6 div.sk-estimator:hover {background-color: #d4ebff;}#sk-container-id-6 div.sk-parallel-item::after {content: \"\";width: 100%;border-bottom: 1px solid gray;flex-grow: 1;}#sk-container-id-6 div.sk-label:hover label.sk-toggleable__label {background-color: #d4ebff;}#sk-container-id-6 div.sk-serial::before {content: \"\";position: absolute;border-left: 1px solid gray;box-sizing: border-box;top: 0;bottom: 0;left: 50%;z-index: 0;}#sk-container-id-6 div.sk-serial {display: flex;flex-direction: column;align-items: center;background-color: white;padding-right: 0.2em;padding-left: 0.2em;position: relative;}#sk-container-id-6 div.sk-item {position: relative;z-index: 1;}#sk-container-id-6 div.sk-parallel {display: flex;align-items: stretch;justify-content: center;background-color: white;position: relative;}#sk-container-id-6 div.sk-item::before, #sk-container-id-6 div.sk-parallel-item::before {content: \"\";position: absolute;border-left: 1px solid gray;box-sizing: border-box;top: 0;bottom: 0;left: 50%;z-index: -1;}#sk-container-id-6 div.sk-parallel-item {display: flex;flex-direction: column;z-index: 1;position: relative;background-color: white;}#sk-container-id-6 div.sk-parallel-item:first-child::after {align-self: flex-end;width: 50%;}#sk-container-id-6 div.sk-parallel-item:last-child::after {align-self: flex-start;width: 50%;}#sk-container-id-6 div.sk-parallel-item:only-child::after {width: 0;}#sk-container-id-6 div.sk-dashed-wrapped {border: 1px dashed gray;margin: 0 0.4em 0.5em 0.4em;box-sizing: border-box;padding-bottom: 0.4em;background-color: white;}#sk-container-id-6 div.sk-label label {font-family: monospace;font-weight: bold;display: inline-block;line-height: 1.2em;}#sk-container-id-6 div.sk-label-container {text-align: center;}#sk-container-id-6 div.sk-container {/* jupyter's `normalize.less` sets `[hidden] { display: none; }` but bootstrap.min.css set `[hidden] { display: none !important; }` so we also need the `!important` here to be able to override the default hidden behavior on the sphinx rendered scikit-learn.org. See: https://github.com/scikit-learn/scikit-learn/issues/21755 */display: inline-block !important;position: relative;}#sk-container-id-6 div.sk-text-repr-fallback {display: none;}</style><div id=\"sk-container-id-6\" class=\"sk-top-container\"><div class=\"sk-text-repr-fallback\"><pre>GaussianNB()</pre><b>In a Jupyter environment, please rerun this cell to show the HTML representation or trust the notebook. <br />On GitHub, the HTML representation is unable to render, please try loading this page with nbviewer.org.</b></div><div class=\"sk-container\" hidden><div class=\"sk-item\"><div class=\"sk-estimator sk-toggleable\"><input class=\"sk-toggleable__control sk-hidden--visually\" id=\"sk-estimator-id-6\" type=\"checkbox\" checked><label for=\"sk-estimator-id-6\" class=\"sk-toggleable__label sk-toggleable__label-arrow\">GaussianNB</label><div class=\"sk-toggleable__content\"><pre>GaussianNB()</pre></div></div></div></div></div>"
      ],
      "text/plain": [
       "GaussianNB()"
      ]
     },
     "execution_count": 74,
     "metadata": {},
     "output_type": "execute_result"
    }
   ],
   "source": [
    "gnb.fit(x_train, y_train)"
   ]
  },
  {
   "cell_type": "code",
   "execution_count": 75,
   "id": "6a0a3abf",
   "metadata": {},
   "outputs": [],
   "source": [
    "gnb_predict_gg = gnb.predict(x_test)"
   ]
  },
  {
   "cell_type": "code",
   "execution_count": 76,
   "id": "d80b717b",
   "metadata": {},
   "outputs": [
    {
     "data": {
      "text/plain": [
       "0.7485119047619048"
      ]
     },
     "execution_count": 76,
     "metadata": {},
     "output_type": "execute_result"
    }
   ],
   "source": [
    "accuracy_score(y_test, gnb_predict_gg)"
   ]
  },
  {
   "cell_type": "markdown",
   "id": "ffdf1876",
   "metadata": {},
   "source": [
    "## ML model Report"
   ]
  },
  {
   "cell_type": "markdown",
   "id": "cde62ca4",
   "metadata": {},
   "source": [
    "#### Dataset Description\n",
    "The dataset contains information about customers, including their demographic details, purchase history, and response to marketing campaigns. The target variable is 'Response', which indicates whether the customer responded to the marketing campaign (1) or not (0)."
   ]
  },
  {
   "cell_type": "markdown",
   "id": "dc775f97",
   "metadata": {},
   "source": [
    "#### Data Preprocessing\n",
    "- Unnecessary columns 'ID' and 'Dt_Customer' were dropped from the dataset.\n",
    "- Categorical variables 'Education', 'Marital_Status', and 'Country' were converted to numerical using one-hot encoding.\n",
    "- The dataset was split into training and testing sets with an 70-30 ratio."
   ]
  },
  {
   "cell_type": "markdown",
   "id": "fdd67748",
   "metadata": {},
   "source": [
    "#### Model Training and Evaluation\n",
    "SVM (Support Vector Machine) Model\n",
    "- Model Parameters: Rbf kernel\n",
    "- Accuracy: 0.8318452380952381\n",
    "\n",
    "Decision Tree Model\n",
    "- Model Parameters: Default settings \n",
    "- Accuracy: 0.8139880952380952\n",
    "\n",
    "Gaussian Naive Bayes Model\n",
    "- Model Parameters: Default settings\n",
    "- Accuracy: 0.7485119047619048"
   ]
  },
  {
   "cell_type": "markdown",
   "id": "8276fe59",
   "metadata": {},
   "source": [
    "#### Model Comparison\n",
    "The SVM model achieved the highest accuracy among the three models with an accuracy of 0.83. The Decision Tree model followed with an accuracy of 0.81, and the Gaussian Naive Bayes model had an accuracy of 0.74."
   ]
  },
  {
   "cell_type": "markdown",
   "id": "925e384e",
   "metadata": {},
   "source": [
    "#### Conclusion:\n",
    "Based on the accuracy scores provided, the Support Vector Machine (SVM) classifier gives the best fit model for the Marketing dataset.It achieved an accuracy score of 83%, which is the highest among the three models. This suggests that the SVM model is better suited for predicting customer response to marketing campaigns in this dataset."
   ]
  },
  {
   "cell_type": "markdown",
   "id": "96a0c3f9",
   "metadata": {},
   "source": [
    "While Support Vector Machine (SVM) showed the highest accuracy, it is essential to consider other performance metrics and perform cross-validation to ensure the robustness of the results. Additionally, feature importance analysis could provide insights into which features influence the predictions the most."
   ]
  },
  {
   "cell_type": "markdown",
   "id": "dedf768b",
   "metadata": {},
   "source": [
    "#### SVM might achieve higher accuracy compared to other classifiers, here are some potential reasons:\n",
    "SVM works well in high-dimensional spaces and is effective when the number of features is greater than the number of samples. In this dataset, it is more features than customers, SVM might handle this situation better than other classifiers.\n",
    "\n",
    "SVM can handle non-linear decision boundaries through the use of kernel functions. This allows SVM to capture complex relationships between features and the target variable.\n",
    "\n",
    "SVM is less prone to overfitting, especially when using a proper regularization parameter (C). It generalizes well to unseen data.\n",
    "\n",
    "SVM is robust against outliers since it focuses on the support vectors near the decision boundary."
   ]
  },
  {
   "cell_type": "code",
   "execution_count": null,
   "id": "378487c5",
   "metadata": {},
   "outputs": [],
   "source": []
  }
 ],
 "metadata": {
  "kernelspec": {
   "display_name": "Python 3 (ipykernel)",
   "language": "python",
   "name": "python3"
  },
  "language_info": {
   "codemirror_mode": {
    "name": "ipython",
    "version": 3
   },
   "file_extension": ".py",
   "mimetype": "text/x-python",
   "name": "python",
   "nbconvert_exporter": "python",
   "pygments_lexer": "ipython3",
   "version": "3.11.2"
  }
 },
 "nbformat": 4,
 "nbformat_minor": 5
}
