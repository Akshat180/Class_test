{
 "cells": [
  {
   "cell_type": "code",
   "execution_count": 8,
   "id": "29ea2cfb",
   "metadata": {},
   "outputs": [
    {
     "name": "stdout",
     "output_type": "stream",
     "text": [
      "2\n",
      "2121"
     ]
    }
   ],
   "source": [
    "n = int(input())\n",
    "for i in range(n,0,-1):\n",
    "    for j in range(n,0,-1):\n",
    "        print(j,end='')\n",
    "        "
   ]
  },
  {
   "cell_type": "code",
   "execution_count": 7,
   "id": "27af8857",
   "metadata": {},
   "outputs": [
    {
     "name": "stdout",
     "output_type": "stream",
     "text": [
      "Enter a value for N: 2\n",
      "2 2 1 1 \n",
      "2\n",
      "2 1 \n",
      "1\n"
     ]
    }
   ],
   "source": [
    "def print_pattern(N):\n",
    "    for i in range(N, 0, -1):\n",
    "        for j in range(N, 0, -1):\n",
    "            for k in range(i):\n",
    "                print(j, end=\" \")\n",
    "        print()\n",
    "\n",
    "# Example usage:\n",
    "N = int(input(\"Enter a value for N: \"))\n",
    "print_pattern(N)\n"
   ]
  },
  {
   "cell_type": "code",
   "execution_count": null,
   "id": "de59619f",
   "metadata": {},
   "outputs": [],
   "source": []
  }
 ],
 "metadata": {
  "kernelspec": {
   "display_name": "Python 3 (ipykernel)",
   "language": "python",
   "name": "python3"
  },
  "language_info": {
   "codemirror_mode": {
    "name": "ipython",
    "version": 3
   },
   "file_extension": ".py",
   "mimetype": "text/x-python",
   "name": "python",
   "nbconvert_exporter": "python",
   "pygments_lexer": "ipython3",
   "version": "3.11.2"
  }
 },
 "nbformat": 4,
 "nbformat_minor": 5
}
