{
 "cells": [
  {
   "cell_type": "code",
   "execution_count": 2,
   "id": "66a9b173",
   "metadata": {},
   "outputs": [
    {
     "name": "stdout",
     "output_type": "stream",
     "text": [
      "1\n",
      "2\n",
      "6909455589863252355\n"
     ]
    }
   ],
   "source": [
    "if __name__ == '__main__':\n",
    "    n = int(input())\n",
    "    integer_list = map(int, input().split())\n",
    "    n1 = tuple(integer_list)\n",
    "    print(hash(n1))"
   ]
  },
  {
   "cell_type": "code",
   "execution_count": 3,
   "id": "8559ad09",
   "metadata": {},
   "outputs": [
    {
     "ename": "KeyboardInterrupt",
     "evalue": "Interrupted by user",
     "output_type": "error",
     "traceback": [
      "\u001b[1;31m---------------------------------------------------------------------------\u001b[0m",
      "\u001b[1;31mKeyboardInterrupt\u001b[0m                         Traceback (most recent call last)",
      "Cell \u001b[1;32mIn[3], line 1\u001b[0m\n\u001b[1;32m----> 1\u001b[0m x \u001b[38;5;241m=\u001b[39m \u001b[38;5;28mint\u001b[39m(\u001b[38;5;28;43minput\u001b[39;49m\u001b[43m(\u001b[49m\u001b[43m)\u001b[49m)\n\u001b[0;32m      2\u001b[0m y \u001b[38;5;241m=\u001b[39m \u001b[38;5;28mint\u001b[39m(\u001b[38;5;28minput\u001b[39m())\n\u001b[0;32m      3\u001b[0m z \u001b[38;5;241m=\u001b[39m \u001b[38;5;28mint\u001b[39m(\u001b[38;5;28minput\u001b[39m())\n",
      "File \u001b[1;32m~\\AppData\\Roaming\\Python\\Python311\\site-packages\\ipykernel\\kernelbase.py:1191\u001b[0m, in \u001b[0;36mKernel.raw_input\u001b[1;34m(self, prompt)\u001b[0m\n\u001b[0;32m   1189\u001b[0m     msg \u001b[38;5;241m=\u001b[39m \u001b[38;5;124m\"\u001b[39m\u001b[38;5;124mraw_input was called, but this frontend does not support input requests.\u001b[39m\u001b[38;5;124m\"\u001b[39m\n\u001b[0;32m   1190\u001b[0m     \u001b[38;5;28;01mraise\u001b[39;00m StdinNotImplementedError(msg)\n\u001b[1;32m-> 1191\u001b[0m \u001b[38;5;28;01mreturn\u001b[39;00m \u001b[38;5;28;43mself\u001b[39;49m\u001b[38;5;241;43m.\u001b[39;49m\u001b[43m_input_request\u001b[49m\u001b[43m(\u001b[49m\n\u001b[0;32m   1192\u001b[0m \u001b[43m    \u001b[49m\u001b[38;5;28;43mstr\u001b[39;49m\u001b[43m(\u001b[49m\u001b[43mprompt\u001b[49m\u001b[43m)\u001b[49m\u001b[43m,\u001b[49m\n\u001b[0;32m   1193\u001b[0m \u001b[43m    \u001b[49m\u001b[38;5;28;43mself\u001b[39;49m\u001b[38;5;241;43m.\u001b[39;49m\u001b[43m_parent_ident\u001b[49m\u001b[43m[\u001b[49m\u001b[38;5;124;43m\"\u001b[39;49m\u001b[38;5;124;43mshell\u001b[39;49m\u001b[38;5;124;43m\"\u001b[39;49m\u001b[43m]\u001b[49m\u001b[43m,\u001b[49m\n\u001b[0;32m   1194\u001b[0m \u001b[43m    \u001b[49m\u001b[38;5;28;43mself\u001b[39;49m\u001b[38;5;241;43m.\u001b[39;49m\u001b[43mget_parent\u001b[49m\u001b[43m(\u001b[49m\u001b[38;5;124;43m\"\u001b[39;49m\u001b[38;5;124;43mshell\u001b[39;49m\u001b[38;5;124;43m\"\u001b[39;49m\u001b[43m)\u001b[49m\u001b[43m,\u001b[49m\n\u001b[0;32m   1195\u001b[0m \u001b[43m    \u001b[49m\u001b[43mpassword\u001b[49m\u001b[38;5;241;43m=\u001b[39;49m\u001b[38;5;28;43;01mFalse\u001b[39;49;00m\u001b[43m,\u001b[49m\n\u001b[0;32m   1196\u001b[0m \u001b[43m\u001b[49m\u001b[43m)\u001b[49m\n",
      "File \u001b[1;32m~\\AppData\\Roaming\\Python\\Python311\\site-packages\\ipykernel\\kernelbase.py:1234\u001b[0m, in \u001b[0;36mKernel._input_request\u001b[1;34m(self, prompt, ident, parent, password)\u001b[0m\n\u001b[0;32m   1231\u001b[0m \u001b[38;5;28;01mexcept\u001b[39;00m \u001b[38;5;167;01mKeyboardInterrupt\u001b[39;00m:\n\u001b[0;32m   1232\u001b[0m     \u001b[38;5;66;03m# re-raise KeyboardInterrupt, to truncate traceback\u001b[39;00m\n\u001b[0;32m   1233\u001b[0m     msg \u001b[38;5;241m=\u001b[39m \u001b[38;5;124m\"\u001b[39m\u001b[38;5;124mInterrupted by user\u001b[39m\u001b[38;5;124m\"\u001b[39m\n\u001b[1;32m-> 1234\u001b[0m     \u001b[38;5;28;01mraise\u001b[39;00m \u001b[38;5;167;01mKeyboardInterrupt\u001b[39;00m(msg) \u001b[38;5;28;01mfrom\u001b[39;00m \u001b[38;5;28mNone\u001b[39m\n\u001b[0;32m   1235\u001b[0m \u001b[38;5;28;01mexcept\u001b[39;00m \u001b[38;5;167;01mException\u001b[39;00m:\n\u001b[0;32m   1236\u001b[0m     \u001b[38;5;28mself\u001b[39m\u001b[38;5;241m.\u001b[39mlog\u001b[38;5;241m.\u001b[39mwarning(\u001b[38;5;124m\"\u001b[39m\u001b[38;5;124mInvalid Message:\u001b[39m\u001b[38;5;124m\"\u001b[39m, exc_info\u001b[38;5;241m=\u001b[39m\u001b[38;5;28;01mTrue\u001b[39;00m)\n",
      "\u001b[1;31mKeyboardInterrupt\u001b[0m: Interrupted by user"
     ]
    }
   ],
   "source": [
    "\n",
    "x = int(input())\n",
    "y = int(input())\n",
    "z = int(input())\n",
    "n = int(input())\n",
    "\n",
    "\n",
    "permutations = [[i,j,k] for i in range(x+1) for j in range(y+1)\n",
    "for k in range(z+1) if sum([i,j,k]) != n]\n",
    "\n",
    "print(permutations)\n"
   ]
  },
  {
   "cell_type": "code",
   "execution_count": 9,
   "id": "674ee585",
   "metadata": {},
   "outputs": [
    {
     "name": "stdout",
     "output_type": "stream",
     "text": [
      "2\n",
      "5 6 4 5\n",
      "[4, 5, 5, 6]\n"
     ]
    }
   ],
   "source": [
    "n = int(input())\n",
    "arr = map(int, input().split())\n",
    "n1= list(set(arr))\n",
    "n1.sort()\n",
    "print(n1)"
   ]
  },
  {
   "cell_type": "code",
   "execution_count": null,
   "id": "af7ea70c",
   "metadata": {},
   "outputs": [],
   "source": [
    "n = int(input())\n",
    "d = {}\n",
    "for i in range(n):\n",
    "    name = input().title()\n",
    "    l=[]\n",
    "    for x in range(3):\n",
    "        score=int(input())\n",
    "        l.append(score)\n",
    "    d.update({name: l})\n",
    "\n",
    "query = input().title()\n",
    "print(sum(d[query])/len(d[query]))\n"
   ]
  },
  {
   "cell_type": "code",
   "execution_count": 6,
   "id": "c8b40f74",
   "metadata": {},
   "outputs": [
    {
     "name": "stdout",
     "output_type": "stream",
     "text": [
      "1\n",
      "1\n",
      "1\n",
      "2\n",
      "[[0, 0, 0], [0, 0, 1], [0, 1, 0], [0, 1, 1], [1, 0, 0], [1, 0, 1], [1, 1, 0], [1, 1, 1]]\n"
     ]
    }
   ],
   "source": [
    "x = int(input())\n",
    "y = int(input())\n",
    "z = int(input())\n",
    "n = int(input())\n",
    "l=[]\n",
    "l1=[]\n",
    "for i in range(x+1):\n",
    "    for j in range(y+1):\n",
    "        for k in range(z+1):\n",
    "            l.append([i,j,k])\n",
    "#             l1.append(l)\n",
    "if sum([i,j,k])!= n:\n",
    "    print(l)\n",
    "    \n",
    "    \n",
    "    \n",
    "    \n",
    "# permutations = [[i,j,k] for i in range(x+1) for j in range(y+1)\n",
    "# for k in range(z+1) if sum([i,j,k]) != n]\n",
    "\n",
    "# print(permutations)    "
   ]
  },
  {
   "cell_type": "code",
   "execution_count": null,
   "id": "1d2ce34a",
   "metadata": {},
   "outputs": [],
   "source": [
    "  d={}\n",
    "    for _ in range(int(input())):\n",
    "        name = input()\n",
    "        score = float(input())\n",
    "        d.update(name:score)\n",
    "     "
   ]
  },
  {
   "cell_type": "code",
   "execution_count": null,
   "id": "4caa2888",
   "metadata": {},
   "outputs": [],
   "source": []
  },
  {
   "cell_type": "code",
   "execution_count": null,
   "id": "1ca660da",
   "metadata": {},
   "outputs": [],
   "source": []
  },
  {
   "cell_type": "code",
   "execution_count": null,
   "id": "2ab52029",
   "metadata": {},
   "outputs": [],
   "source": []
  },
  {
   "cell_type": "raw",
   "id": "6dbc173f",
   "metadata": {},
   "source": []
  },
  {
   "cell_type": "code",
   "execution_count": 25,
   "id": "d91348c9",
   "metadata": {},
   "outputs": [
    {
     "name": "stdout",
     "output_type": "stream",
     "text": [
      "4\n",
      "Harry\n",
      "37.21\n",
      "Berry\n",
      "37.21\n",
      "Tina\n",
      "37.2\n",
      "Akriti\n",
      "41\n",
      "Berry\n",
      "Harry\n"
     ]
    }
   ],
   "source": [
    "Result =[]\n",
    "scorelist = []\n",
    "\n",
    "if __name__ == '__main__':\n",
    "    for _ in range(int(input())):\n",
    "        name = input()\n",
    "        score = float(input())\n",
    "        Result+=[[name,score]]\n",
    "        scorelist+=[score]\n",
    "    b=sorted(list(set(scorelist)))[1] \n",
    "\n",
    "    for a,c in sorted(Result):\n",
    "        if c==b:\n",
    "            print(a)"
   ]
  },
  {
   "cell_type": "code",
   "execution_count": 26,
   "id": "5af6e1b3",
   "metadata": {},
   "outputs": [
    {
     "data": {
      "text/plain": [
       "[['Harry', 37.21], ['Berry', 37.21], ['Tina', 37.2], ['Akriti', 41.0]]"
      ]
     },
     "execution_count": 26,
     "metadata": {},
     "output_type": "execute_result"
    }
   ],
   "source": [
    "Result"
   ]
  },
  {
   "cell_type": "code",
   "execution_count": 27,
   "id": "48a0bee6",
   "metadata": {},
   "outputs": [
    {
     "data": {
      "text/plain": [
       "[37.21, 37.21, 37.2, 41.0]"
      ]
     },
     "execution_count": 27,
     "metadata": {},
     "output_type": "execute_result"
    }
   ],
   "source": [
    "scorelist"
   ]
  },
  {
   "cell_type": "code",
   "execution_count": 28,
   "id": "66cefb7c",
   "metadata": {},
   "outputs": [
    {
     "data": {
      "text/plain": [
       "{37.2, 37.21, 41.0}"
      ]
     },
     "execution_count": 28,
     "metadata": {},
     "output_type": "execute_result"
    }
   ],
   "source": [
    "set(scorelist)"
   ]
  },
  {
   "cell_type": "code",
   "execution_count": 29,
   "id": "1f23a05d",
   "metadata": {},
   "outputs": [
    {
     "data": {
      "text/plain": [
       "[41.0, 37.2, 37.21]"
      ]
     },
     "execution_count": 29,
     "metadata": {},
     "output_type": "execute_result"
    }
   ],
   "source": [
    "list(set(scorelist))"
   ]
  },
  {
   "cell_type": "code",
   "execution_count": 30,
   "id": "8dc8f1be",
   "metadata": {},
   "outputs": [
    {
     "data": {
      "text/plain": [
       "[37.2, 37.21, 41.0]"
      ]
     },
     "execution_count": 30,
     "metadata": {},
     "output_type": "execute_result"
    }
   ],
   "source": [
    "sorted(list(set(scorelist)))"
   ]
  },
  {
   "cell_type": "code",
   "execution_count": 31,
   "id": "3c2607be",
   "metadata": {},
   "outputs": [
    {
     "data": {
      "text/plain": [
       "37.21"
      ]
     },
     "execution_count": 31,
     "metadata": {},
     "output_type": "execute_result"
    }
   ],
   "source": [
    "sorted(list(set(scorelist)))[1]"
   ]
  },
  {
   "cell_type": "code",
   "execution_count": 32,
   "id": "0aff2bfc",
   "metadata": {},
   "outputs": [
    {
     "data": {
      "text/plain": [
       "[['Akriti', 41.0], ['Berry', 37.21], ['Harry', 37.21], ['Tina', 37.2]]"
      ]
     },
     "execution_count": 32,
     "metadata": {},
     "output_type": "execute_result"
    }
   ],
   "source": [
    "sorted(Result)"
   ]
  },
  {
   "cell_type": "code",
   "execution_count": 18,
   "id": "d168fa86",
   "metadata": {},
   "outputs": [
    {
     "name": "stdout",
     "output_type": "stream",
     "text": [
      "hOw\n",
      "H\n"
     ]
    }
   ],
   "source": [
    "def swap_case(s):\n",
    "    new = ''\n",
    "    for i in s:\n",
    "        if i.isupper():\n",
    "            new += (i.lower())\n",
    "        elif i.islower():\n",
    "            new += (i.upper())\n",
    "        else:\n",
    "            new += i   \n",
    "        return new    \n",
    "if __name__ == '__main__':\n",
    "    s = input()\n",
    "    result = swap_case(s)\n",
    "    print(result)  "
   ]
  },
  {
   "cell_type": "code",
   "execution_count": 24,
   "id": "c9de01eb",
   "metadata": {},
   "outputs": [
    {
     "name": "stdout",
     "output_type": "stream",
     "text": [
      "abcdcdca\n",
      "cdc\n",
      "2\n"
     ]
    }
   ],
   "source": [
    "def count_substring(string, sub_string):\n",
    "    find_s =  string.find(sub_string)\n",
    "    c_s = string.count(\"find_s\")\n",
    "    return find_s\n",
    "\n",
    "if __name__ == '__main__':\n",
    "    string = input().strip()\n",
    "    sub_string = input().strip()\n",
    "    \n",
    "    count = count_substring(string, sub_string)\n",
    "    print(count)\n"
   ]
  },
  {
   "cell_type": "code",
   "execution_count": null,
   "id": "fc693fbb",
   "metadata": {},
   "outputs": [],
   "source": [
    "def count_substring(string, sub_string):\n",
    "    count = 0\n",
    "    while string!='':\n",
    "        if string.find(sub_string)!=-1:\n",
    "            count+=1\n",
    "            string = string[string.find(sub_string)+1:]\n",
    "        else:\n",
    "            return count\n",
    "    return count\n",
    "\n",
    "if __name__ == '__main__':\n",
    "    string = input().strip()\n",
    "    sub_string = input().strip()\n",
    "    \n",
    "    count = count_substring(string, sub_string)\n",
    "    print(count)"
   ]
  },
  {
   "cell_type": "code",
   "execution_count": null,
   "id": "4fe7d60a",
   "metadata": {},
   "outputs": [],
   "source": [
    "def count_substring(string, sub_string):\n",
    "    index = [i for i in range(len(string)) if string.startswith(sub_string, i)]\n",
    "    i = len(index)\n",
    "    return i"
   ]
  },
  {
   "cell_type": "code",
   "execution_count": null,
   "id": "598220fd",
   "metadata": {},
   "outputs": [],
   "source": [
    "if __name__ == '__main__':\n",
    "#     The any() function returns True if any item in an iterable are true,\n",
    "#     otherwise it returns False. If the iterable object is empty, the any() function will return False.\n",
    "    s = input()\n",
    "    print(any(map(str.isalnum, s)))\n",
    "    print(any(map(str.isalpha, s)))\n",
    "    print(any(map(str.isdigit, s)))\n",
    "    print(any(map(str.islower, s)))\n",
    "    print(any(map(str.isupper, s)))"
   ]
  },
  {
   "cell_type": "code",
   "execution_count": null,
   "id": "fc5496b0",
   "metadata": {},
   "outputs": [],
   "source": [
    "import textwrap\n",
    "\n",
    "def wrap(string, max_width):\n",
    "    return textwrap.fill(string,max_width)\n",
    "\n",
    "if __name__ == '__main__':"
   ]
  },
  {
   "cell_type": "code",
   "execution_count": null,
   "id": "0792a9c6",
   "metadata": {},
   "outputs": [],
   "source": [
    "#!/bin/python3\n",
    "\n",
    "import math\n",
    "import os\n",
    "import random\n",
    "import re\n",
    "import sys\n",
    "\n",
    "# Complete the solve function below.\n",
    "def solve(s):\n",
    "    name = s.split(\" \")\n",
    "    name1 = list(map(lambda x: x.capitalize(),name)) \n",
    "    return \" \".join(name1)\n",
    "  \n",
    "if __name__ == '__main__':\n",
    "    fptr = open(os.environ['OUTPUT_PATH'], 'w')\n",
    "\n",
    "    s = input()\n",
    "\n",
    "    result = solve(s)\n",
    "\n",
    "    fptr.write(result + '\\n')\n",
    "\n",
    "    fptr.close()\n"
   ]
  },
  {
   "cell_type": "code",
   "execution_count": 4,
   "id": "67837d43",
   "metadata": {},
   "outputs": [
    {
     "data": {
      "text/plain": [
       "[5, 4, 3, 2, 1]"
      ]
     },
     "execution_count": 4,
     "metadata": {},
     "output_type": "execute_result"
    }
   ],
   "source": [
    "l=[1,2,3,4,5]\n",
    "l[::-1]"
   ]
  },
  {
   "cell_type": "code",
   "execution_count": 5,
   "id": "65b6a65d",
   "metadata": {},
   "outputs": [],
   "source": [
    "d = {1:'t',2:'e'}"
   ]
  },
  {
   "cell_type": "code",
   "execution_count": 12,
   "id": "aa678c0f",
   "metadata": {},
   "outputs": [
    {
     "name": "stdout",
     "output_type": "stream",
     "text": [
      "12\n",
      "56\n",
      "44\n",
      "66\n",
      "v\n",
      "85\n",
      "96\n"
     ]
    }
   ],
   "source": [
    "marks= [12,56,44,66,85,96]\n",
    "index =0\n",
    "\n",
    "for mark in marks:\n",
    "    print(mark)\n",
    "    \n",
    "    if (index == 3):\n",
    "        print('v')\n",
    "    index+=1    "
   ]
  },
  {
   "cell_type": "code",
   "execution_count": 17,
   "id": "974e2be9",
   "metadata": {},
   "outputs": [
    {
     "name": "stdout",
     "output_type": "stream",
     "text": [
      "12\n",
      "56\n",
      "44\n",
      "66\n",
      "v\n",
      "85\n",
      "96\n"
     ]
    }
   ],
   "source": [
    "marks= [12,56,44,66,85,96]\n",
    "for index, marks in enumerate(marks):\n",
    "    print(marks)\n",
    "    if(index==3):\n",
    "        print(\"v\")\n"
   ]
  },
  {
   "cell_type": "code",
   "execution_count": null,
   "id": "63fe1ee0",
   "metadata": {},
   "outputs": [],
   "source": []
  },
  {
   "cell_type": "code",
   "execution_count": null,
   "id": "6be2b3ed",
   "metadata": {},
   "outputs": [],
   "source": []
  }
 ],
 "metadata": {
  "kernelspec": {
   "display_name": "Python 3 (ipykernel)",
   "language": "python",
   "name": "python3"
  },
  "language_info": {
   "codemirror_mode": {
    "name": "ipython",
    "version": 3
   },
   "file_extension": ".py",
   "mimetype": "text/x-python",
   "name": "python",
   "nbconvert_exporter": "python",
   "pygments_lexer": "ipython3",
   "version": "3.11.2"
  }
 },
 "nbformat": 4,
 "nbformat_minor": 5
}
