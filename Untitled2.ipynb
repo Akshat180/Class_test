{
 "cells": [
  {
   "cell_type": "code",
   "execution_count": 1,
   "id": "6939d0ea",
   "metadata": {},
   "outputs": [],
   "source": []
  },
  {
   "cell_type": "code",
   "execution_count": 2,
   "id": "54c023d5",
   "metadata": {},
   "outputs": [
    {
     "name": "stdout",
     "output_type": "stream",
     "text": [
      "4\n",
      "5\n",
      "3\n",
      "6\n"
     ]
    }
   ],
   "source": [
    "l1 = [4,5,3,6]\n",
    "for i in l1:\n",
    "    print(i)"
   ]
  },
  {
   "cell_type": "code",
   "execution_count": 5,
   "id": "2dc114b8",
   "metadata": {},
   "outputs": [
    {
     "name": "stdout",
     "output_type": "stream",
     "text": [
      "akshat\n",
      "None\n"
     ]
    }
   ],
   "source": [
    "x = print('akshat') \n",
    "print(x)"
   ]
  },
  {
   "cell_type": "code",
   "execution_count": 13,
   "id": "1f3effe2",
   "metadata": {},
   "outputs": [
    {
     "data": {
      "text/plain": [
       "tuple"
      ]
     },
     "execution_count": 13,
     "metadata": {},
     "output_type": "execute_result"
    }
   ],
   "source": [
    "t=(2,)\n",
    "type(t)"
   ]
  },
  {
   "cell_type": "code",
   "execution_count": 20,
   "id": "5ba35bd2",
   "metadata": {},
   "outputs": [
    {
     "name": "stdout",
     "output_type": "stream",
     "text": [
      "enter n15\n",
      "enter n22\n",
      "enter the number2\n",
      "enter the number5\n",
      "enter the number9\n",
      "enter the number6\n",
      "enter the number8\n",
      "enter the number5\n",
      "enter the number8\n",
      "enter the number6\n",
      "enter the number8\n",
      "enter the number\n"
     ]
    }
   ],
   "source": [
    "# n1*n2\n",
    "n1 = int(input('enter n1'))\n",
    "n2 = int(input('enter n2'))\n",
    "l = []\n",
    "l1 = []\n",
    "for i in range(n1):\n",
    "    for j in range(n2):\n",
    "        x = input('enter the number')\n",
    "        l1.append(x)\n",
    "    l.append(l1)\n",
    "    l1= []\n",
    "        \n",
    "    "
   ]
  },
  {
   "cell_type": "code",
   "execution_count": 21,
   "id": "90ac2b3d",
   "metadata": {},
   "outputs": [
    {
     "data": {
      "text/plain": [
       "[['2', '5'], ['9', '6'], ['8', '5'], ['8', '6'], ['8', '']]"
      ]
     },
     "execution_count": 21,
     "metadata": {},
     "output_type": "execute_result"
    }
   ],
   "source": [
    "l"
   ]
  },
  {
   "cell_type": "code",
   "execution_count": null,
   "id": "0aa44779",
   "metadata": {},
   "outputs": [],
   "source": []
  },
  {
   "cell_type": "code",
   "execution_count": 24,
   "id": "9d4fd434",
   "metadata": {},
   "outputs": [
    {
     "ename": "SyntaxError",
     "evalue": "invalid syntax (587338622.py, line 4)",
     "output_type": "error",
     "traceback": [
      "\u001b[1;36m  Cell \u001b[1;32mIn[24], line 4\u001b[1;36m\u001b[0m\n\u001b[1;33m    i++\u001b[0m\n\u001b[1;37m       ^\u001b[0m\n\u001b[1;31mSyntaxError\u001b[0m\u001b[1;31m:\u001b[0m invalid syntax\n"
     ]
    }
   ],
   "source": [
    "# x = print\n",
    "# x ke andar print ki definition chli jaegi"
   ]
  },
  {
   "cell_type": "code",
   "execution_count": 25,
   "id": "52ea04de",
   "metadata": {},
   "outputs": [
    {
     "name": "stdout",
     "output_type": "stream",
     "text": [
      "<built-in function print>\n"
     ]
    }
   ],
   "source": [
    "x= print\n",
    "print(x)"
   ]
  },
  {
   "cell_type": "code",
   "execution_count": 26,
   "id": "29fd54bb",
   "metadata": {},
   "outputs": [
    {
     "name": "stdout",
     "output_type": "stream",
     "text": [
      "<built-in function len>\n"
     ]
    }
   ],
   "source": [
    "x = len\n",
    "print(x)"
   ]
  },
  {
   "cell_type": "code",
   "execution_count": 28,
   "id": "269d5d6e",
   "metadata": {},
   "outputs": [
    {
     "name": "stdout",
     "output_type": "stream",
     "text": [
      "2\n",
      "None\n"
     ]
    }
   ],
   "source": [
    "x = print(len('hi'))\n",
    "print(x)"
   ]
  },
  {
   "cell_type": "code",
   "execution_count": 29,
   "id": "a2da03e1",
   "metadata": {},
   "outputs": [
    {
     "name": "stdout",
     "output_type": "stream",
     "text": [
      "\n",
      "None\n"
     ]
    }
   ],
   "source": [
    "print(print())"
   ]
  },
  {
   "cell_type": "code",
   "execution_count": 30,
   "id": "f0297cec",
   "metadata": {},
   "outputs": [
    {
     "name": "stdout",
     "output_type": "stream",
     "text": [
      "140728964938056\n"
     ]
    }
   ],
   "source": [
    "x = 50\n",
    "y = 50\n",
    "print(id(x))"
   ]
  },
  {
   "cell_type": "code",
   "execution_count": 31,
   "id": "0ba11d03",
   "metadata": {},
   "outputs": [
    {
     "name": "stdout",
     "output_type": "stream",
     "text": [
      "140728964938056\n"
     ]
    }
   ],
   "source": [
    "print(id(y))"
   ]
  },
  {
   "cell_type": "code",
   "execution_count": 32,
   "id": "5a670dfb",
   "metadata": {},
   "outputs": [
    {
     "name": "stdout",
     "output_type": "stream",
     "text": [
      "140728964936488\n"
     ]
    }
   ],
   "source": [
    "l = [1,2,3]\n",
    "# in this there are 4 object\n",
    "print(id(l[0]))"
   ]
  },
  {
   "cell_type": "code",
   "execution_count": 33,
   "id": "f80c5977",
   "metadata": {},
   "outputs": [
    {
     "name": "stdout",
     "output_type": "stream",
     "text": [
      "2281245181312\n"
     ]
    }
   ],
   "source": [
    "print(id(l))"
   ]
  },
  {
   "cell_type": "code",
   "execution_count": 34,
   "id": "5b24fa60",
   "metadata": {},
   "outputs": [],
   "source": [
    "l= [1,'hi',2]\n",
    "m= [1,'hi',2]\n",
    "k=l"
   ]
  },
  {
   "cell_type": "code",
   "execution_count": 35,
   "id": "c6dbda3e",
   "metadata": {},
   "outputs": [
    {
     "name": "stdout",
     "output_type": "stream",
     "text": [
      "2281244109248\n",
      "2281242827264\n",
      "2281244109248\n"
     ]
    }
   ],
   "source": [
    "print(id(l))\n",
    "print(id(m))\n",
    "print(id(k))"
   ]
  },
  {
   "cell_type": "code",
   "execution_count": 36,
   "id": "a9fbb3ce",
   "metadata": {},
   "outputs": [
    {
     "name": "stdout",
     "output_type": "stream",
     "text": [
      "140728964936488\n",
      "140728964936488\n"
     ]
    }
   ],
   "source": [
    "print(id(l[0]))\n",
    "print(id(m[0]))"
   ]
  },
  {
   "cell_type": "code",
   "execution_count": 37,
   "id": "598558ca",
   "metadata": {},
   "outputs": [
    {
     "name": "stdout",
     "output_type": "stream",
     "text": [
      "9 7 5 3 1 \n",
      "8 6 4 2 \n",
      "7 5 3 \n",
      "6 4 \n",
      "5 \n"
     ]
    }
   ],
   "source": [
    "n = 5\n",
    "x = 9\n",
    "for i in range(1,n+1):\n",
    "    p=x \n",
    "    for j in range(1,n+1-i+1):\n",
    "        print(p,end= \" \")\n",
    "        p=p-2\n",
    "    print()\n",
    "    x=x-1  "
   ]
  },
  {
   "cell_type": "code",
   "execution_count": 41,
   "id": "af079c97",
   "metadata": {},
   "outputs": [
    {
     "name": "stdout",
     "output_type": "stream",
     "text": [
      "9 8 7 6 5 \n",
      "7 6 5 4 \n",
      "5 4 3 \n",
      "3 2 \n",
      "1 \n"
     ]
    }
   ],
   "source": [
    "x= 5\n",
    "n = 9\n",
    "for i in range(1,x+1):\n",
    "    p=n\n",
    "    for j in range(1,x+1-i+1):\n",
    "        print(p,end=\" \")\n",
    "        p=p-1\n",
    "    print()\n",
    "    n=n-2"
   ]
  },
  {
   "cell_type": "code",
   "execution_count": 45,
   "id": "7eac68a3",
   "metadata": {},
   "outputs": [
    {
     "name": "stdout",
     "output_type": "stream",
     "text": [
      "1 \n",
      "0 1 \n",
      "0 1 0 \n",
      "1 0 1 0 \n",
      "1 0 1 0 1 \n",
      "0 1 0 1 0 1 \n"
     ]
    }
   ],
   "source": [
    "x=6\n",
    "n=1\n",
    "for i in range(1,x+1):\n",
    "    for j in range(1,i+1):\n",
    "        print(n,end=' ')\n",
    "        if n==1:\n",
    "            n=0\n",
    "        else:\n",
    "            n=1\n",
    "    print()"
   ]
  },
  {
   "cell_type": "code",
   "execution_count": 60,
   "id": "f23ee15f",
   "metadata": {},
   "outputs": [
    {
     "name": "stdout",
     "output_type": "stream",
     "text": [
      "1 \n",
      "2 6 \n",
      "3 7 10 \n",
      "4 8 11 13 \n",
      "5 9 12 14 15 \n"
     ]
    }
   ],
   "source": [
    "n = 5\n",
    "for i in range(1,n+1):\n",
    "    z = 4\n",
    "    for j in range(1,i+1):\n",
    "        print(i,end=' ')\n",
    "        i+=z\n",
    "        z-=1\n",
    "    print()"
   ]
  },
  {
   "cell_type": "code",
   "execution_count": 64,
   "id": "477d8d29",
   "metadata": {},
   "outputs": [
    {
     "name": "stdout",
     "output_type": "stream",
     "text": [
      "1 \n",
      "2 3 \n",
      "4 5 6 \n",
      "7 8 9 10 \n",
      "11 12 13 14 15 \n"
     ]
    }
   ],
   "source": [
    "n = 5\n",
    "x=1\n",
    "for i in range(1,n+1):\n",
    "    for j in range(1,i+1):\n",
    "        print(x,end=' ')\n",
    "        x+=1\n",
    "    print()"
   ]
  },
  {
   "cell_type": "code",
   "execution_count": 65,
   "id": "db61269d",
   "metadata": {},
   "outputs": [
    {
     "name": "stdout",
     "output_type": "stream",
     "text": [
      "1 \n",
      "2 2 \n",
      "3 3 3 \n",
      "4 4 4 4 \n",
      "5 5 5 5 5 \n"
     ]
    }
   ],
   "source": [
    "n = 5\n",
    "for i in range(1,n+1):\n",
    "    for j in range(1,i+1):\n",
    "        print(i,end=' ')\n",
    "    print()"
   ]
  },
  {
   "cell_type": "code",
   "execution_count": null,
   "id": "66455fd3",
   "metadata": {},
   "outputs": [],
   "source": []
  }
 ],
 "metadata": {
  "kernelspec": {
   "display_name": "Python 3 (ipykernel)",
   "language": "python",
   "name": "python3"
  },
  "language_info": {
   "codemirror_mode": {
    "name": "ipython",
    "version": 3
   },
   "file_extension": ".py",
   "mimetype": "text/x-python",
   "name": "python",
   "nbconvert_exporter": "python",
   "pygments_lexer": "ipython3",
   "version": "3.11.2"
  }
 },
 "nbformat": 4,
 "nbformat_minor": 5
}
