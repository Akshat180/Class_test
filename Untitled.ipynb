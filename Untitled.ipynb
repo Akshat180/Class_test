{
 "cells": [
  {
   "cell_type": "code",
   "execution_count": 2,
   "id": "56288fc2",
   "metadata": {},
   "outputs": [
    {
     "ename": "IndentationError",
     "evalue": "unindent does not match any outer indentation level (<tokenize>, line 16)",
     "output_type": "error",
     "traceback": [
      "\u001b[1;36m  File \u001b[1;32m<tokenize>:16\u001b[1;36m\u001b[0m\n\u001b[1;33m    Take out those elements from the list which have the same absolute index value (-ve and +ve index value is same)\u001b[0m\n\u001b[1;37m    ^\u001b[0m\n\u001b[1;31mIndentationError\u001b[0m\u001b[1;31m:\u001b[0m unindent does not match any outer indentation level\n"
     ]
    }
   ],
   "source": []
  },
  {
   "cell_type": "code",
   "execution_count": 9,
   "id": "7ca05d5d",
   "metadata": {},
   "outputs": [
    {
     "name": "stdout",
     "output_type": "stream",
     "text": [
      "[3, 4, 6, 2, 6, 7, 6, 9, 10, 7, 4, 4, 5, 3, 2, 9, 0, 0, 0, 0, 0, 0, 0, 0, 0]\n"
     ]
    }
   ],
   "source": [
    "# 1. Write a Python program to move all zero digits to the end of a given list of numbers\n",
    "# \tInput: [3, 4, 0, 0, 0, 6, 2, 0, 6, 7, 6, 0, 0, 0, 9, 10, 7, 4, 4, 5, 3, 0, 0, 2, 9]\n",
    "# \tOutput: [3, 4, 6, 2, 6, 7, 6, 9, 10, 7, 4, 4, 5, 3, 2, 9, 0, 0, 0, 0, 0, 0, 0, 0, 0]\n",
    "l = [3, 4, 0, 0, 0, 6, 2, 0, 6, 7, 6, 0, 0, 0, 9, 10, 7, 4, 4, 5, 3, 0, 0, 2, 9]\n",
    "l2=[]\n",
    "l3=[]\n",
    "for i in l:\n",
    "    if i == 0:\n",
    "        l2.append(i)\n",
    "    else:\n",
    "        l3.append(i)\n",
    "\n",
    "for i in l2:\n",
    "    l3.append(i)\n",
    "\n",
    "print(l3)    "
   ]
  },
  {
   "cell_type": "code",
   "execution_count": null,
   "id": "1e043e6c",
   "metadata": {},
   "outputs": [],
   "source": [
    "      "
   ]
  },
  {
   "cell_type": "code",
   "execution_count": 49,
   "id": "2bf361a5",
   "metadata": {},
   "outputs": [
    {
     "name": "stdout",
     "output_type": "stream",
     "text": [
      "num: 6\n",
      "[(6, 24, 12), (60, 12, 6)]\n"
     ]
    }
   ],
   "source": [
    "# 2. Python program to find tuples that have all elements divisible by K from a list of tuples\n",
    "# \tInput: test_list = [(6, 24, 12), (60, 12, 6), (12, 18, 21)],\n",
    "# \t\t\tK = 6 \n",
    "# \tOutput : [(6, 24, 12), (60, 12, 6)]\n",
    "        \n",
    "n= int(input(\"num: \"))        \n",
    "\n",
    "l =  [(6, 24, 12), (60, 12, 6), (12, 18, 21)]\n",
    "l1 =[]\n",
    "for i in l:\n",
    "    x=0\n",
    "    for j in i:\n",
    "        if j%n==0:\n",
    "            x+=1\n",
    "            \n",
    "    if x==len(i):\n",
    "        l1.append(i)\n",
    "        \n",
    "print(l1)            "
   ]
  },
  {
   "cell_type": "code",
   "execution_count": 21,
   "id": "0c2c3f31",
   "metadata": {},
   "outputs": [
    {
     "name": "stdout",
     "output_type": "stream",
     "text": [
      "[(1, 1), (2, 8), (3, 27)]\n"
     ]
    }
   ],
   "source": [
    "#3  Python program to create a list of tuples from a given list having a number and its cube in each tuple\n",
    "# \tInput: list = [1, 2, 3]\n",
    "# \tOutput: [(1, 1), (2, 8), (3, 27)]\n",
    "\n",
    "l = [1,2,3]  \n",
    "d={}\n",
    "for i in l:\n",
    "    x=i*i*i\n",
    "    d.update({i:x})\n",
    "    \n",
    "l1 = list(d.items())\n",
    "print(l1)     "
   ]
  },
  {
   "cell_type": "code",
   "execution_count": 9,
   "id": "8cc9d843",
   "metadata": {},
   "outputs": [
    {
     "name": "stdout",
     "output_type": "stream",
     "text": [
      "89\n",
      "91\n",
      "90.0\n"
     ]
    }
   ],
   "source": [
    "# 5. Given 2 lists having following information:\n",
    "# \tl1 = ['M', 'F', 'M', 'F', 'F', 'F', 'M', 'M', 'F'], Sex of the students in a class\n",
    "# \tl2 = [74, 89, 83, 91, 84, 76, 94, 89, 82], Marks obtained by the students in maths subject\n",
    "# \tFind the average marks of all the females who have scored more than 85 marks in maths.\n",
    "    \n",
    "    \n",
    "l1 = ['M', 'F', 'M', 'F', 'F', 'F', 'M', 'M', 'F'] \n",
    "l2 = [74 , 89 , 83 , 91 , 84 , 76 , 94 , 89 , 82]\n",
    "x=0\n",
    "c=0\n",
    "for i in range(len(l1)):\n",
    "    if ((l1[i]) == \"F\" and  l2[i]>85):\n",
    "            print(l2[i])\n",
    "            x= x+l2[i]\n",
    "            c+=1    \n",
    "            avg = x/c\n",
    "                \n",
    "\n",
    "print(avg)                \n"
   ]
  },
  {
   "cell_type": "code",
   "execution_count": 12,
   "id": "e2e86f2d",
   "metadata": {},
   "outputs": [
    {
     "name": "stdout",
     "output_type": "stream",
     "text": [
      "89\n",
      "91\n",
      "90.0\n"
     ]
    }
   ],
   "source": [
    "\n"
   ]
  },
  {
   "cell_type": "code",
   "execution_count": 1,
   "id": "1420d733",
   "metadata": {},
   "outputs": [
    {
     "name": "stdout",
     "output_type": "stream",
     "text": [
      "[(1, 1), (2, 8), (3, 27)]\n"
     ]
    },
    {
     "data": {
      "text/plain": [
       "{1: 1, 2: 8, 3: 27}"
      ]
     },
     "execution_count": 1,
     "metadata": {},
     "output_type": "execute_result"
    }
   ],
   "source": [
    "\n",
    "l = [1,2,3]  \n",
    "d={}\n",
    "for i in l:\n",
    "    x=i*i*i\n",
    "    d.update({i:x})\n",
    "    \n",
    "l1 = list(d.items())\n",
    "print(l1)     \n",
    "\n",
    "\n",
    "\n",
    "d = {i:i**3 for i in l }\n",
    "d"
   ]
  },
  {
   "cell_type": "code",
   "execution_count": 1,
   "id": "819fa946",
   "metadata": {},
   "outputs": [
    {
     "name": "stdout",
     "output_type": "stream",
     "text": [
      "Output Dictionary using dictionary comprehensions: {'Gujarat': 'Gandhinagar', 'Maharashtra': 'Mumbai', 'Rajasthan': 'Jaipur'}\n"
     ]
    }
   ],
   "source": [
    "state = ['Gujarat', 'Maharashtra', 'Rajasthan']\n",
    "capital = ['Gandhinagar', 'Mumbai', 'Jaipur']\n",
    "  \n",
    "dict_using_comp = {key:value for (key, value) in zip(state, capital)}\n",
    "  \n",
    "print(\"Output Dictionary using dictionary comprehensions:\", \n",
    "                                           dict_using_comp)"
   ]
  },
  {
   "cell_type": "code",
   "execution_count": null,
   "id": "2a356027",
   "metadata": {},
   "outputs": [],
   "source": [
    "n[['hindi','english','maths']].sum()/len(n)"
   ]
  },
  {
   "cell_type": "code",
   "execution_count": 8,
   "id": "2cf40e11",
   "metadata": {},
   "outputs": [
    {
     "name": "stdout",
     "output_type": "stream",
     "text": [
      "5 2\n",
      "5\n",
      "7\n"
     ]
    }
   ],
   "source": [
    "x = input()\n",
    "x= x.split(' ')\n",
    "c=0\n",
    "for i in x:\n",
    "    c=c+int(i)\n",
    "    print(c)\n"
   ]
  },
  {
   "cell_type": "code",
   "execution_count": null,
   "id": "32459e3b",
   "metadata": {},
   "outputs": [],
   "source": []
  },
  {
   "cell_type": "code",
   "execution_count": null,
   "id": "e03b4fd2",
   "metadata": {},
   "outputs": [],
   "source": []
  }
 ],
 "metadata": {
  "kernelspec": {
   "display_name": "Python 3 (ipykernel)",
   "language": "python",
   "name": "python3"
  },
  "language_info": {
   "codemirror_mode": {
    "name": "ipython",
    "version": 3
   },
   "file_extension": ".py",
   "mimetype": "text/x-python",
   "name": "python",
   "nbconvert_exporter": "python",
   "pygments_lexer": "ipython3",
   "version": "3.11.2"
  }
 },
 "nbformat": 4,
 "nbformat_minor": 5
}
